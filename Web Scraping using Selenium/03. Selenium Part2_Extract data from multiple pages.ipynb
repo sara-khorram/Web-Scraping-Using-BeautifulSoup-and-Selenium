{
 "cells": [
  {
   "cell_type": "markdown",
   "metadata": {},
   "source": [
    "# data-hub:\n",
    "\n",
    "*   Website:           Data-Hub.ir\n",
    "*   Youtube: [click here](https://www.youtube.com/channel/UCrBcbQWcD0ortWqHAlP94ug)\n",
    "*   Github: github.com/datahub-ir\n",
    "   Telegram Channel: @**data_hub_ir*\n",
    "*   Telegram Group:    @data_jobs"
   ]
  },
  {
   "cell_type": "markdown",
   "metadata": {},
   "source": [
    "___________"
   ]
  },
  {
   "cell_type": "markdown",
   "metadata": {},
   "source": [
    "# Import the required libraries and modules"
   ]
  },
  {
   "cell_type": "code",
   "execution_count": 1,
   "metadata": {},
   "outputs": [],
   "source": [
    "from selenium import webdriver\n",
    "from selenium.webdriver.common.by import By\n",
    "from selenium.webdriver.chrome.service import Service\n",
    "\n",
    "from selenium.webdriver.support.ui import WebDriverWait\n",
    "from selenium.webdriver.support import expected_conditions as EC\n",
    "\n",
    "import pandas as pd\n",
    "import time "
   ]
  },
  {
   "cell_type": "markdown",
   "metadata": {},
   "source": [
    "# Setup and Start"
   ]
  },
  {
   "cell_type": "code",
   "execution_count": 19,
   "metadata": {},
   "outputs": [],
   "source": [
    "start_time = time.time()\n",
    "url = 'https://www.yelp.com/'\n",
    "s = Service('chromedriver_win32/chromedriver.exe') # The path to your driver\n",
    "\n",
    "driver = webdriver.Chrome(service = s)\n",
    "driver.get(url)\n",
    "time.sleep(3)"
   ]
  },
  {
   "cell_type": "markdown",
   "metadata": {},
   "source": [
    "# Search about Restaurants"
   ]
  },
  {
   "cell_type": "code",
   "execution_count": 20,
   "metadata": {},
   "outputs": [],
   "source": [
    "find_section = driver.find_element(By.ID, value = 'find_desc')\n",
    "find_section.click()\n",
    "find_section.send_keys('Restaurants')"
   ]
  },
  {
   "cell_type": "code",
   "execution_count": 21,
   "metadata": {},
   "outputs": [],
   "source": [
    "search_button = driver.find_element(By.ID, value = 'header-search-submit')\n",
    "search_button.click()\n",
    "time.sleep(3)"
   ]
  },
  {
   "cell_type": "code",
   "execution_count": 22,
   "metadata": {},
   "outputs": [],
   "source": [
    "WebDriverWait(driver, 10).until(EC.element_to_be_clickable((By.ID, \"onetrust-accept-btn-handler\"))).click()"
   ]
  },
  {
   "cell_type": "markdown",
   "metadata": {},
   "source": [
    "# Find Data"
   ]
  },
  {
   "cell_type": "code",
   "execution_count": 25,
   "metadata": {},
   "outputs": [
    {
     "name": "stdout",
     "output_type": "stream",
     "text": [
      "How long does it take to scrape the whole webpage? 766.9746551513672 seconds\n"
     ]
    }
   ],
   "source": [
    "data = []\n",
    "\n",
    "while True:\n",
    "    try:\n",
    "        all_items = driver.find_elements(By.XPATH, value = \"//div[@class=' container__09f24__mpR8_ hoverable__09f24__wQ_on margin-t3__09f24__riq4X margin-b3__09f24__l9v5d padding-t3__09f24__TMrIW padding-r3__09f24__eaF7p padding-b3__09f24__S8R2d padding-l3__09f24__IOjKY border--top__09f24__exYYb border--right__09f24__X7Tln border--bottom__09f24___mg5X border--left__09f24__DMOkM border-color--default__09f24__NPAKY']\")\n",
    "        for item in all_items:\n",
    "            try:\n",
    "                name = item.find_element(By.XPATH, value = \".//a[@class='css-1422juy']\").text\n",
    "            except:\n",
    "                name = 'Unknown'\n",
    "\n",
    "            try:\n",
    "                location = item.find_element(By.XPATH, value = \".//span[@class=' css-1e4fdj9']\").text\n",
    "            except:\n",
    "                location = 'Unknown'\n",
    "\n",
    "            try:\n",
    "                review_counts = item.find_element(By.XPATH, value = \".//span[@class='reviewCount__09f24__tnBk4 css-1e4fdj9']\").text\n",
    "            except:\n",
    "                review_counts = -1\n",
    "\n",
    "            try:\n",
    "                stars = item.find_element(By.XPATH, value = \".//span[@class=' display--inline__09f24__c6N_k border-color--default__09f24__NPAKY']/div[@role='img']\")\n",
    "                stars_number = stars.get_attribute('aria-label').split(' ')[0]\n",
    "            except:\n",
    "                stars_number = -1\n",
    "\n",
    "            data.append([name, location, int(review_counts), float(stars_number)])\n",
    "        \n",
    "        next_page = driver.find_element(By.XPATH, value = \"//a[@class='next-link navigation-button__09f24__m9qRz css-1pxws0l']\")\n",
    "#         next_page.click()\n",
    "        driver.execute_script(\"arguments[0].click();\", next_page)\n",
    "        time.sleep(3)\n",
    "            \n",
    "    except:\n",
    "        break\n",
    "        \n",
    "print('How long does it take to scrape the whole webpage? {} seconds'.format(time.time() - start_time))"
   ]
  },
  {
   "cell_type": "code",
   "execution_count": 24,
   "metadata": {},
   "outputs": [
    {
     "data": {
      "text/plain": [
       "[['Cuisine of Nepal', 'Bernal Heights', 648, 4.5],\n",
       " ['Dumpling Park', 'Inner Sunset', 139, 3.5],\n",
       " ['Marufuku Ramen', 'Lower Pacific Heights', 3615, 4.5],\n",
       " ['Farmhouse Kitchen Thai Cuisine', 'Mission', 3042, 4.0],\n",
       " ['Sotto Mare Oysteria & Seafood', 'North Beach/Telegraph Hill', 4234, 4.5],\n",
       " ['Burma Superstar', 'Inner Richmond', 7028, 4.0],\n",
       " ['Fog Harbor Fish House', \"Fisherman's Wharf\", 7144, 4.5],\n",
       " ['Daeho Kalbijjim & Beef Soup', 'Japantown', 1230, 4.5],\n",
       " ['California Fish Market Restaurant', 'North Beach/Telegraph Hill', 337, 4.5],\n",
       " ['Kokkari Estiatorio', 'Financial District', 4718, 4.5],\n",
       " ['Parada 22', 'The Haight', 1315, 4.0],\n",
       " ['Lokma', 'Outer Richmond', 441, 4.5],\n",
       " ['Besharam', 'Potrero Hill', 272, 3.5],\n",
       " ['Unfurl', 'Mission Bay', 22, 4.0],\n",
       " ['Cuisine of Nepal', 'Bernal Heights', 648, 4.5],\n",
       " ['Komaaj', 'Mission', 130, 5.0],\n",
       " ['a Mano', 'Hayes Valley', 1197, 4.0],\n",
       " ['Jaranita', 'Marina/Cow Hollow', 158, 4.5],\n",
       " ['Dumpling House', 'Castro', 273, 4.5],\n",
       " ['Starbelly', 'Castro', 1998, 4.0],\n",
       " ['Dumpling Home', 'Hayes Valley', 360, 4.5]]"
      ]
     },
     "execution_count": 24,
     "metadata": {},
     "output_type": "execute_result"
    }
   ],
   "source": [
    "data"
   ]
  },
  {
   "cell_type": "code",
   "execution_count": 15,
   "metadata": {},
   "outputs": [
    {
     "data": {
      "text/plain": [
       "312"
      ]
     },
     "execution_count": 15,
     "metadata": {},
     "output_type": "execute_result"
    }
   ],
   "source": [
    "len(data)"
   ]
  },
  {
   "cell_type": "markdown",
   "metadata": {},
   "source": [
    "# Create Pandas Dataframe"
   ]
  },
  {
   "cell_type": "code",
   "execution_count": 16,
   "metadata": {},
   "outputs": [],
   "source": [
    "df = pd.DataFrame(data, columns = ['Name', 'Location', 'ReviewCounts', 'StarsNumber'])"
   ]
  },
  {
   "cell_type": "code",
   "execution_count": 17,
   "metadata": {},
   "outputs": [
    {
     "data": {
      "text/html": [
       "<div>\n",
       "<style scoped>\n",
       "    .dataframe tbody tr th:only-of-type {\n",
       "        vertical-align: middle;\n",
       "    }\n",
       "\n",
       "    .dataframe tbody tr th {\n",
       "        vertical-align: top;\n",
       "    }\n",
       "\n",
       "    .dataframe thead th {\n",
       "        text-align: right;\n",
       "    }\n",
       "</style>\n",
       "<table border=\"1\" class=\"dataframe\">\n",
       "  <thead>\n",
       "    <tr style=\"text-align: right;\">\n",
       "      <th></th>\n",
       "      <th>Name</th>\n",
       "      <th>Location</th>\n",
       "      <th>ReviewCounts</th>\n",
       "      <th>StarsNumber</th>\n",
       "    </tr>\n",
       "  </thead>\n",
       "  <tbody>\n",
       "    <tr>\n",
       "      <th>0</th>\n",
       "      <td>Cuisine of Nepal</td>\n",
       "      <td>Bernal Heights</td>\n",
       "      <td>648</td>\n",
       "      <td>4.5</td>\n",
       "    </tr>\n",
       "    <tr>\n",
       "      <th>1</th>\n",
       "      <td>Dumpling Park</td>\n",
       "      <td>Inner Sunset</td>\n",
       "      <td>139</td>\n",
       "      <td>3.5</td>\n",
       "    </tr>\n",
       "    <tr>\n",
       "      <th>2</th>\n",
       "      <td>Marufuku Ramen</td>\n",
       "      <td>Lower Pacific Heights</td>\n",
       "      <td>3615</td>\n",
       "      <td>4.5</td>\n",
       "    </tr>\n",
       "    <tr>\n",
       "      <th>3</th>\n",
       "      <td>Farmhouse Kitchen Thai Cuisine</td>\n",
       "      <td>Mission</td>\n",
       "      <td>3042</td>\n",
       "      <td>4.0</td>\n",
       "    </tr>\n",
       "    <tr>\n",
       "      <th>4</th>\n",
       "      <td>Vico Cavone</td>\n",
       "      <td>Castro</td>\n",
       "      <td>50</td>\n",
       "      <td>4.5</td>\n",
       "    </tr>\n",
       "    <tr>\n",
       "      <th>...</th>\n",
       "      <td>...</td>\n",
       "      <td>...</td>\n",
       "      <td>...</td>\n",
       "      <td>...</td>\n",
       "    </tr>\n",
       "    <tr>\n",
       "      <th>307</th>\n",
       "      <td>Lucky Pig</td>\n",
       "      <td>Tenderloin</td>\n",
       "      <td>219</td>\n",
       "      <td>4.0</td>\n",
       "    </tr>\n",
       "    <tr>\n",
       "      <th>308</th>\n",
       "      <td>Daeho Kalbijjim &amp; Beef Soup</td>\n",
       "      <td>Ingleside Heights</td>\n",
       "      <td>69</td>\n",
       "      <td>4.0</td>\n",
       "    </tr>\n",
       "    <tr>\n",
       "      <th>309</th>\n",
       "      <td>IZUMIYA</td>\n",
       "      <td>Japantown</td>\n",
       "      <td>80</td>\n",
       "      <td>4.0</td>\n",
       "    </tr>\n",
       "    <tr>\n",
       "      <th>310</th>\n",
       "      <td>Ramenwell</td>\n",
       "      <td>Mission</td>\n",
       "      <td>241</td>\n",
       "      <td>4.5</td>\n",
       "    </tr>\n",
       "    <tr>\n",
       "      <th>311</th>\n",
       "      <td>Strada Pizza</td>\n",
       "      <td>Parkside</td>\n",
       "      <td>96</td>\n",
       "      <td>4.5</td>\n",
       "    </tr>\n",
       "  </tbody>\n",
       "</table>\n",
       "<p>312 rows × 4 columns</p>\n",
       "</div>"
      ],
      "text/plain": [
       "                               Name               Location  ReviewCounts  \\\n",
       "0                  Cuisine of Nepal         Bernal Heights           648   \n",
       "1                     Dumpling Park           Inner Sunset           139   \n",
       "2                    Marufuku Ramen  Lower Pacific Heights          3615   \n",
       "3    Farmhouse Kitchen Thai Cuisine                Mission          3042   \n",
       "4                       Vico Cavone                 Castro            50   \n",
       "..                              ...                    ...           ...   \n",
       "307                       Lucky Pig             Tenderloin           219   \n",
       "308     Daeho Kalbijjim & Beef Soup      Ingleside Heights            69   \n",
       "309                         IZUMIYA              Japantown            80   \n",
       "310                       Ramenwell                Mission           241   \n",
       "311                    Strada Pizza               Parkside            96   \n",
       "\n",
       "     StarsNumber  \n",
       "0            4.5  \n",
       "1            3.5  \n",
       "2            4.5  \n",
       "3            4.0  \n",
       "4            4.5  \n",
       "..           ...  \n",
       "307          4.0  \n",
       "308          4.0  \n",
       "309          4.0  \n",
       "310          4.5  \n",
       "311          4.5  \n",
       "\n",
       "[312 rows x 4 columns]"
      ]
     },
     "execution_count": 17,
     "metadata": {},
     "output_type": "execute_result"
    }
   ],
   "source": [
    "df"
   ]
  },
  {
   "cell_type": "code",
   "execution_count": 18,
   "metadata": {},
   "outputs": [],
   "source": [
    "df.to_csv(\"San Francisco Restaurants Information.csv\", index = False)"
   ]
  },
  {
   "cell_type": "markdown",
   "metadata": {},
   "source": [
    "# Good Luck ^-^"
   ]
  }
 ],
 "metadata": {
  "kernelspec": {
   "display_name": "Python 3",
   "language": "python",
   "name": "python3"
  },
  "language_info": {
   "codemirror_mode": {
    "name": "ipython",
    "version": 3
   },
   "file_extension": ".py",
   "mimetype": "text/x-python",
   "name": "python",
   "nbconvert_exporter": "python",
   "pygments_lexer": "ipython3",
   "version": "3.8.3"
  }
 },
 "nbformat": 4,
 "nbformat_minor": 5
}
