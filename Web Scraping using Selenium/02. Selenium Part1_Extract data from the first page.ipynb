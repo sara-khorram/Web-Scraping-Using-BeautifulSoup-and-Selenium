{
 "cells": [
  {
   "cell_type": "markdown",
   "metadata": {},
   "source": [
    "# data-hub:\n",
    "\n",
    "*   Website:           Data-Hub.ir\n",
    "*   Youtube: [click here](https://www.youtube.com/channel/UCrBcbQWcD0ortWqHAlP94ug)\n",
    "*   Github: github.com/datahub-ir\n",
    "   Telegram Channel: @**data_hub_ir*\n",
    "*   Telegram Group:    @data_jobs"
   ]
  },
  {
   "cell_type": "markdown",
   "metadata": {},
   "source": [
    "________"
   ]
  },
  {
   "cell_type": "markdown",
   "metadata": {},
   "source": [
    "# Import the required libraries and modules"
   ]
  },
  {
   "cell_type": "code",
   "execution_count": 1,
   "metadata": {},
   "outputs": [],
   "source": [
    "from selenium import webdriver\n",
    "from selenium.webdriver.common.by import By\n",
    "from selenium.webdriver.chrome.service import Service\n",
    "\n",
    "import pandas as pd\n",
    "import time "
   ]
  },
  {
   "cell_type": "markdown",
   "metadata": {},
   "source": [
    "# Setup and Start"
   ]
  },
  {
   "cell_type": "code",
   "execution_count": 2,
   "metadata": {},
   "outputs": [],
   "source": [
    "url = 'https://www.yelp.com/'\n",
    "s = Service('chromedriver_win32/chromedriver.exe') # The path to your driver\n",
    "\n",
    "driver = webdriver.Chrome(service = s)\n",
    "driver.get(url)\n",
    "time.sleep(3)"
   ]
  },
  {
   "cell_type": "markdown",
   "metadata": {},
   "source": [
    "# Search about Restaurants"
   ]
  },
  {
   "cell_type": "code",
   "execution_count": 3,
   "metadata": {},
   "outputs": [],
   "source": [
    "find_section = driver.find_element(By.ID, value = 'find_desc')\n",
    "find_section.click()\n",
    "find_section.send_keys('Restaurants')"
   ]
  },
  {
   "cell_type": "code",
   "execution_count": 4,
   "metadata": {},
   "outputs": [],
   "source": [
    "search_button = driver.find_element(By.ID, value = 'header-search-submit')\n",
    "search_button.click()\n",
    "# time.sleep(3)"
   ]
  },
  {
   "cell_type": "markdown",
   "metadata": {},
   "source": [
    "# Find Data"
   ]
  },
  {
   "cell_type": "code",
   "execution_count": 14,
   "metadata": {},
   "outputs": [],
   "source": [
    "all_items = driver.find_elements(By.XPATH, value = \"//div[@class=' container__09f24__mpR8_ hoverable__09f24__wQ_on margin-t3__09f24__riq4X margin-b3__09f24__l9v5d padding-t3__09f24__TMrIW padding-r3__09f24__eaF7p padding-b3__09f24__S8R2d padding-l3__09f24__IOjKY border--top__09f24__exYYb border--right__09f24__X7Tln border--bottom__09f24___mg5X border--left__09f24__DMOkM border-color--default__09f24__NPAKY']\")\n",
    "\n",
    "data = []\n",
    "\n",
    "for item in all_items:\n",
    "    try:\n",
    "        name = item.find_element(By.XPATH, value = \".//a[@class='css-1422juy']\").text\n",
    "    except:\n",
    "        name = 'Unknown'\n",
    "    \n",
    "    try:\n",
    "        location = item.find_element(By.XPATH, value = \".//span[@class=' css-1e4fdj9']\").text\n",
    "    except:\n",
    "        location = 'Unknown'\n",
    "    \n",
    "    try:\n",
    "        review_counts = item.find_element(By.XPATH, value = \".//span[@class='reviewCount__09f24__tnBk4 css-1e4fdj9']\").text\n",
    "    except:\n",
    "        review_counts = -1\n",
    "    \n",
    "    try:\n",
    "        stars = item.find_element(By.XPATH, value = \".//span[@class=' display--inline__09f24__c6N_k border-color--default__09f24__NPAKY']/div[@role='img']\")\n",
    "        stars_number = stars.get_attribute('aria-label').split(' ')[0]\n",
    "    except:\n",
    "        stars_number = -1\n",
    "        \n",
    "    data.append([name, location, int(review_counts), float(stars_number)])"
   ]
  },
  {
   "cell_type": "code",
   "execution_count": 15,
   "metadata": {},
   "outputs": [
    {
     "data": {
      "text/plain": [
       "[['Gyros on Wheels', 'Mission Bay', -1, -1.0],\n",
       " ['Cuisine of Nepal', 'Bernal Heights', 648, 4.5],\n",
       " ['Marufuku Ramen', 'Lower Pacific Heights', 3615, 4.5],\n",
       " ['Farmhouse Kitchen Thai Cuisine', 'Mission', 3042, 4.0],\n",
       " ['Sotto Mare Oysteria & Seafood', 'North Beach/Telegraph Hill', 4234, 4.5],\n",
       " ['Burma Superstar', 'Inner Richmond', 7028, 4.0],\n",
       " ['Fog Harbor Fish House', \"Fisherman's Wharf\", 7144, 4.5],\n",
       " ['Kokkari Estiatorio', 'Financial District', 4718, 4.5],\n",
       " ['Starbelly', 'Castro', 1998, 4.0],\n",
       " ['a Mano', 'Hayes Valley', 1197, 4.0],\n",
       " ['Daeho Kalbijjim & Beef Soup', 'Japantown', 1230, 4.5],\n",
       " ['The Tailor’s Son', 'Lower Pacific Heights', 158, 4.0],\n",
       " ['Dumpling Park', 'Inner Sunset', 139, 3.5]]"
      ]
     },
     "execution_count": 15,
     "metadata": {},
     "output_type": "execute_result"
    }
   ],
   "source": [
    "data"
   ]
  },
  {
   "cell_type": "code",
   "execution_count": 16,
   "metadata": {},
   "outputs": [
    {
     "data": {
      "text/plain": [
       "13"
      ]
     },
     "execution_count": 16,
     "metadata": {},
     "output_type": "execute_result"
    }
   ],
   "source": [
    "len(data)"
   ]
  },
  {
   "cell_type": "markdown",
   "metadata": {},
   "source": [
    "# Create Pandas Dataframe"
   ]
  },
  {
   "cell_type": "code",
   "execution_count": 17,
   "metadata": {},
   "outputs": [],
   "source": [
    "df = pd.DataFrame(data, columns = ['Name', 'Location', 'ReviewCounts', 'StarsNumber'])"
   ]
  },
  {
   "cell_type": "code",
   "execution_count": 18,
   "metadata": {},
   "outputs": [
    {
     "data": {
      "text/html": [
       "<div>\n",
       "<style scoped>\n",
       "    .dataframe tbody tr th:only-of-type {\n",
       "        vertical-align: middle;\n",
       "    }\n",
       "\n",
       "    .dataframe tbody tr th {\n",
       "        vertical-align: top;\n",
       "    }\n",
       "\n",
       "    .dataframe thead th {\n",
       "        text-align: right;\n",
       "    }\n",
       "</style>\n",
       "<table border=\"1\" class=\"dataframe\">\n",
       "  <thead>\n",
       "    <tr style=\"text-align: right;\">\n",
       "      <th></th>\n",
       "      <th>Name</th>\n",
       "      <th>Location</th>\n",
       "      <th>ReviewCounts</th>\n",
       "      <th>StarsNumber</th>\n",
       "    </tr>\n",
       "  </thead>\n",
       "  <tbody>\n",
       "    <tr>\n",
       "      <th>0</th>\n",
       "      <td>Gyros on Wheels</td>\n",
       "      <td>Mission Bay</td>\n",
       "      <td>-1</td>\n",
       "      <td>-1.0</td>\n",
       "    </tr>\n",
       "    <tr>\n",
       "      <th>1</th>\n",
       "      <td>Cuisine of Nepal</td>\n",
       "      <td>Bernal Heights</td>\n",
       "      <td>648</td>\n",
       "      <td>4.5</td>\n",
       "    </tr>\n",
       "    <tr>\n",
       "      <th>2</th>\n",
       "      <td>Marufuku Ramen</td>\n",
       "      <td>Lower Pacific Heights</td>\n",
       "      <td>3615</td>\n",
       "      <td>4.5</td>\n",
       "    </tr>\n",
       "    <tr>\n",
       "      <th>3</th>\n",
       "      <td>Farmhouse Kitchen Thai Cuisine</td>\n",
       "      <td>Mission</td>\n",
       "      <td>3042</td>\n",
       "      <td>4.0</td>\n",
       "    </tr>\n",
       "    <tr>\n",
       "      <th>4</th>\n",
       "      <td>Sotto Mare Oysteria &amp; Seafood</td>\n",
       "      <td>North Beach/Telegraph Hill</td>\n",
       "      <td>4234</td>\n",
       "      <td>4.5</td>\n",
       "    </tr>\n",
       "    <tr>\n",
       "      <th>5</th>\n",
       "      <td>Burma Superstar</td>\n",
       "      <td>Inner Richmond</td>\n",
       "      <td>7028</td>\n",
       "      <td>4.0</td>\n",
       "    </tr>\n",
       "    <tr>\n",
       "      <th>6</th>\n",
       "      <td>Fog Harbor Fish House</td>\n",
       "      <td>Fisherman's Wharf</td>\n",
       "      <td>7144</td>\n",
       "      <td>4.5</td>\n",
       "    </tr>\n",
       "    <tr>\n",
       "      <th>7</th>\n",
       "      <td>Kokkari Estiatorio</td>\n",
       "      <td>Financial District</td>\n",
       "      <td>4718</td>\n",
       "      <td>4.5</td>\n",
       "    </tr>\n",
       "    <tr>\n",
       "      <th>8</th>\n",
       "      <td>Starbelly</td>\n",
       "      <td>Castro</td>\n",
       "      <td>1998</td>\n",
       "      <td>4.0</td>\n",
       "    </tr>\n",
       "    <tr>\n",
       "      <th>9</th>\n",
       "      <td>a Mano</td>\n",
       "      <td>Hayes Valley</td>\n",
       "      <td>1197</td>\n",
       "      <td>4.0</td>\n",
       "    </tr>\n",
       "    <tr>\n",
       "      <th>10</th>\n",
       "      <td>Daeho Kalbijjim &amp; Beef Soup</td>\n",
       "      <td>Japantown</td>\n",
       "      <td>1230</td>\n",
       "      <td>4.5</td>\n",
       "    </tr>\n",
       "    <tr>\n",
       "      <th>11</th>\n",
       "      <td>The Tailor’s Son</td>\n",
       "      <td>Lower Pacific Heights</td>\n",
       "      <td>158</td>\n",
       "      <td>4.0</td>\n",
       "    </tr>\n",
       "    <tr>\n",
       "      <th>12</th>\n",
       "      <td>Dumpling Park</td>\n",
       "      <td>Inner Sunset</td>\n",
       "      <td>139</td>\n",
       "      <td>3.5</td>\n",
       "    </tr>\n",
       "  </tbody>\n",
       "</table>\n",
       "</div>"
      ],
      "text/plain": [
       "                              Name                    Location  ReviewCounts  \\\n",
       "0                  Gyros on Wheels                 Mission Bay            -1   \n",
       "1                 Cuisine of Nepal              Bernal Heights           648   \n",
       "2                   Marufuku Ramen       Lower Pacific Heights          3615   \n",
       "3   Farmhouse Kitchen Thai Cuisine                     Mission          3042   \n",
       "4    Sotto Mare Oysteria & Seafood  North Beach/Telegraph Hill          4234   \n",
       "5                  Burma Superstar              Inner Richmond          7028   \n",
       "6            Fog Harbor Fish House           Fisherman's Wharf          7144   \n",
       "7               Kokkari Estiatorio          Financial District          4718   \n",
       "8                        Starbelly                      Castro          1998   \n",
       "9                           a Mano                Hayes Valley          1197   \n",
       "10     Daeho Kalbijjim & Beef Soup                   Japantown          1230   \n",
       "11                The Tailor’s Son       Lower Pacific Heights           158   \n",
       "12                   Dumpling Park                Inner Sunset           139   \n",
       "\n",
       "    StarsNumber  \n",
       "0          -1.0  \n",
       "1           4.5  \n",
       "2           4.5  \n",
       "3           4.0  \n",
       "4           4.5  \n",
       "5           4.0  \n",
       "6           4.5  \n",
       "7           4.5  \n",
       "8           4.0  \n",
       "9           4.0  \n",
       "10          4.5  \n",
       "11          4.0  \n",
       "12          3.5  "
      ]
     },
     "execution_count": 18,
     "metadata": {},
     "output_type": "execute_result"
    }
   ],
   "source": [
    "df"
   ]
  },
  {
   "cell_type": "markdown",
   "metadata": {},
   "source": [
    "# Good Luck ^-^"
   ]
  }
 ],
 "metadata": {
  "kernelspec": {
   "display_name": "Python 3",
   "language": "python",
   "name": "python3"
  },
  "language_info": {
   "codemirror_mode": {
    "name": "ipython",
    "version": 3
   },
   "file_extension": ".py",
   "mimetype": "text/x-python",
   "name": "python",
   "nbconvert_exporter": "python",
   "pygments_lexer": "ipython3",
   "version": "3.8.3"
  }
 },
 "nbformat": 4,
 "nbformat_minor": 5
}
