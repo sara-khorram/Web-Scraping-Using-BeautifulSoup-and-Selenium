{
 "cells": [
  {
   "cell_type": "markdown",
   "metadata": {},
   "source": [
    "# data-hub:\n",
    "\n",
    "*   [Website](https://data-hub.ir/)\n",
    "*   [Youtube](http://youtube.com/c/datahub1?sub_confirmation=1)\n",
    "*   [Linkedin](https://www.linkedin.com/company/data-hub-ir)\n",
    "*   Telegram Channel: @**data_hub_ir**\n",
    "*   Instagram Page: @**data_hub_ir**\n",
    "*   Telegram Group:    @**data_jobs**"
   ]
  },
  {
   "cell_type": "markdown",
   "metadata": {},
   "source": [
    "<div id=\"section1\"   dir='rtl'>\n",
    "    <h3>\n",
    "تمرین بخش اول Beautiful Soup    </h3>\n",
    "<p dir='rtl'>\n",
    "    \n",
    "    1. معمولا سؤالات از آسان به سخت و مطابق با مطالب تدریس شده است.  \n",
    "\n",
    "    2. در حد امکان لطفاً برای حل سؤالات از اینترنت (کپی و پیست) استفاده نکنید، لطفاً از دیگران کمک نگیرید.\n",
    "\n",
    "    3. حل ناقص یک سؤال برای ما ارزش بیشتری نسبت به تکمیل سؤال به کمک دیگران دارد. هدف یادگیری است و بحث نمره مطرح نیست.\n",
    "\n",
    "    4. انجام تکالیف اختیاری است ولی فعلاً نیازی به ارسال جواب‌ها نیست. در آخر دوره کارآموزی و پس از اتمام پروژه نهایی، باید تمامی فایل‌های مربوط به تکالیف و پروژه را برایمان ارسال کنید.\n",
    "\n",
    "    5. در جلسه آنلاین به‌صورت تصادفی بعضی از سؤالات تمرین ممکن است پرسیده شود پس بادقت به حل آن بپردازید.\n",
    "    \n",
    "    6. برای بعضی از سوال‌ها، راهنمایی‌هایی برای شما نوشته شده اما اگر از راه حل دیگری به جواب رسیده باشید هم اشکالی ندارد، خیلی هم عالیست.\n",
    "\n",
    "    7. لطفا تحت هیچ شرایط جواب خود را برای دیگران ارسال نکنید.\n",
    "\n",
    "    8. در صورت ناتوانی از حل هر سؤال و قبل از پرسش از دیگران، لطفاً به ویدئو همان جلسه مراجعه کنید و مطالب را مرور کنید.\n",
    "\n",
    "    9. در صورت وجود ابهام یا سؤال در مورد هر قسمت لطفاً به فروم وب‌سایت  مراجعه کنید و در انجمن مربوطه، سؤالات خود را مطرح کنید.\n",
    "    \n",
    "</p>\n",
    "</div>\n",
    "\n",
    "https://data-hub.ir/community"
   ]
  },
  {
   "cell_type": "markdown",
   "metadata": {},
   "source": [
    "________________________________________________________"
   ]
  },
  {
   "cell_type": "markdown",
   "metadata": {},
   "source": [
    "<div id=\"section1\" dir='rtl'>\n",
    "    کتابخانه‌ها و ماژول‌های مورد نیاز را import کنید.\n",
    "\n",
    "</div>"
   ]
  },
  {
   "cell_type": "code",
   "execution_count": null,
   "metadata": {},
   "outputs": [],
   "source": []
  },
  {
   "cell_type": "markdown",
   "metadata": {},
   "source": [
    "<div id=\"section1\" dir='rtl'>\n",
    "می‌خواهیم سایت زیر را اسکرپ کنیم.\n",
    "    <br>\n",
    "    https://books.toscrape.com\n",
    "    <br>\n",
    "آدرس وب سایت را در یک متغیر ذخیره کنید.\n",
    "\n",
    "</div>"
   ]
  },
  {
   "cell_type": "code",
   "execution_count": null,
   "metadata": {},
   "outputs": [],
   "source": []
  },
  {
   "cell_type": "markdown",
   "metadata": {},
   "source": [
    "<div id=\"section1\" dir='rtl'>\n",
    "   بااستفاده از کتابخانه requests درخواست get بزنید و نتیجه را در یک متغیر ذخیره کنید.\n",
    "\n",
    "</div>"
   ]
  },
  {
   "cell_type": "code",
   "execution_count": null,
   "metadata": {},
   "outputs": [],
   "source": []
  },
  {
   "cell_type": "markdown",
   "metadata": {},
   "source": [
    "<div id=\"section1\" dir='rtl'>\n",
    " حال باید Status Code آن را چک کنید.\n",
    "</div>"
   ]
  },
  {
   "cell_type": "code",
   "execution_count": null,
   "metadata": {},
   "outputs": [],
   "source": []
  },
  {
   "cell_type": "markdown",
   "metadata": {},
   "source": [
    "<div id=\"section1\" dir='rtl'>\n",
    " Beautiful Soup object را بسازید.\n",
    "</div>"
   ]
  },
  {
   "cell_type": "code",
   "execution_count": null,
   "metadata": {},
   "outputs": [],
   "source": []
  },
  {
   "cell_type": "markdown",
   "metadata": {},
   "source": [
    "<div id=\"section1\" dir='rtl'>\n",
    "بااستفاده از تابع find نام اولین کتاب از سمت چپ را استخراج کنید.\n",
    "    <br>\n",
    "        توجه: هیچ n\\ ای در خروجی نباید وجود داشته باشد.\n",
    "    <br>\n",
    "    راهنمایی: می‌توانید از تگ article و class attribute استفاده کنید.\n",
    "\n",
    "</div>"
   ]
  },
  {
   "cell_type": "code",
   "execution_count": null,
   "metadata": {},
   "outputs": [],
   "source": []
  },
  {
   "cell_type": "code",
   "execution_count": null,
   "metadata": {},
   "outputs": [],
   "source": []
  },
  {
   "cell_type": "markdown",
   "metadata": {},
   "source": [
    "<div id=\"section1\" dir='rtl'>\n",
    " بااستفاده از تابع find_all یا findAll، قیمت همه کتاب‌های صفحه اول را استخراج کنید.\n",
    "    <br>\n",
    "    راهنمایی: می‌توانید از تگ p و class attribute استفاده کنید.\n",
    "\n",
    "</div>"
   ]
  },
  {
   "cell_type": "code",
   "execution_count": null,
   "metadata": {},
   "outputs": [],
   "source": []
  },
  {
   "cell_type": "code",
   "execution_count": null,
   "metadata": {},
   "outputs": [],
   "source": []
  },
  {
   "cell_type": "markdown",
   "metadata": {},
   "source": [
    "<div id=\"section1\" dir='rtl'>\n",
    " چه تعداد قیمت، استخراج کرده‌اید؟\n",
    "    (باید 20 قیمت استخراج شده باشد.)\n",
    "\n",
    "</div>"
   ]
  },
  {
   "cell_type": "code",
   "execution_count": null,
   "metadata": {},
   "outputs": [],
   "source": []
  },
  {
   "cell_type": "markdown",
   "metadata": {},
   "source": [
    "<div id=\"section1\" dir='rtl'>\n",
    "حال با استفاده از تابع select نام اولین کتاب از سمت چپ را استخراج کنید.\n",
    "    <br>\n",
    "        توجه: هیچ n\\ ای در خروجی نباید وجود داشته باشد.\n",
    "    <br>\n",
    "    آیا خروجی با خروجی تابع find یکسان است؟\n",
    "</div>"
   ]
  },
  {
   "cell_type": "code",
   "execution_count": null,
   "metadata": {},
   "outputs": [],
   "source": []
  },
  {
   "cell_type": "code",
   "execution_count": null,
   "metadata": {},
   "outputs": [],
   "source": []
  },
  {
   "cell_type": "markdown",
   "metadata": {},
   "source": [
    "<div id=\"section1\" dir='rtl'>\n",
    " حال بااستفاده از تابع select، قیمت همه کتاب‌های صفحه اول را استخراج کنید.\n",
    "    <br>\n",
    "    آیا خروجی با خروجی تابع find_all یا findAll یکسان است؟\n",
    "</div>"
   ]
  },
  {
   "cell_type": "code",
   "execution_count": null,
   "metadata": {},
   "outputs": [],
   "source": []
  },
  {
   "cell_type": "code",
   "execution_count": null,
   "metadata": {},
   "outputs": [],
   "source": []
  },
  {
   "cell_type": "markdown",
   "metadata": {},
   "source": [
    "<div id=\"section1\" dir='rtl'>\n",
    " از آنجاییکه نام کتاب در title attribute نیز ذکر شده است، می‌توانیم برای استخراج این نام از سه روش استفاده کنیم.\n",
    "    <br>\n",
    "    استخراج نام اولین کتاب از سمت چپ - روش اول:\n",
    "</div>"
   ]
  },
  {
   "cell_type": "code",
   "execution_count": null,
   "metadata": {},
   "outputs": [],
   "source": []
  },
  {
   "cell_type": "code",
   "execution_count": null,
   "metadata": {},
   "outputs": [],
   "source": []
  },
  {
   "cell_type": "markdown",
   "metadata": {},
   "source": [
    "<div id=\"section1\" dir='rtl'>\n",
    "    استخراج نام اولین کتاب از سمت چپ - روش دوم:\n",
    "</div>"
   ]
  },
  {
   "cell_type": "code",
   "execution_count": null,
   "metadata": {},
   "outputs": [],
   "source": []
  },
  {
   "cell_type": "code",
   "execution_count": null,
   "metadata": {},
   "outputs": [],
   "source": []
  },
  {
   "cell_type": "markdown",
   "metadata": {},
   "source": [
    "<div id=\"section1\" dir='rtl'>\n",
    "    استخراج نام اولین کتاب از سمت چپ - روش سوم:\n",
    "</div>"
   ]
  },
  {
   "cell_type": "code",
   "execution_count": null,
   "metadata": {},
   "outputs": [],
   "source": []
  },
  {
   "cell_type": "code",
   "execution_count": null,
   "metadata": {},
   "outputs": [],
   "source": []
  },
  {
   "cell_type": "markdown",
   "metadata": {},
   "source": [
    "<div id=\"section1\" dir='rtl'>\n",
    "    موفق باشید ^-^\n",
    "</div>"
   ]
  }
 ],
 "metadata": {
  "kernelspec": {
   "display_name": "Python 3",
   "language": "python",
   "name": "python3"
  },
  "language_info": {
   "codemirror_mode": {
    "name": "ipython",
    "version": 3
   },
   "file_extension": ".py",
   "mimetype": "text/x-python",
   "name": "python",
   "nbconvert_exporter": "python",
   "pygments_lexer": "ipython3",
   "version": "3.8.3"
  }
 },
 "nbformat": 4,
 "nbformat_minor": 4
}
