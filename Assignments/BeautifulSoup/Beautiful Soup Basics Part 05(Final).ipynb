{
 "cells": [
  {
   "cell_type": "markdown",
   "metadata": {},
   "source": [
    "# data-hub:\n",
    "\n",
    "*   [Website](https://data-hub.ir/)\n",
    "*   [Youtube](http://youtube.com/c/datahub1?sub_confirmation=1)\n",
    "*   [Linkedin](https://www.linkedin.com/company/data-hub-ir)\n",
    "*   Telegram Channel: @**data_hub_ir**\n",
    "*   Instagram Page: @**data_hub_ir**\n",
    "*   Telegram Group:    @**data_jobs**"
   ]
  },
  {
   "cell_type": "markdown",
   "metadata": {},
   "source": [
    "<div id=\"section1\"   dir='rtl'>\n",
    "    <h3>\n",
    "تمرین بخش اول Beautiful Soup    </h3>\n",
    "<p dir='rtl'>\n",
    "    \n",
    "    1. معمولا سؤالات از آسان به سخت و مطابق با مطالب تدریس شده است.  \n",
    "\n",
    "    2. در حد امکان لطفاً برای حل سؤالات از اینترنت (کپی و پیست) استفاده نکنید، لطفاً از دیگران کمک نگیرید.\n",
    "\n",
    "    3. حل ناقص یک سؤال برای ما ارزش بیشتری نسبت به تکمیل سؤال به کمک دیگران دارد. هدف یادگیری است و بحث نمره مطرح نیست.\n",
    "\n",
    "    4. انجام تکالیف اختیاری است ولی فعلاً نیازی به ارسال جواب‌ها نیست. در آخر دوره کارآموزی و پس از اتمام پروژه نهایی، باید تمامی فایل‌های مربوط به تکالیف و پروژه را برایمان ارسال کنید.\n",
    "\n",
    "    5. در جلسه آنلاین به‌صورت تصادفی بعضی از سؤالات تمرین ممکن است پرسیده شود پس بادقت به حل آن بپردازید.\n",
    "    \n",
    "    6. برای بعضی از سوال‌ها، راهنمایی‌هایی برای شما نوشته شده اما اگر از راه حل دیگری به جواب رسیده باشید هم اشکالی ندارد، خیلی هم عالیست.\n",
    "\n",
    "    7. لطفا تحت هیچ شرایط جواب خود را برای دیگران ارسال نکنید.\n",
    "\n",
    "    8. در صورت ناتوانی از حل هر سؤال و قبل از پرسش از دیگران، لطفاً به ویدئو همان جلسه مراجعه کنید و مطالب را مرور کنید.\n",
    "\n",
    "    9. در صورت وجود ابهام یا سؤال در مورد هر قسمت لطفاً به فروم وب‌سایت  مراجعه کنید و در انجمن مربوطه، سؤالات خود را مطرح کنید.\n",
    "    \n",
    "</p>\n",
    "</div>\n",
    "\n",
    "https://data-hub.ir/community"
   ]
  },
  {
   "cell_type": "markdown",
   "metadata": {},
   "source": [
    "________________________________________________________"
   ]
  },
  {
   "cell_type": "markdown",
   "metadata": {},
   "source": [
    "<div id=\"section1\" dir='rtl'>\n",
    "    کتابخانه ها و ماژول‌های مورد نیاز را import کنید.\n",
    "\n",
    "</div>"
   ]
  },
  {
   "cell_type": "code",
   "execution_count": null,
   "metadata": {},
   "outputs": [],
   "source": []
  },
  {
   "cell_type": "markdown",
   "metadata": {},
   "source": [
    "<div id=\"section1\" dir='rtl'>\n",
    "می‌خواهیم سایت زیر را اسکرپ کنیم.\n",
    "    <br>\n",
    "    https://books.toscrape.com\n",
    "    <br>\n",
    "آدرس وب سایت را در یک متغیر ذخیره کنید.\n",
    "\n",
    "</div>"
   ]
  },
  {
   "cell_type": "code",
   "execution_count": null,
   "metadata": {},
   "outputs": [],
   "source": []
  },
  {
   "cell_type": "markdown",
   "metadata": {},
   "source": [
    "<div id=\"section1\" dir='rtl'>\n",
    "   بااستفاده از کتابخانه requests درخواست get بزنید و نتیجه را در یک متغیر ذخیره کنید.\n",
    "\n",
    "</div>"
   ]
  },
  {
   "cell_type": "code",
   "execution_count": null,
   "metadata": {},
   "outputs": [],
   "source": []
  },
  {
   "cell_type": "markdown",
   "metadata": {},
   "source": [
    "<div id=\"section1\" dir='rtl'>\n",
    " حال باید Status Code آن را چک کنید.\n",
    "</div>"
   ]
  },
  {
   "cell_type": "code",
   "execution_count": null,
   "metadata": {},
   "outputs": [],
   "source": []
  },
  {
   "cell_type": "markdown",
   "metadata": {},
   "source": [
    "<div id=\"section1\" dir='rtl'>\n",
    " Beautiful Soup object را بسازید.\n",
    "</div>"
   ]
  },
  {
   "cell_type": "code",
   "execution_count": null,
   "metadata": {},
   "outputs": [],
   "source": []
  },
  {
   "cell_type": "markdown",
   "metadata": {},
   "source": [
    "<div id=\"section1\" dir='rtl'>\n",
    "می‌خواهیم اطلاعات مورد نیازمان را از تمامی صفحات وب پیج استخراج کنیم.\n",
    "    <br>\n",
    "    اگر تکالیف سایر نوت‌بوک ها را انجام داده باشید، این تکلیف نیز بسیار ساده خواهد بود. اما اگر تکالیف را انجام نداده‌اید، توصیه می‌شود ابتدا آنها را به اتمام رسانده و سپس به سراغ این نوت‌بوک بیایید.\n",
    "    <br>\n",
    "    ابتدا بررسی کنید که این وب پیج چند صفحه دارد و شماره آخرین صفحه آن را در یک متغیر ذخیره کنید.\n",
    "</div>"
   ]
  },
  {
   "cell_type": "code",
   "execution_count": null,
   "metadata": {},
   "outputs": [],
   "source": []
  },
  {
   "cell_type": "markdown",
   "metadata": {},
   "source": [
    "<div id=\"section1\" dir='rtl'>\n",
    "حال می‌توانید الگویی که برای آدرس تمامی صفحات وب پیج صدق می‌کند را پیدا کرده با استفاده از یک loop به تک تک صفحات request زده و اطلاعات مورد نیاز شامل نام، قیمت، تعداد ستاره و لینک پست همه کتاب‌ها را جمع‌آوری کنید.\n",
    "\n",
    "</div>"
   ]
  },
  {
   "cell_type": "code",
   "execution_count": null,
   "metadata": {},
   "outputs": [],
   "source": []
  },
  {
   "cell_type": "markdown",
   "metadata": {},
   "source": [
    "<div id=\"section1\" dir='rtl'>\n",
    "در پایان، نتایج خود را به صورت DataFrame ذخیره نمایید.\n",
    "<br>\n",
    "خروجی شما باید به این شکل باشد:\n",
    "\n",
    "</div>"
   ]
  },
  {
   "cell_type": "code",
   "execution_count": null,
   "metadata": {},
   "outputs": [],
   "source": []
  },
  {
   "cell_type": "code",
   "execution_count": 60,
   "metadata": {},
   "outputs": [
    {
     "data": {
      "text/html": [
       "<div>\n",
       "<style scoped>\n",
       "    .dataframe tbody tr th:only-of-type {\n",
       "        vertical-align: middle;\n",
       "    }\n",
       "\n",
       "    .dataframe tbody tr th {\n",
       "        vertical-align: top;\n",
       "    }\n",
       "\n",
       "    .dataframe thead th {\n",
       "        text-align: right;\n",
       "    }\n",
       "</style>\n",
       "<table border=\"1\" class=\"dataframe\">\n",
       "  <thead>\n",
       "    <tr style=\"text-align: right;\">\n",
       "      <th></th>\n",
       "      <th>Name</th>\n",
       "      <th>Price</th>\n",
       "      <th>Stars</th>\n",
       "      <th>Link</th>\n",
       "    </tr>\n",
       "  </thead>\n",
       "  <tbody>\n",
       "    <tr>\n",
       "      <th>0</th>\n",
       "      <td>A Light in the ...</td>\n",
       "      <td>51.77</td>\n",
       "      <td>Three</td>\n",
       "      <td>https://books.toscrape.com/catalogue/page-1.ht...</td>\n",
       "    </tr>\n",
       "    <tr>\n",
       "      <th>1</th>\n",
       "      <td>Tipping the Velvet</td>\n",
       "      <td>53.74</td>\n",
       "      <td>One</td>\n",
       "      <td>https://books.toscrape.com/catalogue/page-1.ht...</td>\n",
       "    </tr>\n",
       "    <tr>\n",
       "      <th>2</th>\n",
       "      <td>Soumission</td>\n",
       "      <td>50.10</td>\n",
       "      <td>One</td>\n",
       "      <td>https://books.toscrape.com/catalogue/page-1.ht...</td>\n",
       "    </tr>\n",
       "    <tr>\n",
       "      <th>3</th>\n",
       "      <td>Sharp Objects</td>\n",
       "      <td>47.82</td>\n",
       "      <td>Four</td>\n",
       "      <td>https://books.toscrape.com/catalogue/page-1.ht...</td>\n",
       "    </tr>\n",
       "    <tr>\n",
       "      <th>4</th>\n",
       "      <td>Sapiens: A Brief History ...</td>\n",
       "      <td>54.23</td>\n",
       "      <td>Five</td>\n",
       "      <td>https://books.toscrape.com/catalogue/page-1.ht...</td>\n",
       "    </tr>\n",
       "    <tr>\n",
       "      <th>...</th>\n",
       "      <td>...</td>\n",
       "      <td>...</td>\n",
       "      <td>...</td>\n",
       "      <td>...</td>\n",
       "    </tr>\n",
       "    <tr>\n",
       "      <th>995</th>\n",
       "      <td>Alice in Wonderland (Alice's ...</td>\n",
       "      <td>55.53</td>\n",
       "      <td>One</td>\n",
       "      <td>https://books.toscrape.com/catalogue/page-50.h...</td>\n",
       "    </tr>\n",
       "    <tr>\n",
       "      <th>996</th>\n",
       "      <td>Ajin: Demi-Human, Volume 1 ...</td>\n",
       "      <td>57.06</td>\n",
       "      <td>Four</td>\n",
       "      <td>https://books.toscrape.com/catalogue/page-50.h...</td>\n",
       "    </tr>\n",
       "    <tr>\n",
       "      <th>997</th>\n",
       "      <td>A Spy's Devotion (The ...</td>\n",
       "      <td>16.97</td>\n",
       "      <td>Five</td>\n",
       "      <td>https://books.toscrape.com/catalogue/page-50.h...</td>\n",
       "    </tr>\n",
       "    <tr>\n",
       "      <th>998</th>\n",
       "      <td>1st to Die (Women's ...</td>\n",
       "      <td>53.98</td>\n",
       "      <td>One</td>\n",
       "      <td>https://books.toscrape.com/catalogue/page-50.h...</td>\n",
       "    </tr>\n",
       "    <tr>\n",
       "      <th>999</th>\n",
       "      <td>1,000 Places to See ...</td>\n",
       "      <td>26.08</td>\n",
       "      <td>Five</td>\n",
       "      <td>https://books.toscrape.com/catalogue/page-50.h...</td>\n",
       "    </tr>\n",
       "  </tbody>\n",
       "</table>\n",
       "<p>1000 rows × 4 columns</p>\n",
       "</div>"
      ],
      "text/plain": [
       "                                 Name  Price  Stars  \\\n",
       "0                  A Light in the ...  51.77  Three   \n",
       "1                  Tipping the Velvet  53.74    One   \n",
       "2                          Soumission  50.10    One   \n",
       "3                       Sharp Objects  47.82   Four   \n",
       "4        Sapiens: A Brief History ...  54.23   Five   \n",
       "..                                ...    ...    ...   \n",
       "995  Alice in Wonderland (Alice's ...  55.53    One   \n",
       "996    Ajin: Demi-Human, Volume 1 ...  57.06   Four   \n",
       "997         A Spy's Devotion (The ...  16.97   Five   \n",
       "998           1st to Die (Women's ...  53.98    One   \n",
       "999           1,000 Places to See ...  26.08   Five   \n",
       "\n",
       "                                                  Link  \n",
       "0    https://books.toscrape.com/catalogue/page-1.ht...  \n",
       "1    https://books.toscrape.com/catalogue/page-1.ht...  \n",
       "2    https://books.toscrape.com/catalogue/page-1.ht...  \n",
       "3    https://books.toscrape.com/catalogue/page-1.ht...  \n",
       "4    https://books.toscrape.com/catalogue/page-1.ht...  \n",
       "..                                                 ...  \n",
       "995  https://books.toscrape.com/catalogue/page-50.h...  \n",
       "996  https://books.toscrape.com/catalogue/page-50.h...  \n",
       "997  https://books.toscrape.com/catalogue/page-50.h...  \n",
       "998  https://books.toscrape.com/catalogue/page-50.h...  \n",
       "999  https://books.toscrape.com/catalogue/page-50.h...  \n",
       "\n",
       "[1000 rows x 4 columns]"
      ]
     },
     "execution_count": 60,
     "metadata": {},
     "output_type": "execute_result"
    }
   ],
   "source": [
    "df"
   ]
  },
  {
   "cell_type": "code",
   "execution_count": null,
   "metadata": {},
   "outputs": [],
   "source": []
  },
  {
   "cell_type": "markdown",
   "metadata": {},
   "source": [
    "<div id=\"section1\" dir='rtl'>\n",
    "خروجی خود را در یک فایل csv به نام \"Books\" ذخیره نمایید.\n",
    "</div>"
   ]
  },
  {
   "cell_type": "code",
   "execution_count": null,
   "metadata": {},
   "outputs": [],
   "source": []
  },
  {
   "cell_type": "markdown",
   "metadata": {},
   "source": [
    "<div id=\"section1\" dir='rtl'>\n",
    "    موفق باشید ^-^\n",
    "</div>"
   ]
  }
 ],
 "metadata": {
  "kernelspec": {
   "display_name": "Python 3",
   "language": "python",
   "name": "python3"
  },
  "language_info": {
   "codemirror_mode": {
    "name": "ipython",
    "version": 3
   },
   "file_extension": ".py",
   "mimetype": "text/x-python",
   "name": "python",
   "nbconvert_exporter": "python",
   "pygments_lexer": "ipython3",
   "version": "3.8.3"
  }
 },
 "nbformat": 4,
 "nbformat_minor": 4
}
