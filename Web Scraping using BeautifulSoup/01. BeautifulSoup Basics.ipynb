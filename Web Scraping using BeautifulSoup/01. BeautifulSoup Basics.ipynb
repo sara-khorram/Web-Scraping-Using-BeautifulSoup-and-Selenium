{
 "cells": [
  {
   "cell_type": "markdown",
   "metadata": {},
   "source": [
    "# data-hub:\n",
    "\n",
    "*   Website:           Data-Hub.ir\n",
    "*   Youtube: [click here](https://www.youtube.com/channel/UCrBcbQWcD0ortWqHAlP94ug)\n",
    "*   Github: github.com/datahub-ir\n",
    "   Telegram Channel: @**data_hub_ir*\n",
    "*   Telegram Group:    @data_jobs"
   ]
  },
  {
   "cell_type": "markdown",
   "metadata": {},
   "source": [
    "___"
   ]
  },
  {
   "cell_type": "markdown",
   "metadata": {},
   "source": [
    "# Main Refrence\n",
    "### https://www.crummy.com/software/BeautifulSoup/bs4/doc/"
   ]
  },
  {
   "cell_type": "markdown",
   "metadata": {},
   "source": [
    "# Import the required libraries"
   ]
  },
  {
   "cell_type": "code",
   "execution_count": 5,
   "metadata": {},
   "outputs": [],
   "source": [
    "from bs4 import BeautifulSoup\n",
    "import requests"
   ]
  },
  {
   "cell_type": "markdown",
   "metadata": {},
   "source": [
    "# HTTP request"
   ]
  },
  {
   "cell_type": "markdown",
   "metadata": {},
   "source": [
    "### Store website url in a variable"
   ]
  },
  {
   "cell_type": "code",
   "execution_count": 6,
   "metadata": {},
   "outputs": [],
   "source": [
    "url = 'https://www.opencodez.com/'"
   ]
  },
  {
   "cell_type": "markdown",
   "metadata": {},
   "source": [
    "### Get request"
   ]
  },
  {
   "cell_type": "code",
   "execution_count": 8,
   "metadata": {},
   "outputs": [],
   "source": [
    "response = requests.get(url)"
   ]
  },
  {
   "cell_type": "markdown",
   "metadata": {},
   "source": [
    "### Check status code"
   ]
  },
  {
   "cell_type": "code",
   "execution_count": 9,
   "metadata": {},
   "outputs": [
    {
     "data": {
      "text/plain": [
       "200"
      ]
     },
     "execution_count": 9,
     "metadata": {},
     "output_type": "execute_result"
    }
   ],
   "source": [
    "response.status_code"
   ]
  },
  {
   "cell_type": "markdown",
   "metadata": {},
   "source": [
    "# BeautifulSoup Object"
   ]
  },
  {
   "cell_type": "code",
   "execution_count": 10,
   "metadata": {},
   "outputs": [],
   "source": [
    "bs = BeautifulSoup(response.content, 'html.parser')"
   ]
  },
  {
   "cell_type": "code",
   "execution_count": 11,
   "metadata": {},
   "outputs": [
    {
     "name": "stdout",
     "output_type": "stream",
     "text": [
      "<!DOCTYPE html>\n",
      "\n",
      "<html class=\"no-js\" lang=\"en-US\" prefix=\"og: http://ogp.me/ns#\">\n",
      "<head>\n",
      "<meta charset=\"utf-8\"/>\n",
      "<!--[if IE ]>\n",
      "\t<meta http-equiv=\"X-UA-Compatible\" content=\"IE=edge,chrome=1\">\n",
      "\t<![endif]-->\n",
      "<link href=\"https://gmpg.org/xfn/11\" rel=\"profile\"/>\n",
      "<title>opencodez | develope | share | reuse</title>\n",
      "<link href=\"https://www.opencodez.com/wp-content/themes/frontpage/apple-touch-icon.png\" rel=\"apple-touch-icon\"/>\n",
      "<meta content=\"width=device-width, initial-scale=1, maximum-scale=1\" name=\"viewport\"/>\n",
      "<meta content=\"yes\" name=\"apple-mobile-web-app-capable\"/>\n",
      "<meta content=\"black\" name=\"apple-mobile-web-app-status-bar-style\"/>\n",
      "<link href=\"https://www.opencodez.com/java/chain-of-responsibility-pattern.htm\" rel=\"prefetch\"/>\n",
      "<link href=\"https://www.opencodez.com/java/chain-of-responsibility-pattern.htm\" rel=\"prerender\"/>\n",
      "<link href=\"https://www.opencodez.com/xmlrpc.php\" rel=\"pingback\">\n",
      "<style type=\"text/css\">\t\t\t.heateorSssInstagramBackground{background:radial-gradient(circle at 30% 107%,#fdf497 0,#fdf497 5%,#fd5949 45%,#d6249f 60%,#285aeb 90%)}\n",
      "\t\t\t\t\t\t\t\t\t\t\t.heateor_sss_horizontal_sharing .heateorSssSharing,.heateor_sss_standard_follow_icons_container .heateorSssSharing{\n",
      "\t\t\t\t\t\t\tcolor: #fff;\n",
      "\t\t\t\t\t\tborder-width: 0px;\n",
      "\t\t\tborder-style: solid;\n",
      "\t\t\tborder-color: transparent;\n",
      "\t\t}\n",
      "\t\t\t\t.heateor_sss_horizontal_sharing .heateorSssTCBackground{\n",
      "\t\t\tcolor:#666;\n",
      "\t\t}\n",
      "\t\t\t\t.heateor_sss_horizontal_sharing .heateorSssSharing:hover,.heateor_sss_standard_follow_icons_container .heateorSssSharing:hover{\n",
      "\t\t\t\t\t\tborder-color: transparent;\n",
      "\t\t}\n",
      "\t\t.heateor_sss_vertical_sharing .heateorSssSharing,.heateor_sss_floating_follow_icons_container .heateorSssSharing{\n",
      "\t\t\t\t\t\t\tcolor: #fff;\n",
      "\t\t\t\t\t\tborder-width: 0px;\n",
      "\t\t\tborder-style: solid;\n",
      "\t\t\tborder-color: transparent;\n",
      "\t\t}\n",
      "\t\t\t\t.heateor_sss_vertical_sharing .heateorSssTCBackground{\n",
      "\t\t\tcolor:#666;\n",
      "\t\t}\n",
      "\t\t\t\t.heateor_sss_vertical_sharing .heateorSssSharing:hover,.heateor_sss_floating_follow_icons_container .heateorSssSharing:hover{\n",
      "\t\t\t\t\t\tborder-color: transparent;\n",
      "\t\t}\n",
      "\t\t\n",
      "\t\t@media screen and (max-width:783px) {.heateor_sss_vertical_sharing{display:none!important}}@media screen and (max-width:783px) {.heateor_sss_floating_follow_icons_container{display:none!important}}div.heateor_sss_mobile_footer{display:none;}@media screen and (max-width:783px){i.heateorSssTCBackground{background-color:white!important}div.heateor_sss_bottom_sharing{width:100%!important;left:0!important;}div.heateor_sss_bottom_sharing li{width:20% !important;}div.heateor_sss_bottom_sharing .heateorSssSharing{width: 100% !important;}div.heateor_sss_bottom_sharing div.heateorSssTotalShareCount{font-size:1em!important;line-height:28px!important}div.heateor_sss_bottom_sharing div.heateorSssTotalShareText{font-size:.7em!important;line-height:0px!important}div.heateor_sss_mobile_footer{display:block;height:40px;}.heateor_sss_bottom_sharing{padding:0!important;display:block!important;width: auto!important;bottom:-2px!important;top: auto!important;}.heateor_sss_bottom_sharing .heateor_sss_square_count{line-height: inherit;}.heateor_sss_bottom_sharing .heateorSssSharingArrow{display:none;}.heateor_sss_bottom_sharing .heateorSssTCBackground{margin-right: 1.1em !important}}</style>\n",
      "<meta content=\"develope | share | reuse\" name=\"description\">\n",
      "<meta content=\"index, follow\" name=\"robots\">\n",
      "<link href=\"https://www.opencodez.com\" rel=\"canonical\">\n",
      "<link href=\"https://www.opencodez.com/page/2\" rel=\"next\"/>\n",
      "<meta content=\"en_US\" property=\"og:locale\"/>\n",
      "<meta content=\"website\" property=\"og:type\"/>\n",
      "<meta content=\"opencodez | develope | share | reuse\" property=\"og:title\"/>\n",
      "<meta content=\"https://www.opencodez.com\" property=\"og:url\"/>\n",
      "<meta content=\"opencodez\" property=\"og:site_name\"/>\n",
      "<meta content=\"summary_large_image\" name=\"twitter:card\"/>\n",
      "<meta content=\"opencodez | develope | share | reuse\" name=\"twitter:title\"/>\n",
      "<script type=\"application/ld+json\">{\"@context\":\"https:\\/\\/schema.org\",\"@graph\":[{\"@type\":\"WebSite\",\"@id\":\"https:\\/\\/www.opencodez.com\\/#website\",\"url\":\"https:\\/\\/www.opencodez.com\",\"name\":\"Opencodez.com\",\"potentialAction\":{\"@type\":\"SearchAction\",\"target\":\"https:\\/\\/www.opencodez.com\\/?s={search_term_string}\",\"query-input\":\"required name=search_term_string\"}},{\"@type\":\"Blog\",\"url\":\"https:\\/\\/www.opencodez.com\",\"headline\":\"Opencodez.com\",\"description\":\"develope | share | reuse\",\"blogPost\":[{\"@type\":\"BlogPosting\",\"headline\":\"Chain of Responsibility - Behavioral Design Pattern  | opencodez\",\"name\":\"Chain of Responsibility - Behavioral Design Pattern  | opencodez\",\"url\":\"https:\\/\\/www.opencodez.com\\/java\\/chain-of-responsibility-pattern.htm\",\"mainEntityOfPage\":\"https:\\/\\/www.opencodez.com\\/java\\/chain-of-responsibility-pattern.htm\",\"dateModified\":\"2021-01-19T08:28:06+00:00\",\"datePublished\":\"2020-08-01T13:11:29+00:00\",\"author\":{\"@type\":\"Person\",\"name\":\"Supriya\",\"url\":\"https:\\/\\/www.opencodez.com\\/author\\/supriyak\",\"image\":{\"@type\":\"ImageObject\",\"url\":\"https:\\/\\/secure.gravatar.com\\/avatar\\/b1e2ffbc312f7795c485a78d0ee41ec1?s=96&d=mm&r=g\",\"height\":96,\"width\":96}},\"publisher\":{\"@type\":\"Organization\",\"name\":\"Opencodez.com\",\"logo\":{\"@type\":\"ImageObject\",\"url\":\"https:\\/\\/www.opencodez.com\\/wp-content\\/uploads\\/2016\\/09\\/logo8.png\"}},\"image\":{\"@type\":\"ImageObject\",\"url\":\"https:\\/\\/www.opencodez.com\\/wp-content\\/uploads\\/2020\\/08\\/Java-Design-Patterns.png\",\"height\":200,\"width\":200},\"keywords\":[],\"commentCount\":1,\"comment\":[{\"@type\":\"Comment\",\"dateCreated\":\"2020-08-14 16:52:57\",\"description\":\"This is easy to understand and clearly written. Thanks for the spamcheck tutorial Supriya.\",\"author\":{\"@type\":\"Person\",\"name\":\"John Alexander\",\"url\":\"https:\\/\\/www.digitaldesignjournal.com\\/\"}}],\"wordCount\":600},{\"@type\":\"BlogPosting\",\"headline\":\"Flyweight Pattern - Structural Design Pattern  | opencodez\",\"name\":\"Flyweight Pattern - Structural Design Pattern  | opencodez\",\"url\":\"https:\\/\\/www.opencodez.com\\/java\\/flyweight-pattern.htm\",\"mainEntityOfPage\":\"https:\\/\\/www.opencodez.com\\/java\\/flyweight-pattern.htm\",\"dateModified\":\"2020-08-01T13:24:17+00:00\",\"datePublished\":\"2020-05-20T05:20:05+00:00\",\"author\":{\"@type\":\"Person\",\"name\":\"Supriya\",\"url\":\"https:\\/\\/www.opencodez.com\\/author\\/supriyak\",\"image\":{\"@type\":\"ImageObject\",\"url\":\"https:\\/\\/secure.gravatar.com\\/avatar\\/b1e2ffbc312f7795c485a78d0ee41ec1?s=96&d=mm&r=g\",\"height\":96,\"width\":96}},\"publisher\":{\"@type\":\"Organization\",\"name\":\"Opencodez.com\",\"logo\":{\"@type\":\"ImageObject\",\"url\":\"https:\\/\\/www.opencodez.com\\/wp-content\\/uploads\\/2016\\/09\\/logo8.png\"}},\"image\":{\"@type\":\"ImageObject\",\"url\":\"https:\\/\\/www.opencodez.com\\/wp-content\\/uploads\\/2020\\/05\\/Flyweight-Pattern-Java-Design-Patterns.png\",\"height\":200,\"width\":200},\"keywords\":[],\"commentCount\":0,\"comment\":\"\",\"wordCount\":512},{\"@type\":\"BlogPosting\",\"headline\":\"What Is Full Stack QA or Tester? 4 Steps Guide For Beginners  | opencodez\",\"name\":\"What Is Full Stack QA or Tester? 4 Steps Guide For Beginners  | opencodez\",\"url\":\"https:\\/\\/www.opencodez.com\\/software-testing\\/become-full-stack-qa-engineer.htm\",\"mainEntityOfPage\":\"https:\\/\\/www.opencodez.com\\/software-testing\\/become-full-stack-qa-engineer.htm\",\"dateModified\":\"2021-02-24T12:07:07+00:00\",\"datePublished\":\"2020-05-18T14:14:19+00:00\",\"author\":{\"@type\":\"Person\",\"name\":\"Shilpa\",\"url\":\"https:\\/\\/www.opencodez.com\\/author\\/shilpas\",\"image\":{\"@type\":\"ImageObject\",\"url\":\"https:\\/\\/secure.gravatar.com\\/avatar\\/fc08a81393963021dbf9f9633d614e94?s=96&d=mm&r=g\",\"height\":96,\"width\":96}},\"publisher\":{\"@type\":\"Organization\",\"name\":\"Opencodez.com\",\"logo\":{\"@type\":\"ImageObject\",\"url\":\"https:\\/\\/www.opencodez.com\\/wp-content\\/uploads\\/2016\\/09\\/logo8.png\"}},\"image\":{\"@type\":\"ImageObject\",\"url\":\"https:\\/\\/www.opencodez.com\\/wp-content\\/uploads\\/2019\\/10\\/Full-Stack-Developer.jpeg\",\"height\":386,\"width\":802},\"keywords\":[],\"commentCount\":2,\"comment\":[{\"@type\":\"Comment\",\"dateCreated\":\"2020-08-03 12:00:08\",\"description\":\"No Tony,\\nQA and BA are totally different.\\nQAs need to assure quality and BAs need to assure right business requirements are communicated to IT team.\\n\\nQA is more technical and BA is about business knowledge.\\nBut one can easily shift the career from QA to BA.\\nYou can refer : https:\\/\\/www.opencodez.com\\/software-testing\\/6-steps-to-become-business-analyst.htm\\n\\nHope this helps!\",\"author\":{\"@type\":\"Person\",\"name\":\"Shilpa\",\"url\":\"\"}},{\"@type\":\"Comment\",\"dateCreated\":\"2020-08-02 11:30:07\",\"description\":\"Is the QA Eng job profile more like a business analyst job who coordinates between the development team and other marketing\\/sales team?\",\"author\":{\"@type\":\"Person\",\"name\":\"Tony B\",\"url\":\"https:\\/\\/konkan-tours.in\"}}],\"wordCount\":1408},{\"@type\":\"BlogPosting\",\"headline\":\"Recession 2020 -7 Highly Effective Ways IT Professionals Can Prepare  | opencodez\",\"name\":\"Recession 2020 -7 Highly Effective Ways IT Professionals Can Prepare  | opencodez\",\"url\":\"https:\\/\\/www.opencodez.com\\/it-lifestyle\\/7-highly-effective-ways-professionals-can-prepare-recession.htm\",\"mainEntityOfPage\":\"https:\\/\\/www.opencodez.com\\/it-lifestyle\\/7-highly-effective-ways-professionals-can-prepare-recession.htm\",\"dateModified\":\"2020-05-21T09:56:23+00:00\",\"datePublished\":\"2020-04-27T04:15:09+00:00\",\"author\":{\"@type\":\"Person\",\"name\":\"Shilpa\",\"url\":\"https:\\/\\/www.opencodez.com\\/author\\/shilpas\",\"image\":{\"@type\":\"ImageObject\",\"url\":\"https:\\/\\/secure.gravatar.com\\/avatar\\/fc08a81393963021dbf9f9633d614e94?s=96&d=mm&r=g\",\"height\":96,\"width\":96}},\"publisher\":{\"@type\":\"Organization\",\"name\":\"Opencodez.com\",\"logo\":{\"@type\":\"ImageObject\",\"url\":\"https:\\/\\/www.opencodez.com\\/wp-content\\/uploads\\/2016\\/09\\/logo8.png\"}},\"image\":{\"@type\":\"ImageObject\",\"url\":\"https:\\/\\/www.opencodez.com\\/wp-content\\/uploads\\/2020\\/04\\/Untitled-drawing1.png\",\"height\":200,\"width\":200},\"keywords\":[],\"commentCount\":1,\"comment\":[{\"@type\":\"Comment\",\"dateCreated\":\"2020-07-25 11:13:08\",\"description\":\"Nice read!!!\",\"author\":{\"@type\":\"Person\",\"name\":\"Ravina Chaudhari\",\"url\":\"http:\\/\\/www.healtyzest.com\\/\"}}],\"wordCount\":1649},{\"@type\":\"BlogPosting\",\"headline\":\"10 Productivity Tips For Working From Home (WFH) - Practical To Follow  | opencodez\",\"name\":\"10 Productivity Tips For Working From Home (WFH) - Practical To Follow  | opencodez\",\"url\":\"https:\\/\\/www.opencodez.com\\/it-lifestyle\\/10-productivity-tips-for-working-from-home.htm\",\"mainEntityOfPage\":\"https:\\/\\/www.opencodez.com\\/it-lifestyle\\/10-productivity-tips-for-working-from-home.htm\",\"dateModified\":\"2020-06-03T07:14:58+00:00\",\"datePublished\":\"2020-03-30T11:50:08+00:00\",\"author\":{\"@type\":\"Person\",\"name\":\"Shilpa\",\"url\":\"https:\\/\\/www.opencodez.com\\/author\\/shilpas\",\"image\":{\"@type\":\"ImageObject\",\"url\":\"https:\\/\\/secure.gravatar.com\\/avatar\\/fc08a81393963021dbf9f9633d614e94?s=96&d=mm&r=g\",\"height\":96,\"width\":96}},\"publisher\":{\"@type\":\"Organization\",\"name\":\"Opencodez.com\",\"logo\":{\"@type\":\"ImageObject\",\"url\":\"https:\\/\\/www.opencodez.com\\/wp-content\\/uploads\\/2016\\/09\\/logo8.png\"}},\"image\":{\"@type\":\"ImageObject\",\"url\":\"https:\\/\\/www.opencodez.com\\/wp-content\\/uploads\\/2020\\/03\\/Untitled-drawing-4.png\",\"height\":200,\"width\":200},\"keywords\":[],\"commentCount\":0,\"comment\":\"\",\"wordCount\":1523},{\"@type\":\"BlogPosting\",\"headline\":\"Complete Step by Step Guide of Gherkin for Beginners  | opencodez\",\"name\":\"Complete Step by Step Guide of Gherkin for Beginners  | opencodez\",\"url\":\"https:\\/\\/www.opencodez.com\\/software-testing\\/complete-step-step-guide-gherkin-beginners.htm\",\"mainEntityOfPage\":\"https:\\/\\/www.opencodez.com\\/software-testing\\/complete-step-step-guide-gherkin-beginners.htm\",\"dateModified\":\"2020-05-11T08:23:09+00:00\",\"datePublished\":\"2020-03-22T15:40:11+00:00\",\"author\":{\"@type\":\"Person\",\"name\":\"Pritam\",\"url\":\"https:\\/\\/www.opencodez.com\\/author\\/ppritam\",\"image\":{\"@type\":\"ImageObject\",\"url\":\"https:\\/\\/secure.gravatar.com\\/avatar\\/c84a6a7ac508182d353e240603dee70f?s=96&d=mm&r=g\",\"height\":96,\"width\":96}},\"publisher\":{\"@type\":\"Organization\",\"name\":\"Opencodez.com\",\"logo\":{\"@type\":\"ImageObject\",\"url\":\"https:\\/\\/www.opencodez.com\\/wp-content\\/uploads\\/2016\\/09\\/logo8.png\"}},\"image\":{\"@type\":\"ImageObject\",\"url\":\"https:\\/\\/www.opencodez.com\\/wp-content\\/uploads\\/2020\\/03\\/Untitled-drawing-3.png\",\"height\":200,\"width\":200},\"keywords\":[],\"commentCount\":0,\"comment\":\"\",\"wordCount\":2973},{\"@type\":\"BlogPosting\",\"headline\":\"The 8 Most Commonly asked HR Interview Questions | Opencodez\",\"name\":\"The 8 Most Commonly asked HR Interview Questions | Opencodez\",\"url\":\"https:\\/\\/www.opencodez.com\\/how-to-guide\\/the-8-most-commonly-asked-hr-interview-questions.htm\",\"mainEntityOfPage\":\"https:\\/\\/www.opencodez.com\\/how-to-guide\\/the-8-most-commonly-asked-hr-interview-questions.htm\",\"dateModified\":\"2020-05-19T07:48:45+00:00\",\"datePublished\":\"2020-03-21T06:15:31+00:00\",\"author\":{\"@type\":\"Person\",\"name\":\"Shilpa\",\"url\":\"https:\\/\\/www.opencodez.com\\/author\\/shilpas\",\"image\":{\"@type\":\"ImageObject\",\"url\":\"https:\\/\\/secure.gravatar.com\\/avatar\\/fc08a81393963021dbf9f9633d614e94?s=96&d=mm&r=g\",\"height\":96,\"width\":96}},\"publisher\":{\"@type\":\"Organization\",\"name\":\"Opencodez.com\",\"logo\":{\"@type\":\"ImageObject\",\"url\":\"https:\\/\\/www.opencodez.com\\/wp-content\\/uploads\\/2016\\/09\\/logo8.png\"}},\"image\":{\"@type\":\"ImageObject\",\"url\":\"https:\\/\\/www.opencodez.com\\/wp-content\\/uploads\\/2020\\/03\\/HR-Interview-Questions.png\",\"height\":361,\"width\":640},\"keywords\":[],\"commentCount\":0,\"comment\":\"\",\"wordCount\":2360},{\"@type\":\"BlogPosting\",\"headline\":\"7 Free Testing Artifacts \\/ Deliverables Template To Download | Opencodez\",\"name\":\"7 Free Testing Artifacts \\/ Deliverables Template To Download | Opencodez\",\"url\":\"https:\\/\\/www.opencodez.com\\/software-testing\\/free-testing-artifacts-deliverables-template-to-download.htm\",\"mainEntityOfPage\":\"https:\\/\\/www.opencodez.com\\/software-testing\\/free-testing-artifacts-deliverables-template-to-download.htm\",\"dateModified\":\"2020-05-20T06:04:59+00:00\",\"datePublished\":\"2020-03-19T05:29:00+00:00\",\"author\":{\"@type\":\"Person\",\"name\":\"Shilpa\",\"url\":\"https:\\/\\/www.opencodez.com\\/author\\/shilpas\",\"image\":{\"@type\":\"ImageObject\",\"url\":\"https:\\/\\/secure.gravatar.com\\/avatar\\/fc08a81393963021dbf9f9633d614e94?s=96&d=mm&r=g\",\"height\":96,\"width\":96}},\"publisher\":{\"@type\":\"Organization\",\"name\":\"Opencodez.com\",\"logo\":{\"@type\":\"ImageObject\",\"url\":\"https:\\/\\/www.opencodez.com\\/wp-content\\/uploads\\/2016\\/09\\/logo8.png\"}},\"image\":{\"@type\":\"ImageObject\",\"url\":\"https:\\/\\/www.opencodez.com\\/wp-content\\/uploads\\/2020\\/03\\/Testing-Artifacts.png\",\"height\":250,\"width\":250},\"keywords\":[],\"commentCount\":0,\"comment\":\"\",\"wordCount\":889},{\"@type\":\"BlogPosting\",\"headline\":\"What is Test Case (TC), Examples with Free Template To Download  | opencodez\",\"name\":\"What is Test Case (TC), Examples with Free Template To Download  | opencodez\",\"url\":\"https:\\/\\/www.opencodez.com\\/software-testing\\/test-cases-with-examples-free-test-case-template-to-download.htm\",\"mainEntityOfPage\":\"https:\\/\\/www.opencodez.com\\/software-testing\\/test-cases-with-examples-free-test-case-template-to-download.htm\",\"dateModified\":\"2020-05-11T07:11:32+00:00\",\"datePublished\":\"2020-03-16T09:08:34+00:00\",\"author\":{\"@type\":\"Person\",\"name\":\"Shilpa\",\"url\":\"https:\\/\\/www.opencodez.com\\/author\\/shilpas\",\"image\":{\"@type\":\"ImageObject\",\"url\":\"https:\\/\\/secure.gravatar.com\\/avatar\\/fc08a81393963021dbf9f9633d614e94?s=96&d=mm&r=g\",\"height\":96,\"width\":96}},\"publisher\":{\"@type\":\"Organization\",\"name\":\"Opencodez.com\",\"logo\":{\"@type\":\"ImageObject\",\"url\":\"https:\\/\\/www.opencodez.com\\/wp-content\\/uploads\\/2016\\/09\\/logo8.png\"}},\"image\":{\"@type\":\"ImageObject\",\"url\":\"https:\\/\\/www.opencodez.com\\/wp-content\\/uploads\\/2020\\/03\\/Test-Case_F.png\",\"height\":200,\"width\":200},\"keywords\":[],\"commentCount\":0,\"comment\":\"\",\"wordCount\":938},{\"@type\":\"BlogPosting\",\"headline\":\"What is Test Data? Examples with Free Template to Download\",\"name\":\"What is Test Data? Examples with Free Template to Download\",\"url\":\"https:\\/\\/www.opencodez.com\\/software-testing\\/test-data.htm\",\"mainEntityOfPage\":\"https:\\/\\/www.opencodez.com\\/software-testing\\/test-data.htm\",\"dateModified\":\"2020-05-10T12:20:31+00:00\",\"datePublished\":\"2020-03-12T16:21:40+00:00\",\"author\":{\"@type\":\"Person\",\"name\":\"Shilpa\",\"url\":\"https:\\/\\/www.opencodez.com\\/author\\/shilpas\",\"image\":{\"@type\":\"ImageObject\",\"url\":\"https:\\/\\/secure.gravatar.com\\/avatar\\/fc08a81393963021dbf9f9633d614e94?s=96&d=mm&r=g\",\"height\":96,\"width\":96}},\"publisher\":{\"@type\":\"Organization\",\"name\":\"Opencodez.com\",\"logo\":{\"@type\":\"ImageObject\",\"url\":\"https:\\/\\/www.opencodez.com\\/wp-content\\/uploads\\/2016\\/09\\/logo8.png\"}},\"image\":{\"@type\":\"ImageObject\",\"url\":\"https:\\/\\/www.opencodez.com\\/wp-content\\/uploads\\/2020\\/03\\/Test-Data-2.png\",\"height\":2048,\"width\":2048},\"keywords\":[],\"commentCount\":0,\"comment\":\"\",\"wordCount\":791},{\"@type\":\"BlogPosting\",\"headline\":\"What is Test Scenario? Template with Examples,Difference Between Test Scenario and Test Case  | opencodez\",\"name\":\"What is Test Scenario? Template with Examples,Difference Between Test Scenario and Test Case  | opencodez\",\"url\":\"https:\\/\\/www.opencodez.com\\/software-testing\\/what-is-test-scenario-template-with-examples.htm\",\"mainEntityOfPage\":\"https:\\/\\/www.opencodez.com\\/software-testing\\/what-is-test-scenario-template-with-examples.htm\",\"dateModified\":\"2020-05-11T10:46:03+00:00\",\"datePublished\":\"2020-03-10T05:18:51+00:00\",\"author\":{\"@type\":\"Person\",\"name\":\"Shilpa\",\"url\":\"https:\\/\\/www.opencodez.com\\/author\\/shilpas\",\"image\":{\"@type\":\"ImageObject\",\"url\":\"https:\\/\\/secure.gravatar.com\\/avatar\\/fc08a81393963021dbf9f9633d614e94?s=96&d=mm&r=g\",\"height\":96,\"width\":96}},\"publisher\":{\"@type\":\"Organization\",\"name\":\"Opencodez.com\",\"logo\":{\"@type\":\"ImageObject\",\"url\":\"https:\\/\\/www.opencodez.com\\/wp-content\\/uploads\\/2016\\/09\\/logo8.png\"}},\"image\":{\"@type\":\"ImageObject\",\"url\":\"https:\\/\\/www.opencodez.com\\/wp-content\\/uploads\\/2020\\/03\\/Test-Scenario_Featured1.png\",\"height\":250,\"width\":250},\"keywords\":[],\"commentCount\":0,\"comment\":\"\",\"wordCount\":914},{\"@type\":\"BlogPosting\",\"headline\":\"Top 10 ETL Testing Tools to Watch in 2020  | opencodez\",\"name\":\"Top 10 ETL Testing Tools to Watch in 2020  | opencodez\",\"url\":\"https:\\/\\/www.opencodez.com\\/software-testing\\/top-10-etl-testing-tools.htm\",\"mainEntityOfPage\":\"https:\\/\\/www.opencodez.com\\/software-testing\\/top-10-etl-testing-tools.htm\",\"dateModified\":\"2020-05-10T12:21:14+00:00\",\"datePublished\":\"2020-03-04T12:13:37+00:00\",\"author\":{\"@type\":\"Person\",\"name\":\"Shilpa\",\"url\":\"https:\\/\\/www.opencodez.com\\/author\\/shilpas\",\"image\":{\"@type\":\"ImageObject\",\"url\":\"https:\\/\\/secure.gravatar.com\\/avatar\\/fc08a81393963021dbf9f9633d614e94?s=96&d=mm&r=g\",\"height\":96,\"width\":96}},\"publisher\":{\"@type\":\"Organization\",\"name\":\"Opencodez.com\",\"logo\":{\"@type\":\"ImageObject\",\"url\":\"https:\\/\\/www.opencodez.com\\/wp-content\\/uploads\\/2016\\/09\\/logo8.png\"}},\"image\":{\"@type\":\"ImageObject\",\"url\":\"https:\\/\\/www.opencodez.com\\/wp-content\\/uploads\\/2020\\/03\\/ETL-Testing-Tools-3.png\",\"height\":200,\"width\":200},\"keywords\":[],\"commentCount\":0,\"comment\":\"\",\"wordCount\":3099}]}]}</script>\n",
      "<link href=\"//s.w.org\" rel=\"dns-prefetch\"/>\n",
      "<link href=\"https://www.opencodez.com/feed\" rel=\"alternate\" title=\"opencodez » Feed\" type=\"application/rss+xml\"/>\n",
      "<link href=\"https://www.opencodez.com/comments/feed\" rel=\"alternate\" title=\"opencodez » Comments Feed\" type=\"application/rss+xml\"/>\n",
      "<script type=\"text/javascript\">\n",
      "\t\t\twindow._wpemojiSettings = {\"baseUrl\":\"https:\\/\\/s.w.org\\/images\\/core\\/emoji\\/12.0.0-1\\/72x72\\/\",\"ext\":\".png\",\"svgUrl\":\"https:\\/\\/s.w.org\\/images\\/core\\/emoji\\/12.0.0-1\\/svg\\/\",\"svgExt\":\".svg\",\"source\":{\"concatemoji\":\"https:\\/\\/www.opencodez.com\\/wp-includes\\/js\\/wp-emoji-release.min.js?ver=5.4.9\"}};\n",
      "\t\t\t/*! This file is auto-generated */\n",
      "\t\t\t!function(e,a,t){var n,r,o,i=a.createElement(\"canvas\"),p=i.getContext&&i.getContext(\"2d\");function s(e,t){var a=String.fromCharCode;p.clearRect(0,0,i.width,i.height),p.fillText(a.apply(this,e),0,0);e=i.toDataURL();return p.clearRect(0,0,i.width,i.height),p.fillText(a.apply(this,t),0,0),e===i.toDataURL()}function c(e){var t=a.createElement(\"script\");t.src=e,t.defer=t.type=\"text/javascript\",a.getElementsByTagName(\"head\")[0].appendChild(t)}for(o=Array(\"flag\",\"emoji\"),t.supports={everything:!0,everythingExceptFlag:!0},r=0;r<o.length;r++)t.supports[o[r]]=function(e){if(!p||!p.fillText)return!1;switch(p.textBaseline=\"top\",p.font=\"600 32px Arial\",e){case\"flag\":return s([127987,65039,8205,9895,65039],[127987,65039,8203,9895,65039])?!1:!s([55356,56826,55356,56819],[55356,56826,8203,55356,56819])&&!s([55356,57332,56128,56423,56128,56418,56128,56421,56128,56430,56128,56423,56128,56447],[55356,57332,8203,56128,56423,8203,56128,56418,8203,56128,56421,8203,56128,56430,8203,56128,56423,8203,56128,56447]);case\"emoji\":return!s([55357,56424,55356,57342,8205,55358,56605,8205,55357,56424,55356,57340],[55357,56424,55356,57342,8203,55358,56605,8203,55357,56424,55356,57340])}return!1}(o[r]),t.supports.everything=t.supports.everything&&t.supports[o[r]],\"flag\"!==o[r]&&(t.supports.everythingExceptFlag=t.supports.everythingExceptFlag&&t.supports[o[r]]);t.supports.everythingExceptFlag=t.supports.everythingExceptFlag&&!t.supports.flag,t.DOMReady=!1,t.readyCallback=function(){t.DOMReady=!0},t.supports.everything||(n=function(){t.readyCallback()},a.addEventListener?(a.addEventListener(\"DOMContentLoaded\",n,!1),e.addEventListener(\"load\",n,!1)):(e.attachEvent(\"onload\",n),a.attachEvent(\"onreadystatechange\",function(){\"complete\"===a.readyState&&t.readyCallback()})),(n=t.source||{}).concatemoji?c(n.concatemoji):n.wpemoji&&n.twemoji&&(c(n.twemoji),c(n.wpemoji)))}(window,document,window._wpemojiSettings);\n",
      "\t\t</script>\n",
      "<style type=\"text/css\">\n",
      "img.wp-smiley,\n",
      "img.emoji {\n",
      "\tdisplay: inline !important;\n",
      "\tborder: none !important;\n",
      "\tbox-shadow: none !important;\n",
      "\theight: 1em !important;\n",
      "\twidth: 1em !important;\n",
      "\tmargin: 0 .07em !important;\n",
      "\tvertical-align: -0.1em !important;\n",
      "\tbackground: none !important;\n",
      "\tpadding: 0 !important;\n",
      "}\n",
      "</style>\n",
      "<style type=\"text/css\">a.heateor_sss_amp{padding:0 4px;}div.heateor_sss_horizontal_sharing a amp-img{display:inline-block;}.heateor_sss_amp_instagram img{background-color:#624E47}.heateor_sss_amp_yummly img{background-color:#E16120}.heateor_sss_amp_youtube img{background-color:#ff0000}.heateor_sss_amp_buffer img{background-color:#000}.heateor_sss_amp_delicious img{background-color:#53BEEE}.heateor_sss_amp_facebook img{background-color:#3C589A}.heateor_sss_amp_digg img{background-color:#006094}.heateor_sss_amp_email img{background-color:#649A3F}.heateor_sss_amp_float_it img{background-color:#53BEEE}.heateor_sss_amp_linkedin img{background-color:#0077B5}.heateor_sss_amp_pinterest img{background-color:#CC2329}.heateor_sss_amp_print img{background-color:#FD6500}.heateor_sss_amp_reddit img{background-color:#FF5700}.heateor_sss_amp_stocktwits img{background-color: #40576F}.heateor_sss_amp_mewe img{background-color:#007da1}.heateor_sss_amp_mix img{background-color:#ff8226}.heateor_sss_amp_tumblr img{background-color:#29435D}.heateor_sss_amp_twitter img{background-color:#55acee}.heateor_sss_amp_vkontakte img{background-color:#5E84AC}.heateor_sss_amp_yahoo img{background-color:#8F03CC}.heateor_sss_amp_xing img{background-color:#00797D}.heateor_sss_amp_instagram img{background-color:#527FA4}.heateor_sss_amp_whatsapp img{background-color:#55EB4C}.heateor_sss_amp_aim img{background-color: #10ff00}.heateor_sss_amp_amazon_wish_list img{background-color: #ffe000}.heateor_sss_amp_aol_mail img{background-color: #2A2A2A}.heateor_sss_amp_app_net img{background-color: #5D5D5D}.heateor_sss_amp_baidu img{background-color: #2319DC}.heateor_sss_amp_balatarin img{background-color: #fff}.heateor_sss_amp_bibsonomy img{background-color: #000}.heateor_sss_amp_bitty_browser img{background-color: #EFEFEF}.heateor_sss_amp_blinklist img{background-color: #3D3C3B}.heateor_sss_amp_blogger_post img{background-color: #FDA352}.heateor_sss_amp_blogmarks img{background-color: #535353}.heateor_sss_amp_bookmarks_fr img{background-color: #E8EAD4}.heateor_sss_amp_box_net img{background-color: #1A74B0}.heateor_sss_amp_buddymarks img{background-color: #ffd400}.heateor_sss_amp_care2_news img{background-color: #6EB43F}.heateor_sss_amp_comment img{background-color: #444}.heateor_sss_amp_diary_ru img{background-color: #E8D8C6}.heateor_sss_amp_diaspora img{background-color: #2E3436}.heateor_sss_amp_dihitt img{background-color: #FF6300}.heateor_sss_amp_diigo img{background-color: #4A8BCA}.heateor_sss_amp_douban img{background-color: #497700}.heateor_sss_amp_draugiem img{background-color: #ffad66}.heateor_sss_amp_evernote img{background-color: #8BE056}.heateor_sss_amp_facebook_messenger img{background-color: #0084FF}.heateor_sss_amp_fark img{background-color: #555}.heateor_sss_amp_fintel img{background-color: #087515}.heateor_sss_amp_flipboard img{background-color: #CC0000}.heateor_sss_amp_folkd img{background-color: #0F70B2}.heateor_sss_amp_google_classroom img{background-color: #FFC112}.heateor_sss_amp_google_bookmarks img{background-color: #CB0909}.heateor_sss_amp_google_gmail img{background-color: #E5E5E5}.heateor_sss_amp_hacker_news img{background-color: #F60}.heateor_sss_amp_hatena img{background-color: #00A6DB}.heateor_sss_amp_instapaper img{background-color: #EDEDED}.heateor_sss_amp_jamespot img{background-color: #FF9E2C}.heateor_sss_amp_kakao img{background-color: #FCB700}.heateor_sss_amp_kik img{background-color: #2A2A2A}.heateor_sss_amp_kindle_it img{background-color: #2A2A2A}.heateor_sss_amp_known img{background-color: #fff101}.heateor_sss_amp_line img{background-color: #00C300}.heateor_sss_amp_livejournal img{background-color: #EDEDED}.heateor_sss_amp_mail_ru img{background-color: #356FAC}.heateor_sss_amp_mendeley img{background-color: #A70805}.heateor_sss_amp_meneame img{background-color: #FF7D12}.heateor_sss_amp_mixi img{background-color: #EDEDED}.heateor_sss_amp_myspace img{background-color: #2A2A2A}.heateor_sss_amp_netlog img{background-color: #2A2A2A}.heateor_sss_amp_netvouz img{background-color: #c0ff00}.heateor_sss_amp_newsvine img{background-color: #055D00}.heateor_sss_amp_nujij img{background-color: #D40000}.heateor_sss_amp_odnoklassniki img{background-color: #F2720C}.heateor_sss_amp_oknotizie img{background-color: #fdff88}.heateor_sss_amp_outlook_com img{background-color: #0072C6}.heateor_sss_amp_papaly img{background-color: #3AC0F6}.heateor_sss_amp_pinboard img{background-color: #1341DE}.heateor_sss_amp_plurk img{background-color: #CF682F}.heateor_sss_amp_pocket img{background-color: #f0f0f0}.heateor_sss_amp_polyvore img{background-color: #2A2A2A}.heateor_sss_amp_printfriendly img{background-color: #61D1D5}.heateor_sss_amp_protopage_bookmarks img{background-color: #413FFF}.heateor_sss_amp_pusha img{background-color: #0072B8}.heateor_sss_amp_qzone img{background-color: #2B82D9}.heateor_sss_amp_refind img{background-color: #1492ef}.heateor_sss_amp_rediff_mypage img{background-color: #D20000}.heateor_sss_amp_renren img{background-color: #005EAC}.heateor_sss_amp_segnalo img{background-color: #fdff88}.heateor_sss_amp_sina_weibo img{background-color: #ff0}.heateor_sss_amp_sitejot img{background-color: #ffc800}.heateor_sss_amp_skype img{background-color: #00AFF0}.heateor_sss_amp_sms img{background-color: #6ebe45}.heateor_sss_amp_slashdot img{background-color: #004242}.heateor_sss_amp_stumpedia img{background-color: #EDEDED}.heateor_sss_amp_svejo img{background-color: #fa7aa3}.heateor_sss_amp_symbaloo_feeds img{background-color: #6DA8F7}.heateor_sss_amp_telegram img{background-color: #3DA5f1}.heateor_sss_amp_trello img{background-color: #1189CE}.heateor_sss_amp_tuenti img{background-color: #0075C9}.heateor_sss_amp_twiddla img{background-color: #EDEDED}.heateor_sss_amp_typepad_post img{background-color: #2A2A2A}.heateor_sss_amp_viadeo img{background-color: #2A2A2A}.heateor_sss_amp_viber img{background-color: #8B628F}.heateor_sss_amp_webnews img{background-color: #CC2512}.heateor_sss_amp_wordpress img{background-color: #464646}.heateor_sss_amp_wykop img{background-color: #367DA9}.heateor_sss_amp_yahoo_mail img{background-color: #400090}.heateor_sss_amp_yahoo_messenger img{background-color: #400090}.heateor_sss_amp_yoolink img{background-color: #A2C538}.heateor_sss_amp_youmob img{background-color: #3B599D}.heateor_sss_amp_gentlereader img{background-color: #46aecf}.heateor_sss_amp_threema img{background-color: #2A2A2A}.heateor_sss_amp amp-img{border-radius:999px;}</style><link href=\"https://www.opencodez.com/wp-content/plugins/crayon-syntax-highlighter/css/min/crayon.min.css?ver=_2.7.2_beta\" id=\"crayon-css\" media=\"all\" rel=\"stylesheet\" type=\"text/css\"/>\n",
      "<link href=\"https://www.opencodez.com/wp-content/plugins/crayon-syntax-highlighter/themes/classic/classic.css?ver=_2.7.2_beta\" id=\"crayon-theme-classic-css\" media=\"all\" rel=\"stylesheet\" type=\"text/css\"/>\n",
      "<link href=\"https://www.opencodez.com/wp-content/plugins/crayon-syntax-highlighter/fonts/monaco.css?ver=_2.7.2_beta\" id=\"crayon-font-monaco-css\" media=\"all\" rel=\"stylesheet\" type=\"text/css\"/>\n",
      "<link href=\"https://www.opencodez.com/wp-includes/css/dist/block-library/style.min.css?ver=5.4.9\" id=\"wp-block-library-css\" media=\"all\" rel=\"stylesheet\" type=\"text/css\"/>\n",
      "<link href=\"https://www.opencodez.com/wp-content/plugins/quick-adsense-reloaded/includes/gutenberg/dist/blocks.style.build.css?ver=2.0.4\" id=\"quads-style-css-css\" media=\"all\" rel=\"stylesheet\" type=\"text/css\"/>\n",
      "<link href=\"https://www.opencodez.com/wp-content/plugins/contact-form-7/includes/css/styles.css?ver=5.1.9\" id=\"contact-form-7-css\" media=\"all\" rel=\"stylesheet\" type=\"text/css\"/>\n",
      "<link href=\"https://www.opencodez.com/wp-content/plugins/download-manager/assets/fontawesome/css/all.min.css?ver=5.4.9\" id=\"wpdm-font-awesome-css\" media=\"all\" rel=\"stylesheet\" type=\"text/css\"/>\n",
      "<link href=\"https://www.opencodez.com/wp-content/plugins/download-manager/assets/bootstrap/css/bootstrap.min.css?ver=5.4.9\" id=\"wpdm-front-bootstrap-css\" media=\"all\" rel=\"stylesheet\" type=\"text/css\"/>\n",
      "<link href=\"https://www.opencodez.com/wp-content/plugins/download-manager/assets/css/front.css?ver=5.4.9\" id=\"wpdm-front-css\" media=\"all\" rel=\"stylesheet\" type=\"text/css\"/>\n",
      "<link href=\"https://www.opencodez.com/wp-content/plugins/wpdm-button-templates/buttons.css?ver=5.4.9\" id=\"wpdm-button-templates-css\" media=\"all\" rel=\"stylesheet\" type=\"text/css\"/>\n",
      "<link href=\"https://www.opencodez.com/wp-content/plugins/sassy-social-share/public/css/sassy-social-share-public.css?ver=3.3.10\" id=\"heateor_sss_frontend_css-css\" media=\"all\" rel=\"stylesheet\" type=\"text/css\"/>\n",
      "<link href=\"https://www.opencodez.com/wp-content/plugins/sassy-social-share/admin/css/sassy-social-share-svg.css?ver=3.3.10\" id=\"heateor_sss_sharing_default_svg-css\" media=\"all\" rel=\"stylesheet\" type=\"text/css\"/>\n",
      "<link href=\"https://www.opencodez.com/wp-content/plugins/wp-review/public/css/wp-review.css?ver=5.3.3\" id=\"wp_review-style-css\" media=\"all\" rel=\"stylesheet\" type=\"text/css\"/>\n",
      "<link href=\"https://www.opencodez.com/wp-content/themes/frontpage/css/flexslider.css?ver=5.4.9\" id=\"flexslider-css\" media=\"all\" rel=\"stylesheet\" type=\"text/css\"/>\n",
      "<link href=\"https://www.opencodez.com/wp-content/themes/frontpage/css/font-awesome.min.css?ver=5.4.9\" id=\"old-fontawesome-css\" media=\"all\" rel=\"stylesheet\" type=\"text/css\"/>\n",
      "<!--[if lte IE 7]>\n",
      "<link rel='stylesheet' id='ie7-old-fontawesome-css'  href='https://www.opencodez.com/wp-content/themes/frontpage/css/font-awesome-ie7.min.css?ver=5.4.9' type='text/css' media='all' />\n",
      "<![endif]-->\n",
      "<link href=\"https://www.opencodez.com/wp-content/themes/frontpage/style.css?ver=5.4.9\" id=\"stylesheet-css\" media=\"all\" rel=\"stylesheet\" type=\"text/css\"/>\n",
      "<style id=\"stylesheet-inline-css\" type=\"text/css\">\n",
      "\n",
      "\t\tbody {background-color:#ffffff; }\n",
      "\t\tbody {background-image: url(https://www.opencodez.com/wp-content/themes/frontpage/images/nobg.png);}\n",
      "\t\tinput#author:focus, input#email:focus, input#url:focus,#contactForm textarea:focus,#commentform textarea:focus { border-color:#ee3322;}\n",
      "\t\t.menu .current-menu-item > a, .menu .current-menu-item, .current-menu-ancestor > a.sf-with-ul, .current-menu-ancestor, footer .textwidget a, #commentform a, .copyrights a:hover, a, footer .widget li a:hover, .menu > li:hover > a, #navigation [class^='icon-']:hover, #navigation [class*=' icon-']:hover, .title a, .single_post .post-info a, .post-info a, .readMore a, .sidebar.c-4-12 a, .copyrights a, .related-posts a, .postauthor h5, .reply a, .fn a, .woocommerce .woocommerce-breadcrumb a, .woocommerce-page .woocommerce-breadcrumb a { color:#ee3322; }\n",
      "\t\t.contact-submit, .nav-previous a, .nav-next a, .header-button, .sub-menu, #commentform input#submit, .tagcloud a, .mts-subscribe .icon-envelope, #searchform .icon-search, .currenttext, .pagination a:hover, .woocommerce a.button, .woocommerce-page a.button, .woocommerce button.button, .woocommerce-page button.button, .woocommerce input.button, .woocommerce-page input.button, .woocommerce #respond input#submit, .woocommerce-page #respond input#submit, .woocommerce #content input.button, .woocommerce-page #content input.button, .commentlist .children li.bypostauthor:after, .woocommerce nav.woocommerce-pagination ul li span.current, .woocommerce-page nav.woocommerce-pagination ul li span.current, .woocommerce #content nav.woocommerce-pagination ul li span.current, .woocommerce-page #content nav.woocommerce-pagination ul li span.current, .woocommerce nav.woocommerce-pagination ul li a:hover, .woocommerce-page nav.woocommerce-pagination ul li a:hover, .woocommerce #content nav.woocommerce-pagination ul li a:hover, .woocommerce-page #content nav.woocommerce-pagination ul li a:hover, .woocommerce nav.woocommerce-pagination ul li a:focus, .woocommerce-page nav.woocommerce-pagination ul li a:focus, .woocommerce #content nav.woocommerce-pagination ul li a:focus, .woocommerce-page #content nav.woocommerce-pagination ul li a:focus, .slidertitle, #tabber ul.tabs li a.selected, .carousel .flex-caption, .carousel .flex-direction-nav a:hover, .flex-control-paging li a.flex-active, .flex-control-paging li a:hover, .woocommerce .bypostauthor:after, #move-to-top, .woocommerce-product-search button[type='submit'], .woocommerce .woocommerce-widget-layered-nav-dropdown__submit { background-color:#ee3322; color: #fff; }\n",
      "\t\ta:hover, .title a:hover, .sidebar.c-4-12 a:hover, .copyrights a:hover, .single_post .post-info a:hover, .post-info a:hover, .single_post a:not(.wp-block-button__link):not(.wp-block-file__button):hover, .fn a:hover, .menu ul li:hover > a, #navigation ul ul [class^='icon-']:hover, #navigation ul ul [class*=' icon-']:hover, h1, h2, h3, h4, h5, h6, .total-comments { color: #0072c6;}\n",
      "\t\t.pagination .nav-previous a:hover, .pagination .nav-next a:hover, .tagcloud a:hover, #commentform input#submit:hover, .woocommerce a.button:hover, .woocommerce-page a.button:hover, .woocommerce button.button:hover, .woocommerce-page button.button:hover, .woocommerce input.button:hover, .woocommerce-page input.button:hover, .woocommerce #respond input#submit:hover, .woocommerce-page #respond input#submit:hover, .woocommerce #content input.button:hover, .woocommerce-page #content input.button:hover, #contactForm #submit:hover, #move-to-top:hover, .woocommerce-product-search button[type='submit']:hover, .woocommerce .woocommerce-widget-layered-nav-dropdown__submit:hover { background-color:#0072c6; }\n",
      "\t\t\n",
      "\t\t\t.shareit { top: 241px; left: auto; z-index: 0; margin: 0 0 0 -108px; width: 90px; position: fixed; overflow: visible; padding: 5px; background: #fff; }\n",
      "\t\t\t.share-item {margin: 2px;}\n",
      "\t\t\n",
      "\t\t\n",
      "\t\t\n",
      "\t\t\t.single_post { width: 100%; } .related-posts { width: 100%; margin-top: 30px; } .related-posts li { width: 20.5%; margin-right: 6%; } .rpexcerpt2.last { margin-right: 6%; }\n",
      "\t\t\n",
      "\t\t\n",
      "\t\t\t.commentlist .children li.bypostauthor:after { content: \"Author\"; position: absolute; right: -1px; top: -1px; padding: 0 14px; color: #fff; }\n",
      "\t\t#contactForm {\r\n",
      "    display: none;\r\n",
      "}\r\n",
      "\r\n",
      "code {    \r\n",
      "    line-height: 1.5;\r\n",
      "    padding: 2px 4px;\r\n",
      "    color: #c7254e;\r\n",
      "    background-color: #f9f2f4;\r\n",
      "    border-radius: 4px;\r\n",
      "    font-family: monospace,monospace;\r\n",
      "}\r\n",
      "\r\n",
      ".custom-link-css a {\r\n",
      "  margin-right:22px\r\n",
      "}\r\n",
      "\r\n",
      ".secondary-navigation {\r\n",
      "\tborder-bottom: 2px solid;\r\n",
      "}\r\n",
      "\r\n",
      ".w3eden .card {\r\n",
      "margin-bottom:5px;\r\n",
      "}\r\n",
      ".w3eden .card-body {\r\n",
      "    padding: 8px;\r\n",
      "}\r\n",
      "\r\n",
      ".w3eden .card h3 {   \r\n",
      "    font-size: 14px;\r\n",
      "}\r\n",
      "\r\n",
      ".w3eden .card-footer {\r\n",
      "    padding: 10px;\r\n",
      "    font-size: 12px;\r\n",
      "}\r\n",
      "\r\n",
      ".w3eden a.btn {\r\n",
      "    margin-top: 8px;\r\n",
      "\tpadding: 4px;\r\n",
      "}\r\n",
      "\r\n",
      ".w3eden .btn-primary {\r\n",
      "    background-color: #fff;\r\n",
      "}\n",
      "\t\t\t\n",
      "</style>\n",
      "<link href=\"https://www.opencodez.com/wp-content/themes/frontpage/css/responsive.css?ver=5.4.9\" id=\"responsive-css\" media=\"all\" rel=\"stylesheet\" type=\"text/css\"/>\n",
      "<script src=\"https://www.opencodez.com/wp-includes/js/jquery/jquery.js?ver=1.12.4-wp\" type=\"text/javascript\"></script>\n",
      "<script src=\"https://www.opencodez.com/wp-includes/js/jquery/jquery-migrate.min.js?ver=1.4.1\" type=\"text/javascript\"></script>\n",
      "<script type=\"text/javascript\">\n",
      "/* <![CDATA[ */\n",
      "var CrayonSyntaxSettings = {\"version\":\"_2.7.2_beta\",\"is_admin\":\"0\",\"ajaxurl\":\"https:\\/\\/www.opencodez.com\\/wp-admin\\/admin-ajax.php\",\"prefix\":\"crayon-\",\"setting\":\"crayon-setting\",\"selected\":\"crayon-setting-selected\",\"changed\":\"crayon-setting-changed\",\"special\":\"crayon-setting-special\",\"orig_value\":\"data-orig-value\",\"debug\":\"\"};\n",
      "var CrayonSyntaxStrings = {\"copy\":\"Press %s to Copy, %s to Paste\",\"minimize\":\"Click To Expand Code\"};\n",
      "/* ]]> */\n",
      "</script>\n",
      "<script src=\"https://www.opencodez.com/wp-content/plugins/crayon-syntax-highlighter/js/min/crayon.min.js?ver=_2.7.2_beta\" type=\"text/javascript\"></script>\n",
      "<script src=\"https://www.opencodez.com/wp-content/plugins/download-manager/assets/bootstrap/js/bootstrap.bundle.min.js?ver=5.4.9\" type=\"text/javascript\"></script>\n",
      "<script type=\"text/javascript\">\n",
      "/* <![CDATA[ */\n",
      "var wpdm_url = {\"home\":\"https:\\/\\/www.opencodez.com\\/\",\"site\":\"https:\\/\\/www.opencodez.com\\/\",\"ajax\":\"https:\\/\\/www.opencodez.com\\/wp-admin\\/admin-ajax.php\"};\n",
      "var wpdm_asset = {\"spinner\":\"<i class=\\\"fas fa-sun fa-spin\\\"><\\/i>\"};\n",
      "/* ]]> */\n",
      "</script>\n",
      "<script src=\"https://www.opencodez.com/wp-content/plugins/download-manager/assets/js/front.js?ver=5.4.9\" type=\"text/javascript\"></script>\n",
      "<script src=\"https://www.opencodez.com/wp-content/plugins/download-manager/assets/js/chosen.jquery.min.js?ver=5.4.9\" type=\"text/javascript\"></script>\n",
      "<script src=\"https://www.opencodez.com/wp-content/themes/frontpage/js/modernizr.min.js?ver=5.4.9\" type=\"text/javascript\"></script>\n",
      "<script src=\"https://www.opencodez.com/wp-content/themes/frontpage/js/customscript.js?ver=5.4.9\" type=\"text/javascript\"></script>\n",
      "<script src=\"https://www.opencodez.com/wp-content/themes/frontpage/js/jquery.flexslider-min.js?ver=5.4.9\" type=\"text/javascript\"></script>\n",
      "<link href=\"https://www.opencodez.com/wp-json/\" rel=\"https://api.w.org/\"/>\n",
      "<link href=\"https://www.opencodez.com/xmlrpc.php?rsd\" rel=\"EditURI\" title=\"RSD\" type=\"application/rsd+xml\"/>\n",
      "<link href=\"https://www.opencodez.com/wp-includes/wlwmanifest.xml\" rel=\"wlwmanifest\" type=\"application/wlwmanifest+xml\"/>\n",
      "<script>\r\n",
      "            var wpdm_site_url = 'https://www.opencodez.com/';\r\n",
      "            var wpdm_home_url = 'https://www.opencodez.com/';\r\n",
      "            var ajax_url = 'https://www.opencodez.com/wp-admin/admin-ajax.php';\r\n",
      "            var wpdm_ajax_url = 'https://www.opencodez.com/wp-admin/admin-ajax.php';\r\n",
      "            var wpdm_ajax_popup = '0';\r\n",
      "        </script>\n",
      "<style>\r\n",
      "            .wpdm-download-link.btn.btn-primary.{\r\n",
      "                border-radius: 4px;\r\n",
      "            }\r\n",
      "        </style>\n",
      "<link href=\"//fonts.googleapis.com/css?family=Droid+Sans:700|Gudea:700|Droid+Sans:normal\" rel=\"stylesheet\" type=\"text/css\"/>\n",
      "<style type=\"text/css\">\n",
      ".menu li a, #navigation .menu{ font-family: \"Droid Sans\";font-weight: 700;font-size: 16px;color: #232323; }\n",
      "h1{ font-family: \"Gudea\";font-weight: 700;font-size: 28px;color: ; }\n",
      "h2{ font-family: \"Gudea\";font-weight: 700;font-size: 24px;color: ; }\n",
      "h3{ font-family: \"Gudea\";font-weight: 700;font-size: 22px;color: ; }\n",
      "h4, .total-comments{ font-family: \"Gudea\";font-weight: 700;font-size: 20px;color: ; }\n",
      "h5{ font-family: \"Gudea\";font-weight: 700;font-size: 18px;color: ; }\n",
      "h6{ font-family: \"Gudea\";font-weight: 700;font-size: 16px;color: ; }\n",
      "body{ font-family: \"Droid Sans\";font-weight: normal;font-size: 16px;color: #222222; }\n",
      "</style>\n",
      "<script async=\"\" src=\"//pagead2.googlesyndication.com/pagead/js/adsbygoogle.js\"></script>\n",
      "<script>\r\n",
      "     (adsbygoogle = window.adsbygoogle || []).push({\r\n",
      "          google_ad_client: \"ca-pub-9966165151816722\",\r\n",
      "          enable_page_level_ads: true\r\n",
      "     });\r\n",
      "</script><meta content=\"WordPress Download Manager 3.0.96\" name=\"generator\">\n",
      "<style>\n",
      "                                @import url('https://fonts.googleapis.com/css?family=Rubik:400,500');\n",
      "                \n",
      "\n",
      "\n",
      "                .w3eden .fetfont,\n",
      "                .w3eden .btn,\n",
      "                .w3eden .btn.wpdm-front h3.title,\n",
      "                .w3eden .wpdm-social-lock-box .IN-widget a span:last-child,\n",
      "                .w3eden #xfilelist .panel-heading,\n",
      "                .w3eden .wpdm-frontend-tabs a,\n",
      "                .w3eden .alert:before,\n",
      "                .w3eden .panel .panel-heading,\n",
      "                .w3eden .discount-msg,\n",
      "                .w3eden .panel.dashboard-panel h3,\n",
      "                .w3eden #wpdm-dashboard-sidebar .list-group-item,\n",
      "                .w3eden #package-description .wp-switch-editor,\n",
      "                .w3eden .w3eden.author-dashbboard .nav.nav-tabs li a,\n",
      "                .w3eden .wpdm_cart thead th,\n",
      "                .w3eden #csp .list-group-item,\n",
      "                .w3eden .modal-title {\n",
      "                    font-family: Rubik, -apple-system, BlinkMacSystemFont, \"Segoe UI\", Roboto, Helvetica, Arial, sans-serif, \"Apple Color Emoji\", \"Segoe UI Emoji\", \"Segoe UI Symbol\";\n",
      "                    text-transform: uppercase;\n",
      "                    font-weight: 500;\n",
      "                }\n",
      "                .w3eden #csp .list-group-item{\n",
      "                    text-transform: unset;\n",
      "                }\n",
      "            </style>\n",
      "<style>\n",
      "\n",
      "            :root{\n",
      "                --color-primary: #4a8eff;\n",
      "                --color-primary-rgb: 74, 142, 255;\n",
      "                --color-primary-hover: #4a8eff;\n",
      "                --color-primary-active: #4a8eff;\n",
      "                --color-secondary: #4a8eff;\n",
      "                --color-secondary-rgb: 74, 142, 255;\n",
      "                --color-secondary-hover: #4a8eff;\n",
      "                --color-secondary-active: #4a8eff;\n",
      "                --color-success: #18ce0f;\n",
      "                --color-success-rgb: 24, 206, 15;\n",
      "                --color-success-hover: #4a8eff;\n",
      "                --color-success-active: #4a8eff;\n",
      "                --color-info: #2CA8FF;\n",
      "                --color-info-rgb: 44, 168, 255;\n",
      "                --color-info-hover: #2CA8FF;\n",
      "                --color-info-active: #2CA8FF;\n",
      "                --color-warning: #f29e0f;\n",
      "                --color-warning-rgb: 242, 158, 15;\n",
      "                --color-warning-hover: orange;\n",
      "                --color-warning-active: orange;\n",
      "                --color-danger: #ff5062;\n",
      "                --color-danger-rgb: 255, 80, 98;\n",
      "                --color-danger-hover: #ff5062;\n",
      "                --color-danger-active: #ff5062;\n",
      "                --color-green: #30b570;\n",
      "                --color-blue: #0073ff;\n",
      "                --color-purple: #8557D3;\n",
      "                --color-red: #ff5062;\n",
      "                --color-muted: rgba(69, 89, 122, 0.6);\n",
      "                --wpdm-font: Rubik, -apple-system, BlinkMacSystemFont, \"Segoe UI\", Roboto, Helvetica, Arial, sans-serif, \"Apple Color Emoji\", \"Segoe UI Emoji\", \"Segoe UI Symbol\";\n",
      "            }\n",
      "            .wpdm-download-link.btn.btn-primary{\n",
      "                border-radius: 4px;\n",
      "            }\n",
      "\n",
      "\n",
      "        </style>\n",
      "</meta></link></meta></meta></link></head>\n",
      "<body class=\"home blog main\" id=\"blog\" itemscope=\"\" itemtype=\"http://schema.org/WebPage\">\n",
      "<div class=\"main-container\">\n",
      "<header class=\"main-header\">\n",
      "<div id=\"header\">\n",
      "<h1 class=\"image-logo\" id=\"logo\"><a href=\"https://www.opencodez.com\"><img alt=\"opencodez\" src=\"https://www.opencodez.com/wp-content/uploads/2016/09/logo8.png\"/></a></h1>\n",
      "<div class=\"widget_text widget-header\" id=\"custom_html-5\"><div class=\"textwidget custom-html-widget\"><script async=\"\" src=\"//pagead2.googlesyndication.com/pagead/js/adsbygoogle.js\"></script>\n",
      "<ins class=\"adsbygoogle\" data-ad-client=\"ca-pub-9966165151816722\" data-ad-slot=\"8801290151\" style=\"display:inline-block;width:728px;height:90px\"></ins>\n",
      "<script>\r\n",
      "(adsbygoogle = window.adsbygoogle || []).push({});\r\n",
      "</script></div></div>\n",
      "<div class=\"secondary-navigation\">\n",
      "<nav id=\"navigation\">\n",
      "<ul class=\"menu\" id=\"menu-main-menu\"><li class=\"custom-link-css menu-item menu-item-type-taxonomy menu-item-object-category menu-item-928\" id=\"menu-item-928\"><a href=\"https://www.opencodez.com/category/java\">Java</a></li>\n",
      "<li class=\"custom-link-css menu-item menu-item-type-taxonomy menu-item-object-category menu-item-930\" id=\"menu-item-930\"><a href=\"https://www.opencodez.com/category/web-development\">Web Development</a></li>\n",
      "<li class=\"custom-link-css menu-item menu-item-type-taxonomy menu-item-object-category menu-item-2573\" id=\"menu-item-2573\"><a href=\"https://www.opencodez.com/category/salesforce\">Salesforce</a></li>\n",
      "<li class=\"custom-link-css menu-item menu-item-type-post_type menu-item-object-page menu-item-has-children menu-item-783\" id=\"menu-item-783\"><a href=\"https://www.opencodez.com/free-themes\">Free WP Themes</a>\n",
      "<ul class=\"sub-menu\">\n",
      "<li class=\"menu-item menu-item-type-post_type menu-item-object-page menu-item-1294\" id=\"menu-item-1294\"><a href=\"https://www.opencodez.com/free-themes/aadya-free-premium-wordpress-theme\">Aadya</a></li>\n",
      "<li class=\"menu-item menu-item-type-post_type menu-item-object-page menu-item-897\" id=\"menu-item-897\"><a href=\"https://www.opencodez.com/free-themes/openstrap\" title=\"Responsive Wordpress Theme\">Openstrap</a></li>\n",
      "<li class=\"menu-item menu-item-type-post_type menu-item-object-page menu-item-784\" id=\"menu-item-784\"><a href=\"https://www.opencodez.com/free-themes/awakening\">Awakening</a></li>\n",
      "<li class=\"menu-item menu-item-type-post_type menu-item-object-page menu-item-2526\" id=\"menu-item-2526\"><a href=\"https://www.opencodez.com/support\">Theme Customization</a></li>\n",
      "</ul>\n",
      "</li>\n",
      "<li class=\"custom-link-css menu-item menu-item-type-taxonomy menu-item-object-category menu-item-2575\" id=\"menu-item-2575\"><a href=\"https://www.opencodez.com/category/how-to-guide\">How To Guide</a></li>\n",
      "<li class=\"custom-link-css menu-item menu-item-type-taxonomy menu-item-object-category menu-item-3122\" id=\"menu-item-3122\"><a href=\"https://www.opencodez.com/category/software-testing\">Software Testing</a></li>\n",
      "<li class=\"menu-item menu-item-type-taxonomy menu-item-object-category menu-item-5017\" id=\"menu-item-5017\"><a href=\"https://www.opencodez.com/category/it-lifestyle\">IT Lifestyle</a></li>\n",
      "<li class=\"current-menu-item custom-link-css menu-item menu-item-type-post_type menu-item-object-page menu-item-3986\" id=\"menu-item-3986\"><a href=\"https://www.opencodez.com/freelancing-opportunity\">Write &amp; Earn</a></li>\n",
      "</ul> <a href=\"#\" id=\"pull\">Menu</a>\n",
      "</nav>\n",
      "</div>\n",
      "</div>\n",
      "</header>\n",
      "<div class=\"home-page\" id=\"page\">\n",
      "<div class=\"content\">\n",
      "<div class=\"article\">\n",
      "<div class=\"left-section\">\n",
      "<div class=\"latest-section\">\n",
      "<h3 class=\"frontTitle\"><div class=\"latest\">Latest</div></h3>\n",
      "<article class=\"pexcerpt0 post excerpt\">\n",
      "<a href=\"https://www.opencodez.com/java/chain-of-responsibility-pattern.htm\" id=\"featured-thumbnail\" title=\"Chain of Responsibility – Behavioral Design Pattern\">\n",
      "<div class=\"featured-thumbnail\"><img alt=\"Chain of Responsibility\" class=\"attachment-featured size-featured wp-post-image\" height=\"100\" src=\"https://www.opencodez.com/wp-content/uploads/2020/08/Java-Design-Patterns-150x100.png\" title=\"\" width=\"150\"/></div> </a>\n",
      "<header>\n",
      "<h2 class=\"title\">\n",
      "<a href=\"https://www.opencodez.com/java/chain-of-responsibility-pattern.htm\" rel=\"bookmark\" title=\"Chain of Responsibility – Behavioral Design Pattern\">Chain of Responsibility – Behavioral Design Pattern</a>\n",
      "</h2>\n",
      "</header>\n",
      "<div class=\"post-content image-caption-format-1\">\n",
      "<p>\n",
      "The Chain of Responsibility Pattern comes under Behavioral design pattern, the main motive of this pattern is to accomplish loose coupling in Software design process where the client request is </p>\n",
      "<div class=\"post-info\"><span class=\"theauthor\"><i class=\"icon-user\"></i> <a href=\"https://www.opencodez.com/author/supriyak\" rel=\"author\" title=\"Posts by Supriya\">Supriya</a></span> <span class=\"thetime\"><i class=\"icon-calendar\"></i> Aug 1, 2020</span></div>\n",
      "<div class=\"readMore\"><a href=\"https://www.opencodez.com/java/chain-of-responsibility-pattern.htm\" rel=\"bookmark\" title=\"Chain of Responsibility – Behavioral Design Pattern\">Read More +</a></div>\n",
      "</div>\n",
      "</article>\n",
      "<article class=\"pexcerpt1 post excerpt last\">\n",
      "<a href=\"https://www.opencodez.com/java/flyweight-pattern.htm\" id=\"featured-thumbnail\" title=\"Flyweight Pattern – Structural Design Pattern\">\n",
      "<div class=\"featured-thumbnail\"><img alt=\"Flyweight Pattern\" class=\"attachment-featured size-featured wp-post-image\" height=\"100\" src=\"https://www.opencodez.com/wp-content/uploads/2020/05/Flyweight-Pattern-Java-Design-Patterns-150x100.png\" title=\"\" width=\"150\"/></div> </a>\n",
      "<header>\n",
      "<h2 class=\"title\">\n",
      "<a href=\"https://www.opencodez.com/java/flyweight-pattern.htm\" rel=\"bookmark\" title=\"Flyweight Pattern – Structural Design Pattern\">Flyweight Pattern – Structural Design Pattern</a>\n",
      "</h2>\n",
      "</header>\n",
      "<div class=\"post-content image-caption-format-1\">\n",
      "<p>\n",
      "Flyweight pattern comes under Structural Design Patterns. By using this pattern we can decrease object count. When there is a need to create huge amount of similar objects then this </p>\n",
      "<div class=\"post-info\"><span class=\"theauthor\"><i class=\"icon-user\"></i> <a href=\"https://www.opencodez.com/author/supriyak\" rel=\"author\" title=\"Posts by Supriya\">Supriya</a></span> <span class=\"thetime\"><i class=\"icon-calendar\"></i> May 20, 2020</span></div>\n",
      "<div class=\"readMore\"><a href=\"https://www.opencodez.com/java/flyweight-pattern.htm\" rel=\"bookmark\" title=\"Flyweight Pattern – Structural Design Pattern\">Read More +</a></div>\n",
      "</div>\n",
      "</article>\n",
      "<article class=\"pexcerpt2 post excerpt\">\n",
      "<a href=\"https://www.opencodez.com/software-testing/become-full-stack-qa-engineer.htm\" id=\"featured-thumbnail\" title=\"What Is Full Stack QA or Tester? 4 Steps Guide For Beginners\">\n",
      "<div class=\"featured-thumbnail\"><img alt=\"Full Stack QA\" class=\"attachment-featured size-featured wp-post-image\" height=\"100\" sizes=\"(max-width: 100px) 100vw, 100px\" src=\"https://www.opencodez.com/wp-content/uploads/2019/10/Full-Stack-Developer-200x200.jpeg\" srcset=\"https://www.opencodez.com/wp-content/uploads/2019/10/Full-Stack-Developer-200x200.jpeg 200w, https://www.opencodez.com/wp-content/uploads/2019/10/Full-Stack-Developer-65x65.jpeg 65w\" title=\"\" width=\"100\"/></div> </a>\n",
      "<header>\n",
      "<h2 class=\"title\">\n",
      "<a href=\"https://www.opencodez.com/software-testing/become-full-stack-qa-engineer.htm\" rel=\"bookmark\" title=\"What Is Full Stack QA or Tester? 4 Steps Guide For Beginners\">What Is Full Stack QA or Tester? 4 Steps Guide For Beginners</a>\n",
      "</h2>\n",
      "</header>\n",
      "<div class=\"post-content image-caption-format-1\">\n",
      "<p>\n",
      "We have always heard the term full-stack developer but what about someone from QA background? Do we also have something like Full Stack QA Engineer? the answer is Yes! So, </p>\n",
      "<div class=\"post-info\"><span class=\"theauthor\"><i class=\"icon-user\"></i> <a href=\"https://www.opencodez.com/author/shilpas\" rel=\"author\" title=\"Posts by Shilpa\">Shilpa</a></span> <span class=\"thetime\"><i class=\"icon-calendar\"></i> May 18, 2020</span></div>\n",
      "<div class=\"readMore\"><a href=\"https://www.opencodez.com/software-testing/become-full-stack-qa-engineer.htm\" rel=\"bookmark\" title=\"What Is Full Stack QA or Tester? 4 Steps Guide For Beginners\">Read More +</a></div>\n",
      "</div>\n",
      "</article>\n",
      "<article class=\"pexcerpt3 post excerpt last\">\n",
      "<a href=\"https://www.opencodez.com/it-lifestyle/7-highly-effective-ways-professionals-can-prepare-recession.htm\" id=\"featured-thumbnail\" title=\"Recession 2020 -7 Highly Effective Ways IT Professionals Can Prepare\">\n",
      "<div class=\"featured-thumbnail\"><img alt=\"Recession 2020\" class=\"attachment-featured size-featured wp-post-image\" height=\"100\" sizes=\"(max-width: 100px) 100vw, 100px\" src=\"https://www.opencodez.com/wp-content/uploads/2020/04/Untitled-drawing1.png\" srcset=\"https://www.opencodez.com/wp-content/uploads/2020/04/Untitled-drawing1.png 200w, https://www.opencodez.com/wp-content/uploads/2020/04/Untitled-drawing1-65x65.png 65w\" title=\"\" width=\"100\"/></div> </a>\n",
      "<header>\n",
      "<h2 class=\"title\">\n",
      "<a href=\"https://www.opencodez.com/it-lifestyle/7-highly-effective-ways-professionals-can-prepare-recession.htm\" rel=\"bookmark\" title=\"Recession 2020 -7 Highly Effective Ways IT Professionals Can Prepare\">Recession 2020 -7 Highly Effective Ways IT Professionals Can Prepare</a>\n",
      "</h2>\n",
      "</header>\n",
      "<div class=\"post-content image-caption-format-1\">\n",
      "<p>\n",
      "Many say that another wave of Recession is approaching. On the internet, you will find several articles talking about an upcoming recession. I am not an economic expert, but the </p>\n",
      "<div class=\"post-info\"><span class=\"theauthor\"><i class=\"icon-user\"></i> <a href=\"https://www.opencodez.com/author/shilpas\" rel=\"author\" title=\"Posts by Shilpa\">Shilpa</a></span> <span class=\"thetime\"><i class=\"icon-calendar\"></i> Apr 27, 2020</span></div>\n",
      "<div class=\"readMore\"><a href=\"https://www.opencodez.com/it-lifestyle/7-highly-effective-ways-professionals-can-prepare-recession.htm\" rel=\"bookmark\" title=\"Recession 2020 -7 Highly Effective Ways IT Professionals Can Prepare\">Read More +</a></div>\n",
      "</div>\n",
      "</article>\n",
      "<article class=\"pexcerpt4 post excerpt\">\n",
      "<a href=\"https://www.opencodez.com/it-lifestyle/10-productivity-tips-for-working-from-home.htm\" id=\"featured-thumbnail\" title=\"10 Productivity Tips For Working From Home (WFH) – Practical To Follow\">\n",
      "<div class=\"featured-thumbnail\"><img alt=\"Productivity Tips For Working From Home\" class=\"attachment-featured size-featured wp-post-image\" height=\"100\" sizes=\"(max-width: 100px) 100vw, 100px\" src=\"https://www.opencodez.com/wp-content/uploads/2020/03/Untitled-drawing-4.png\" srcset=\"https://www.opencodez.com/wp-content/uploads/2020/03/Untitled-drawing-4.png 200w, https://www.opencodez.com/wp-content/uploads/2020/03/Untitled-drawing-4-65x65.png 65w\" title=\"\" width=\"100\"/></div> </a>\n",
      "<header>\n",
      "<h2 class=\"title\">\n",
      "<a href=\"https://www.opencodez.com/it-lifestyle/10-productivity-tips-for-working-from-home.htm\" rel=\"bookmark\" title=\"10 Productivity Tips For Working From Home (WFH) – Practical To Follow\">10 Productivity Tips For Working From Home (WFH) – Practical To Follow</a>\n",
      "</h2>\n",
      "</header>\n",
      "<div class=\"post-content image-caption-format-1\">\n",
      "<p>\n",
      "It’s been more than 5 years, I am working from home (WFH) now. After the birth of my daughter, I was blessed to get this opportunity to WFH and at </p>\n",
      "<div class=\"post-info\"><span class=\"theauthor\"><i class=\"icon-user\"></i> <a href=\"https://www.opencodez.com/author/shilpas\" rel=\"author\" title=\"Posts by Shilpa\">Shilpa</a></span> <span class=\"thetime\"><i class=\"icon-calendar\"></i> Mar 30, 2020</span></div>\n",
      "<div class=\"readMore\"><a href=\"https://www.opencodez.com/it-lifestyle/10-productivity-tips-for-working-from-home.htm\" rel=\"bookmark\" title=\"10 Productivity Tips For Working From Home (WFH) – Practical To Follow\">Read More +</a></div>\n",
      "</div>\n",
      "</article>\n",
      "<article class=\"pexcerpt5 post excerpt last\">\n",
      "<a href=\"https://www.opencodez.com/software-testing/complete-step-step-guide-gherkin-beginners.htm\" id=\"featured-thumbnail\" title=\"Complete Step by Step Guide of Gherkin for Beginners\">\n",
      "<div class=\"featured-thumbnail\"><img alt=\"Gherkin\" class=\"attachment-featured size-featured wp-post-image\" height=\"100\" sizes=\"(max-width: 100px) 100vw, 100px\" src=\"https://www.opencodez.com/wp-content/uploads/2020/03/Untitled-drawing-3.png\" srcset=\"https://www.opencodez.com/wp-content/uploads/2020/03/Untitled-drawing-3.png 200w, https://www.opencodez.com/wp-content/uploads/2020/03/Untitled-drawing-3-65x65.png 65w\" title=\"\" width=\"100\"/></div> </a>\n",
      "<header>\n",
      "<h2 class=\"title\">\n",
      "<a href=\"https://www.opencodez.com/software-testing/complete-step-step-guide-gherkin-beginners.htm\" rel=\"bookmark\" title=\"Complete Step by Step Guide of Gherkin for Beginners\">Complete Step by Step Guide of Gherkin for Beginners</a>\n",
      "</h2>\n",
      "</header>\n",
      "<div class=\"post-content image-caption-format-1\">\n",
      "<p>\n",
      "Gherkin is a plain English text language, used by BDD (Behavior Driven Development) tool ‘Cucumber‘ to define and execute the test scripts. 1. What is BDD? BDD (Behavior Driven Development) </p>\n",
      "<div class=\"post-info\"><span class=\"theauthor\"><i class=\"icon-user\"></i> <a href=\"https://www.opencodez.com/author/ppritam\" rel=\"author\" title=\"Posts by Pritam\">Pritam</a></span> <span class=\"thetime\"><i class=\"icon-calendar\"></i> Mar 22, 2020</span></div>\n",
      "<div class=\"readMore\"><a href=\"https://www.opencodez.com/software-testing/complete-step-step-guide-gherkin-beginners.htm\" rel=\"bookmark\" title=\"Complete Step by Step Guide of Gherkin for Beginners\">Read More +</a></div>\n",
      "</div>\n",
      "</article>\n",
      "<article class=\"pexcerpt6 post excerpt\">\n",
      "<a href=\"https://www.opencodez.com/how-to-guide/the-8-most-commonly-asked-hr-interview-questions.htm\" id=\"featured-thumbnail\" title=\"Top 8 Most Commonly asked HR Interview Questions With Answers\">\n",
      "<div class=\"featured-thumbnail\"><img alt=\"HR Interview Questions\" class=\"attachment-featured size-featured wp-post-image\" height=\"100\" sizes=\"(max-width: 100px) 100vw, 100px\" src=\"https://www.opencodez.com/wp-content/uploads/2020/03/HR-Interview-Questions-200x200.png\" srcset=\"https://www.opencodez.com/wp-content/uploads/2020/03/HR-Interview-Questions-200x200.png 200w, https://www.opencodez.com/wp-content/uploads/2020/03/HR-Interview-Questions-65x65.png 65w\" title=\"\" width=\"100\"/></div> </a>\n",
      "<header>\n",
      "<h2 class=\"title\">\n",
      "<a href=\"https://www.opencodez.com/how-to-guide/the-8-most-commonly-asked-hr-interview-questions.htm\" rel=\"bookmark\" title=\"Top 8 Most Commonly asked HR Interview Questions With Answers\">Top 8 Most Commonly asked HR Interview Questions With Answers</a>\n",
      "</h2>\n",
      "</header>\n",
      "<div class=\"post-content image-caption-format-1\">\n",
      "<p>\n",
      "There are some questions that are frequently asked during Human Resource interviews. As an IT professional, these HR Interview Questions may appear not so important as technical questions, but in </p>\n",
      "<div class=\"post-info\"><span class=\"theauthor\"><i class=\"icon-user\"></i> <a href=\"https://www.opencodez.com/author/shilpas\" rel=\"author\" title=\"Posts by Shilpa\">Shilpa</a></span> <span class=\"thetime\"><i class=\"icon-calendar\"></i> Mar 21, 2020</span></div>\n",
      "<div class=\"readMore\"><a href=\"https://www.opencodez.com/how-to-guide/the-8-most-commonly-asked-hr-interview-questions.htm\" rel=\"bookmark\" title=\"Top 8 Most Commonly asked HR Interview Questions With Answers\">Read More +</a></div>\n",
      "</div>\n",
      "</article>\n",
      "<article class=\"pexcerpt7 post excerpt last\">\n",
      "<a href=\"https://www.opencodez.com/software-testing/free-testing-artifacts-deliverables-template-to-download.htm\" id=\"featured-thumbnail\" title=\"7 Free Testing Artifacts / Deliverables Template To Download\">\n",
      "<div class=\"featured-thumbnail\"><img alt=\"Testing Artifacts\" class=\"attachment-featured size-featured wp-post-image\" height=\"100\" sizes=\"(max-width: 100px) 100vw, 100px\" src=\"https://www.opencodez.com/wp-content/uploads/2020/03/Testing-Artifacts-200x200.png\" srcset=\"https://www.opencodez.com/wp-content/uploads/2020/03/Testing-Artifacts-200x200.png 200w, https://www.opencodez.com/wp-content/uploads/2020/03/Testing-Artifacts-65x65.png 65w, https://www.opencodez.com/wp-content/uploads/2020/03/Testing-Artifacts.png 250w\" title=\"\" width=\"100\"/></div> </a>\n",
      "<header>\n",
      "<h2 class=\"title\">\n",
      "<a href=\"https://www.opencodez.com/software-testing/free-testing-artifacts-deliverables-template-to-download.htm\" rel=\"bookmark\" title=\"7 Free Testing Artifacts / Deliverables Template To Download\">7 Free Testing Artifacts / Deliverables Template To Download</a>\n",
      "</h2>\n",
      "</header>\n",
      "<div class=\"post-content image-caption-format-1\">\n",
      "<p>\n",
      "Testing Artifacts are deliverables or documents prepared during the testing process. These documents are shared at different stages of Testing with different stakeholders like clients, Test Managers, Team members, and </p>\n",
      "<div class=\"post-info\"><span class=\"theauthor\"><i class=\"icon-user\"></i> <a href=\"https://www.opencodez.com/author/shilpas\" rel=\"author\" title=\"Posts by Shilpa\">Shilpa</a></span> <span class=\"thetime\"><i class=\"icon-calendar\"></i> Mar 19, 2020</span></div>\n",
      "<div class=\"readMore\"><a href=\"https://www.opencodez.com/software-testing/free-testing-artifacts-deliverables-template-to-download.htm\" rel=\"bookmark\" title=\"7 Free Testing Artifacts / Deliverables Template To Download\">Read More +</a></div>\n",
      "</div>\n",
      "</article>\n",
      "<article class=\"pexcerpt8 post excerpt\">\n",
      "<a href=\"https://www.opencodez.com/software-testing/test-cases-with-examples-free-test-case-template-to-download.htm\" id=\"featured-thumbnail\" title=\"What is Test Case (TC), Examples with Free Template To Download\">\n",
      "<div class=\"featured-thumbnail\"><img alt=\"Test Case\" class=\"attachment-featured size-featured wp-post-image\" height=\"100\" sizes=\"(max-width: 100px) 100vw, 100px\" src=\"https://www.opencodez.com/wp-content/uploads/2020/03/Test-Case_F.png\" srcset=\"https://www.opencodez.com/wp-content/uploads/2020/03/Test-Case_F.png 200w, https://www.opencodez.com/wp-content/uploads/2020/03/Test-Case_F-65x65.png 65w\" title=\"\" width=\"100\"/></div> </a>\n",
      "<header>\n",
      "<h2 class=\"title\">\n",
      "<a href=\"https://www.opencodez.com/software-testing/test-cases-with-examples-free-test-case-template-to-download.htm\" rel=\"bookmark\" title=\"What is Test Case (TC), Examples with Free Template To Download\">What is Test Case (TC), Examples with Free Template To Download</a>\n",
      "</h2>\n",
      "</header>\n",
      "<div class=\"post-content image-caption-format-1\">\n",
      "<p>\n",
      "Test Case (TC) is the most important document prepared in testing activities. It is the base for testing an application. So make sure it is reviewed by all respective stakeholders </p>\n",
      "<div class=\"post-info\"><span class=\"theauthor\"><i class=\"icon-user\"></i> <a href=\"https://www.opencodez.com/author/shilpas\" rel=\"author\" title=\"Posts by Shilpa\">Shilpa</a></span> <span class=\"thetime\"><i class=\"icon-calendar\"></i> Mar 16, 2020</span></div>\n",
      "<div class=\"readMore\"><a href=\"https://www.opencodez.com/software-testing/test-cases-with-examples-free-test-case-template-to-download.htm\" rel=\"bookmark\" title=\"What is Test Case (TC), Examples with Free Template To Download\">Read More +</a></div>\n",
      "</div>\n",
      "</article>\n",
      "<article class=\"pexcerpt9 post excerpt last\">\n",
      "<a href=\"https://www.opencodez.com/software-testing/test-data.htm\" id=\"featured-thumbnail\" title=\"What is Test Data? Examples with Free Template to Download\">\n",
      "<div class=\"featured-thumbnail\"><img alt=\"Test Data\" class=\"attachment-featured size-featured wp-post-image\" height=\"100\" sizes=\"(max-width: 100px) 100vw, 100px\" src=\"https://www.opencodez.com/wp-content/uploads/2020/03/Test-Data-2-200x200.png\" srcset=\"https://www.opencodez.com/wp-content/uploads/2020/03/Test-Data-2-200x200.png 200w, https://www.opencodez.com/wp-content/uploads/2020/03/Test-Data-2-300x300.png 300w, https://www.opencodez.com/wp-content/uploads/2020/03/Test-Data-2-768x768.png 768w, https://www.opencodez.com/wp-content/uploads/2020/03/Test-Data-2-1024x1024.png 1024w, https://www.opencodez.com/wp-content/uploads/2020/03/Test-Data-2-65x65.png 65w, https://www.opencodez.com/wp-content/uploads/2020/03/Test-Data-2.png 2048w\" title=\"\" width=\"100\"/></div> </a>\n",
      "<header>\n",
      "<h2 class=\"title\">\n",
      "<a href=\"https://www.opencodez.com/software-testing/test-data.htm\" rel=\"bookmark\" title=\"What is Test Data? Examples with Free Template to Download\">What is Test Data? Examples with Free Template to Download</a>\n",
      "</h2>\n",
      "</header>\n",
      "<div class=\"post-content image-caption-format-1\">\n",
      "<p>\n",
      "Test data plays an important role in executing test cases. Designing appropriate data is one of the main tasks of application testing. What is Test Data? Test data is a </p>\n",
      "<div class=\"post-info\"><span class=\"theauthor\"><i class=\"icon-user\"></i> <a href=\"https://www.opencodez.com/author/shilpas\" rel=\"author\" title=\"Posts by Shilpa\">Shilpa</a></span> <span class=\"thetime\"><i class=\"icon-calendar\"></i> Mar 12, 2020</span></div>\n",
      "<div class=\"readMore\"><a href=\"https://www.opencodez.com/software-testing/test-data.htm\" rel=\"bookmark\" title=\"What is Test Data? Examples with Free Template to Download\">Read More +</a></div>\n",
      "</div>\n",
      "</article>\n",
      "<article class=\"pexcerpt10 post excerpt\">\n",
      "<a href=\"https://www.opencodez.com/software-testing/what-is-test-scenario-template-with-examples.htm\" id=\"featured-thumbnail\" title=\"What is Test Scenario? Template with Examples,Difference Between Test Scenario and Test Case\">\n",
      "<div class=\"featured-thumbnail\"><img alt=\"Test Scenario\" class=\"attachment-featured size-featured wp-post-image\" height=\"100\" sizes=\"(max-width: 100px) 100vw, 100px\" src=\"https://www.opencodez.com/wp-content/uploads/2020/03/Test-Scenario_Featured1-200x200.png\" srcset=\"https://www.opencodez.com/wp-content/uploads/2020/03/Test-Scenario_Featured1-200x200.png 200w, https://www.opencodez.com/wp-content/uploads/2020/03/Test-Scenario_Featured1-65x65.png 65w, https://www.opencodez.com/wp-content/uploads/2020/03/Test-Scenario_Featured1.png 250w\" title=\"\" width=\"100\"/></div> </a>\n",
      "<header>\n",
      "<h2 class=\"title\">\n",
      "<a href=\"https://www.opencodez.com/software-testing/what-is-test-scenario-template-with-examples.htm\" rel=\"bookmark\" title=\"What is Test Scenario? Template with Examples,Difference Between Test Scenario and Test Case\">What is Test Scenario? Template with Examples,Difference Between Test Scenario and Test Case</a>\n",
      "</h2>\n",
      "</header>\n",
      "<div class=\"post-content image-caption-format-1\">\n",
      "<p>\n",
      "For Testers, Test Scenario is not new, but many testing professionals are still vague about this concept. So, what is a Test Scenario? Why we create it? How to create </p>\n",
      "<div class=\"post-info\"><span class=\"theauthor\"><i class=\"icon-user\"></i> <a href=\"https://www.opencodez.com/author/shilpas\" rel=\"author\" title=\"Posts by Shilpa\">Shilpa</a></span> <span class=\"thetime\"><i class=\"icon-calendar\"></i> Mar 10, 2020</span></div>\n",
      "<div class=\"readMore\"><a href=\"https://www.opencodez.com/software-testing/what-is-test-scenario-template-with-examples.htm\" rel=\"bookmark\" title=\"What is Test Scenario? Template with Examples,Difference Between Test Scenario and Test Case\">Read More +</a></div>\n",
      "</div>\n",
      "</article>\n",
      "<article class=\"pexcerpt11 post excerpt last\">\n",
      "<a href=\"https://www.opencodez.com/software-testing/top-10-etl-testing-tools.htm\" id=\"featured-thumbnail\" title=\"Top 10 ETL Testing Tools to Watch in 2020\">\n",
      "<div class=\"featured-thumbnail\"><img alt=\"\" class=\"attachment-featured size-featured wp-post-image\" height=\"100\" sizes=\"(max-width: 100px) 100vw, 100px\" src=\"https://www.opencodez.com/wp-content/uploads/2020/03/ETL-Testing-Tools-3.png\" srcset=\"https://www.opencodez.com/wp-content/uploads/2020/03/ETL-Testing-Tools-3.png 200w, https://www.opencodez.com/wp-content/uploads/2020/03/ETL-Testing-Tools-3-65x65.png 65w\" title=\"\" width=\"100\"/></div> </a>\n",
      "<header>\n",
      "<h2 class=\"title\">\n",
      "<a href=\"https://www.opencodez.com/software-testing/top-10-etl-testing-tools.htm\" rel=\"bookmark\" title=\"Top 10 ETL Testing Tools to Watch in 2020\">Top 10 ETL Testing Tools to Watch in 2020</a>\n",
      "</h2>\n",
      "</header>\n",
      "<div class=\"post-content image-caption-format-1\">\n",
      "<p>\n",
      "ETL Testing has a lot of demand in the market all the time. ETL Testers are paid better than Manual/ Functional ones. So, those who are interested in Database /SQL </p>\n",
      "<div class=\"post-info\"><span class=\"theauthor\"><i class=\"icon-user\"></i> <a href=\"https://www.opencodez.com/author/shilpas\" rel=\"author\" title=\"Posts by Shilpa\">Shilpa</a></span> <span class=\"thetime\"><i class=\"icon-calendar\"></i> Mar 4, 2020</span></div>\n",
      "<div class=\"readMore\"><a href=\"https://www.opencodez.com/software-testing/top-10-etl-testing-tools.htm\" rel=\"bookmark\" title=\"Top 10 ETL Testing Tools to Watch in 2020\">Read More +</a></div>\n",
      "</div>\n",
      "</article>\n",
      "</div>\n",
      "<div class=\"pagination\"><ul><li class=\"current\"><span class=\"currenttext\">1</span></li><li><a class=\"inactive\" href=\"https://www.opencodez.com/page/2\">2</a></li><li><a class=\"inactive\" href=\"https://www.opencodez.com/page/3\">3</a></li><li><a class=\"inactive\" href=\"https://www.opencodez.com/page/4\">4</a></li><li><a class=\"inactive\" href=\"https://www.opencodez.com/page/2\">Next ›</a></li><a class=\"inactive\" href=\"https://www.opencodez.com/page/19\">Last »</a></ul></div>\n",
      "</div>\n",
      "<div class=\"random-section\">\n",
      "<h3 class=\"frontTitle\"><div class=\"random\">Random</div></h3>\n",
      "<article class=\"pexcerpt0 post excerpt\">\n",
      "<a href=\"https://www.opencodez.com/it-lifestyle/10-productivity-tips-for-working-from-home.htm\" id=\"featured-thumbnail\" title=\"10 Productivity Tips For Working From Home (WFH) – Practical To Follow\">\n",
      "<div class=\"featured-thumbnail\"><img alt=\"Productivity Tips For Working From Home\" class=\"attachment-random size-random wp-post-image\" height=\"115\" src=\"https://www.opencodez.com/wp-content/uploads/2020/03/Untitled-drawing-4-200x115.png\" title=\"\" width=\"200\"/></div> </a>\n",
      "<header>\n",
      "<h2 class=\"title\">\n",
      "<a href=\"https://www.opencodez.com/it-lifestyle/10-productivity-tips-for-working-from-home.htm\" rel=\"bookmark\" title=\"10 Productivity Tips For Working From Home (WFH) – Practical To Follow\">10 Productivity Tips For Working From Home (WFH) – Practical To Follow</a>\n",
      "</h2>\n",
      "</header>\n",
      "<div class=\"post-content image-caption-format-1\">\n",
      "<div class=\"post-info\"><span class=\"theauthor\"><i class=\"icon-user\"></i> <a href=\"https://www.opencodez.com/author/shilpas\" rel=\"author\" title=\"Posts by Shilpa\">Shilpa</a></span> <span class=\"thetime\"><i class=\"icon-calendar\"></i> Mar 30</span></div>\n",
      "</div>\n",
      "</article>\n",
      "<article class=\"pexcerpt1 post excerpt last\">\n",
      "<a href=\"https://www.opencodez.com/salesforce/introduction-force-com.htm\" id=\"featured-thumbnail\" title=\"Salesforce Tutorial# 3: Introduction to Force.com\">\n",
      "<div class=\"featured-thumbnail\"><img alt=\"Force.com\" class=\"attachment-random size-random wp-post-image\" height=\"115\" src=\"https://www.opencodez.com/wp-content/uploads/2017/02/Force.com_.jpg\" title=\"\" width=\"115\"/></div> </a>\n",
      "<header>\n",
      "<h2 class=\"title\">\n",
      "<a href=\"https://www.opencodez.com/salesforce/introduction-force-com.htm\" rel=\"bookmark\" title=\"Salesforce Tutorial# 3: Introduction to Force.com\">Salesforce Tutorial# 3: Introduction to Force.com</a>\n",
      "</h2>\n",
      "</header>\n",
      "<div class=\"post-content image-caption-format-1\">\n",
      "<div class=\"post-info\"><span class=\"theauthor\"><i class=\"icon-user\"></i> <a href=\"https://www.opencodez.com/author/renukaz\" rel=\"author\" title=\"Posts by Renuka\">Renuka</a></span> <span class=\"thetime\"><i class=\"icon-calendar\"></i> Feb 26</span></div>\n",
      "</div>\n",
      "</article>\n",
      "<article class=\"pexcerpt2 post excerpt\">\n",
      "<a href=\"https://www.opencodez.com/java/observer-design-pattern.htm\" id=\"featured-thumbnail\" title=\"Java Behavioral Design Patterns – Observer Design Pattern\">\n",
      "<div class=\"featured-thumbnail\"><img alt=\"\" class=\"attachment-random size-random wp-post-image\" height=\"115\" src=\"https://www.opencodez.com/wp-content/uploads/2018/04/Observer-Design-Pattern.png\" title=\"\" width=\"153\"/></div> </a>\n",
      "<header>\n",
      "<h2 class=\"title\">\n",
      "<a href=\"https://www.opencodez.com/java/observer-design-pattern.htm\" rel=\"bookmark\" title=\"Java Behavioral Design Patterns – Observer Design Pattern\">Java Behavioral Design Patterns – Observer Design Pattern</a>\n",
      "</h2>\n",
      "</header>\n",
      "<div class=\"post-content image-caption-format-1\">\n",
      "<div class=\"post-info\"><span class=\"theauthor\"><i class=\"icon-user\"></i> <a href=\"https://www.opencodez.com/author/supriyak\" rel=\"author\" title=\"Posts by Supriya\">Supriya</a></span> <span class=\"thetime\"><i class=\"icon-calendar\"></i> Apr 16</span></div>\n",
      "</div>\n",
      "</article>\n",
      "<article class=\"pexcerpt3 post excerpt last\">\n",
      "<a href=\"https://www.opencodez.com/salesforce/data-management-salesforce.htm\" id=\"featured-thumbnail\" title=\"Salesforce Tutorial# 11: Salesforce Data Management\">\n",
      "<div class=\"featured-thumbnail\"><img alt=\"salesforce data management\" class=\"attachment-random size-random wp-post-image\" height=\"115\" src=\"https://www.opencodez.com/wp-content/uploads/2017/09/salesforce-data-migration.png\" title=\"\" width=\"162\"/></div> </a>\n",
      "<header>\n",
      "<h2 class=\"title\">\n",
      "<a href=\"https://www.opencodez.com/salesforce/data-management-salesforce.htm\" rel=\"bookmark\" title=\"Salesforce Tutorial# 11: Salesforce Data Management\">Salesforce Tutorial# 11: Salesforce Data Management</a>\n",
      "</h2>\n",
      "</header>\n",
      "<div class=\"post-content image-caption-format-1\">\n",
      "<div class=\"post-info\"><span class=\"theauthor\"><i class=\"icon-user\"></i> <a href=\"https://www.opencodez.com/author/renukaz\" rel=\"author\" title=\"Posts by Renuka\">Renuka</a></span> <span class=\"thetime\"><i class=\"icon-calendar\"></i> Sep 26</span></div>\n",
      "</div>\n",
      "</article>\n",
      "<article class=\"pexcerpt4 post excerpt\">\n",
      "<a href=\"https://www.opencodez.com/react-native/react-native-props-and-state.htm\" id=\"featured-thumbnail\" title=\"React Native:Tutorial #2 – React Native Props and State\">\n",
      "<div class=\"featured-thumbnail\"><img alt=\"\" class=\"attachment-random size-random wp-post-image\" height=\"115\" src=\"https://www.opencodez.com/wp-content/uploads/2019/08/React-Native-Props-and-State-200x115.png\" title=\"\" width=\"200\"/></div> </a>\n",
      "<header>\n",
      "<h2 class=\"title\">\n",
      "<a href=\"https://www.opencodez.com/react-native/react-native-props-and-state.htm\" rel=\"bookmark\" title=\"React Native:Tutorial #2 – React Native Props and State\">React Native:Tutorial #2 – React Native Props and State</a>\n",
      "</h2>\n",
      "</header>\n",
      "<div class=\"post-content image-caption-format-1\">\n",
      "<div class=\"post-info\"><span class=\"theauthor\"><i class=\"icon-user\"></i> <a href=\"https://www.opencodez.com/author/pavans\" rel=\"author\" title=\"Posts by Pavan\">Pavan</a></span> <span class=\"thetime\"><i class=\"icon-calendar\"></i> Aug 29</span></div>\n",
      "</div>\n",
      "</article>\n",
      "<article class=\"pexcerpt5 post excerpt last\">\n",
      "<a href=\"https://www.opencodez.com/java/deeplearaning4j.htm\" id=\"featured-thumbnail\" title=\"A Quick Easy Guide to Deep Learning with Java – Building Neural Network\">\n",
      "<div class=\"featured-thumbnail\"><img alt=\"Deep Learning with Java\" class=\"attachment-random size-random wp-post-image\" height=\"115\" src=\"https://www.opencodez.com/wp-content/uploads/2018/03/Deep-Learning-1.png\" title=\"\" width=\"153\"/></div> </a>\n",
      "<header>\n",
      "<h2 class=\"title\">\n",
      "<a href=\"https://www.opencodez.com/java/deeplearaning4j.htm\" rel=\"bookmark\" title=\"A Quick Easy Guide to Deep Learning with Java – Building Neural Network\">A Quick Easy Guide to Deep Learning with Java – Building Neural Network</a>\n",
      "</h2>\n",
      "</header>\n",
      "<div class=\"post-content image-caption-format-1\">\n",
      "<div class=\"post-info\"><span class=\"theauthor\"><i class=\"icon-user\"></i> <a href=\"https://www.opencodez.com/author/pavans\" rel=\"author\" title=\"Posts by Pavan\">Pavan</a></span> <span class=\"thetime\"><i class=\"icon-calendar\"></i> Mar 8</span></div>\n",
      "</div>\n",
      "</article>\n",
      "<article class=\"pexcerpt6 post excerpt\">\n",
      "<a href=\"https://www.opencodez.com/java/spring-boot-java-development-made-easy.htm\" id=\"featured-thumbnail\" title=\"Spring Boot – Java Development Made Easy\">\n",
      "<div class=\"featured-thumbnail\"><img alt=\"\" class=\"attachment-random size-random wp-post-image\" height=\"103\" src=\"https://www.opencodez.com/wp-content/uploads/2016/09/Spring-Logo.png\" title=\"\" width=\"200\"/></div> </a>\n",
      "<header>\n",
      "<h2 class=\"title\">\n",
      "<a href=\"https://www.opencodez.com/java/spring-boot-java-development-made-easy.htm\" rel=\"bookmark\" title=\"Spring Boot – Java Development Made Easy\">Spring Boot – Java Development Made Easy</a>\n",
      "</h2>\n",
      "</header>\n",
      "<div class=\"post-content image-caption-format-1\">\n",
      "<div class=\"post-info\"><span class=\"theauthor\"><i class=\"icon-user\"></i> <a href=\"https://www.opencodez.com/author/pavans\" rel=\"author\" title=\"Posts by Pavan\">Pavan</a></span> <span class=\"thetime\"><i class=\"icon-calendar\"></i> Sep 18</span></div>\n",
      "</div>\n",
      "</article>\n",
      "<article class=\"pexcerpt7 post excerpt last\">\n",
      "<a href=\"https://www.opencodez.com/oracle/oracle-job-scheduler-guide-examples-part-1.htm\" id=\"featured-thumbnail\" title=\"Oracle Job Scheduler Guide With Examples – Part 1\">\n",
      "<div class=\"featured-thumbnail\"><img alt=\"\" class=\"attachment-random size-random wp-post-image\" height=\"115\" src=\"https://www.opencodez.com/wp-content/uploads/2017/02/Oracle-Job-Scheduler.gif\" title=\"\" width=\"167\"/></div> </a>\n",
      "<header>\n",
      "<h2 class=\"title\">\n",
      "<a href=\"https://www.opencodez.com/oracle/oracle-job-scheduler-guide-examples-part-1.htm\" rel=\"bookmark\" title=\"Oracle Job Scheduler Guide With Examples – Part 1\">Oracle Job Scheduler Guide With Examples – Part 1</a>\n",
      "</h2>\n",
      "</header>\n",
      "<div class=\"post-content image-caption-format-1\">\n",
      "<div class=\"post-info\"><span class=\"theauthor\"><i class=\"icon-user\"></i> <a href=\"https://www.opencodez.com/author/pavans\" rel=\"author\" title=\"Posts by Pavan\">Pavan</a></span> <span class=\"thetime\"><i class=\"icon-calendar\"></i> Feb 28</span></div>\n",
      "</div>\n",
      "</article>\n",
      "<article class=\"pexcerpt8 post excerpt\">\n",
      "<a href=\"https://www.opencodez.com/java/java-creational-design-patterns-builder-pattern.htm\" id=\"featured-thumbnail\" title=\"Java Creational Design Patterns – Builder Pattern\">\n",
      "<div class=\"featured-thumbnail\"><img alt=\"Builder Pattern\" class=\"attachment-random size-random wp-post-image\" height=\"115\" src=\"https://www.opencodez.com/wp-content/uploads/2019/07/Builder-Pattern-e1564311744589.png\" title=\"\" width=\"153\"/></div> </a>\n",
      "<header>\n",
      "<h2 class=\"title\">\n",
      "<a href=\"https://www.opencodez.com/java/java-creational-design-patterns-builder-pattern.htm\" rel=\"bookmark\" title=\"Java Creational Design Patterns – Builder Pattern\">Java Creational Design Patterns – Builder Pattern</a>\n",
      "</h2>\n",
      "</header>\n",
      "<div class=\"post-content image-caption-format-1\">\n",
      "<div class=\"post-info\"><span class=\"theauthor\"><i class=\"icon-user\"></i> <a href=\"https://www.opencodez.com/author/supriyak\" rel=\"author\" title=\"Posts by Supriya\">Supriya</a></span> <span class=\"thetime\"><i class=\"icon-calendar\"></i> Jul 25</span></div>\n",
      "</div>\n",
      "</article>\n",
      "<article class=\"pexcerpt9 post excerpt last\">\n",
      "<a href=\"https://www.opencodez.com/web-development/web-scraping-using-beautiful-soup-part-1.htm\" id=\"featured-thumbnail\" title=\"Web Scraping Using Beautiful Soup + Python – Tutorial Part 1\">\n",
      "<div class=\"featured-thumbnail\"><img alt=\"Web Scraping using Beautiful Soup\" class=\"attachment-random size-random wp-post-image\" height=\"115\" src=\"https://www.opencodez.com/wp-content/uploads/2019/06/Web-Scraping-using-Beautiful-Soup.png\" title=\"\" width=\"115\"/></div> </a>\n",
      "<header>\n",
      "<h2 class=\"title\">\n",
      "<a href=\"https://www.opencodez.com/web-development/web-scraping-using-beautiful-soup-part-1.htm\" rel=\"bookmark\" title=\"Web Scraping Using Beautiful Soup + Python – Tutorial Part 1\">Web Scraping Using Beautiful Soup + Python – Tutorial Part 1</a>\n",
      "</h2>\n",
      "</header>\n",
      "<div class=\"post-content image-caption-format-1\">\n",
      "<div class=\"post-info\"><span class=\"theauthor\"><i class=\"icon-user\"></i> <a href=\"https://www.opencodez.com/author/rounakj\" rel=\"author\" title=\"Posts by Rounak\">Rounak</a></span> <span class=\"thetime\"><i class=\"icon-calendar\"></i> Jun 20</span></div>\n",
      "</div>\n",
      "</article>\n",
      "</div>\n",
      "</div>\n",
      "<aside class=\"sidebar c-4-12\">\n",
      "<div class=\"sidebar\" id=\"sidebars\">\n",
      "<div class=\"sidebar_list\">\n",
      "<li class=\"widget widget-sidebar widget_search\" id=\"search-4\"><form _lpchecked=\"1\" action=\"https://www.opencodez.com\" class=\"search-form\" id=\"searchform\" method=\"get\">\n",
      "<fieldset>\n",
      "<input id=\"s\" name=\"s\" onblur=\"if (this.value == '') {this.value = 'Search the site';}\" onfocus=\"if (this.value == 'Search the site') {this.value = '';}\" type=\"text\" value=\"Search the site\"/>\n",
      "<input class=\"sbutton\" id=\"search-image\" style=\"border:0; vertical-align: top;\" type=\"submit\" value=\"Search\"/>\n",
      "<i class=\"icon-search\"></i>\n",
      "</fieldset>\n",
      "</form></li> <li class=\"widget widget-sidebar widget_wpdm_topdownloads\" id=\"wpdm_topdownloads-3\"> <h3>Free Themes Download</h3><div class=\"w3eden\">\n",
      "<div class=\"card card-default\">\n",
      "<div class=\"card-body\">\n",
      "<div class=\"media\">\n",
      "<div class=\"mr-3\"><img alt=\"Icon\" class=\"wpdm_icon\" src=\"https://www.opencodez.com/wp-content/plugins/download-manager/assets/file-type-icons/download_box.png\"/></div>\n",
      "<div class=\"media-body\"><h3 class=\"ptitle m-0 p-0\">Openstrap 2.0.3</h3>\n",
      "<div><strong><a class=\"wpdm-download-link btn btn-primary\" href=\"#\" onclick=\"location.href='https://www.opencodez.com/download/openstrap?wpdmdl=1802&amp;refresh=61e2a0743a7a51642242164';return false;\" rel=\"nofollow\">Download</a></strong></div>\n",
      "</div>\n",
      "</div>\n",
      "</div>\n",
      "<div class=\"card-footer\"><span class=\"pull-right\">20674 downloads</span>1.10 MB</div>\n",
      "</div>\n",
      "<div class=\"card card-default\">\n",
      "<div class=\"card-body\">\n",
      "<div class=\"media\">\n",
      "<div class=\"mr-3\"><img alt=\"Icon\" class=\"wpdm_icon\" src=\"https://www.opencodez.com/wp-content/plugins/download-manager/assets/file-type-icons/download_box.png\"/></div>\n",
      "<div class=\"media-body\"><h3 class=\"ptitle m-0 p-0\">Awakening 2.0.3</h3>\n",
      "<div><strong><a class=\"wpdm-download-link btn btn-primary\" href=\"#\" onclick=\"location.href='https://www.opencodez.com/download/awakening?wpdmdl=1806&amp;refresh=61e2a0743b6e11642242164';return false;\" rel=\"nofollow\">Download</a></strong></div>\n",
      "</div>\n",
      "</div>\n",
      "</div>\n",
      "<div class=\"card-footer\"><span class=\"pull-right\">14643 downloads</span>1.16 MB</div>\n",
      "</div>\n",
      "<div class=\"card card-default\">\n",
      "<div class=\"card-body\">\n",
      "<div class=\"media\">\n",
      "<div class=\"mr-3\"><img alt=\"Icon\" class=\"wpdm_icon\" src=\"https://www.opencodez.com/wp-content/plugins/download-manager/assets/file-type-icons/download_box.png\"/></div>\n",
      "<div class=\"media-body\"><h3 class=\"ptitle m-0 p-0\">Aadya 2.0.3</h3>\n",
      "<div><strong><a class=\"wpdm-download-link btn btn-primary\" href=\"#\" onclick=\"location.href='https://www.opencodez.com/download/aadya?wpdmdl=1804&amp;refresh=61e2a0743c5b41642242164';return false;\" rel=\"nofollow\">Download</a></strong></div>\n",
      "</div>\n",
      "</div>\n",
      "</div>\n",
      "<div class=\"card-footer\"><span class=\"pull-right\">13670 downloads</span>784.30 KB</div>\n",
      "</div>\n",
      "</div></li><li class=\"widget_text widget widget-sidebar widget_custom_html\" id=\"custom_html-7\"><div class=\"textwidget custom-html-widget\"><script async=\"\" src=\"//pagead2.googlesyndication.com/pagead/js/adsbygoogle.js\"></script>\n",
      "<ins class=\"adsbygoogle\" data-ad-client=\"ca-pub-9966165151816722\" data-ad-format=\"link\" data-ad-slot=\"8572932352\" style=\"display:block\"></ins>\n",
      "<script>\r\n",
      "(adsbygoogle = window.adsbygoogle || []).push({});\r\n",
      "</script></div></li><li class=\"widget_text widget widget-sidebar widget_custom_html\" id=\"custom_html-8\"><div class=\"textwidget custom-html-widget\"><script async=\"\" src=\"//pagead2.googlesyndication.com/pagead/js/adsbygoogle.js\"></script>\n",
      "<ins class=\"adsbygoogle\" data-ad-client=\"ca-pub-9966165151816722\" data-ad-slot=\"1368961572\" style=\"display:inline-block;width:300px;height:250px\"></ins>\n",
      "<script>\r\n",
      "(adsbygoogle = window.adsbygoogle || []).push({});\r\n",
      "</script></div></li><li class=\"widget_text widget widget-sidebar widget_custom_html\" id=\"custom_html-9\"><div class=\"textwidget custom-html-widget\"><script async=\"\" src=\"//pagead2.googlesyndication.com/pagead/js/adsbygoogle.js\"></script>\n",
      "<ins class=\"adsbygoogle\" data-ad-client=\"ca-pub-9966165151816722\" data-ad-slot=\"9200404150\" style=\"display:inline-block;width:300px;height:600px\"></ins>\n",
      "<script>\r\n",
      "(adsbygoogle = window.adsbygoogle || []).push({});\r\n",
      "</script></div></li> </div>\n",
      "</div>\n",
      "</aside> </div>\n",
      "</div>\n",
      "</div>\n",
      "<footer>\n",
      "<div class=\"footer-widgets\">\n",
      "<div class=\"footer-widget1 footer-widget\"><div class=\"f-widget f-widget-1\"><div class=\"widget widget_nav_menu\" id=\"nav_menu-7\"><div class=\"menu-footer-menu-container\"><ul class=\"menu\" id=\"menu-footer-menu\"><li class=\"menu-item menu-item-type-post_type menu-item-object-page menu-item-733\" id=\"menu-item-733\"><a href=\"https://www.opencodez.com/contact\">Contact</a></li>\n",
      "<li class=\"menu-item menu-item-type-post_type menu-item-object-page menu-item-1233\" id=\"menu-item-1233\"><a href=\"https://www.opencodez.com/support\">Support</a></li>\n",
      "<li class=\"menu-item menu-item-type-post_type menu-item-object-page menu-item-1215\" id=\"menu-item-1215\"><a href=\"https://www.opencodez.com/privacy-policy\">Privacy Policy</a></li>\n",
      "</ul></div></div></div><div class=\"widget_text f-widget f-widget-1\"><div class=\"widget_text widget widget_custom_html\" id=\"custom_html-6\"><h3 class=\"widget-title\">About</h3><div class=\"textwidget custom-html-widget\">At <b>Opencodez.com</b> we are working to share open source stuff. We share code, development tips and tricks, WordPress Themes. So far we have shared 3 free WordPress themes with premium features and we look forward to release many more.\n",
      "Opencodez is growing slowly and currently we have 1000+ visitors daily. Please subscribe if you don't want to miss any article or theme we release.</div></div></div><div class=\"f-widget f-widget-1\"><div class=\"widget social-profile-icons\" id=\"social-profile-icons-3\"><div class=\"social-profile-icons\"><ul class=\"\"><li class=\"social-email\"><a href=\"https://www.opencodez.com/contact\" title=\"Email\">Email</a></li><li class=\"social-facebook\"><a href=\"https://www.facebook.com/opencodez\" title=\"Facebook\">Facebook</a></li><li class=\"social-gplus\"><a href=\"https://www.google.com/+PavanSolapure\" title=\"Google+\">Google+</a></li><li class=\"social-rss\"><a href=\"https://www.opencodez.com/feed\" title=\"RSS\">RSS</a></li><li class=\"social-twitter\"><a href=\"https://twitter.com/opencodez\" title=\"Twitter\">Twitter</a></li></ul></div></div></div></div>\n",
      "<div class=\"footer-widget2 footer-widget\"><div class=\"f-widget f-widget-2\"><div class=\"widget widget_mts_recent_posts_widget\" id=\"mts_recent_posts_widget-3\"><h3 class=\"widget-title\">Recent Posts</h3><ul class=\"advanced-recent-posts\"> <li>\n",
      "<a href=\"https://www.opencodez.com/java/chain-of-responsibility-pattern.htm\">\n",
      "Chain of Responsibility – Behavioral Design Pattern </a>\n",
      "<div class=\"meta\">\n",
      "</div>\n",
      "</li>\n",
      "<li>\n",
      "<a href=\"https://www.opencodez.com/java/flyweight-pattern.htm\">\n",
      "Flyweight Pattern – Structural Design Pattern </a>\n",
      "<div class=\"meta\">\n",
      "</div>\n",
      "</li>\n",
      "<li>\n",
      "<a href=\"https://www.opencodez.com/software-testing/become-full-stack-qa-engineer.htm\">\n",
      "What Is Full Stack QA or Tester? 4 Steps Guide For Beginners </a>\n",
      "<div class=\"meta\">\n",
      "</div>\n",
      "</li>\n",
      "<li>\n",
      "<a href=\"https://www.opencodez.com/it-lifestyle/7-highly-effective-ways-professionals-can-prepare-recession.htm\">\n",
      "Recession 2020 -7 Highly Effective Ways IT Professionals Can Prepare </a>\n",
      "<div class=\"meta\">\n",
      "</div>\n",
      "</li>\n",
      "<li>\n",
      "<a href=\"https://www.opencodez.com/it-lifestyle/10-productivity-tips-for-working-from-home.htm\">\n",
      "10 Productivity Tips For Working From Home (WFH) – Practical To Follow </a>\n",
      "<div class=\"meta\">\n",
      "</div>\n",
      "</li>\n",
      "<li>\n",
      "<a href=\"https://www.opencodez.com/software-testing/complete-step-step-guide-gherkin-beginners.htm\">\n",
      "Complete Step by Step Guide of Gherkin for Beginners </a>\n",
      "<div class=\"meta\">\n",
      "</div>\n",
      "</li>\n",
      "<li>\n",
      "<a href=\"https://www.opencodez.com/how-to-guide/the-8-most-commonly-asked-hr-interview-questions.htm\">\n",
      "Top 8 Most Commonly asked HR Interview Questions With Answers </a>\n",
      "<div class=\"meta\">\n",
      "</div>\n",
      "</li>\n",
      "</ul>\n",
      "</div></div></div>\n",
      "<div class=\"footer-widget3 footer-widget\"><div class=\"f-widget f-widget-3 last\"><div class=\"widget widget_tag_cloud\" id=\"tag_cloud-5\"><h3 class=\"widget-title\">Tags</h3><div class=\"tagcloud\"><a aria-label=\"agile development (1 item)\" class=\"tag-cloud-link tag-link-17 tag-link-position-1\" href=\"https://www.opencodez.com/tag/agile-development\" style=\"font-size: 8pt;\">agile development</a>\n",
      "<a aria-label=\"Apache (2 items)\" class=\"tag-cloud-link tag-link-90 tag-link-position-2\" href=\"https://www.opencodez.com/tag/apache\" style=\"font-size: 11.876923076923pt;\">Apache</a>\n",
      "<a aria-label=\"comparable (1 item)\" class=\"tag-cloud-link tag-link-19 tag-link-position-3\" href=\"https://www.opencodez.com/tag/comparable\" style=\"font-size: 8pt;\">comparable</a>\n",
      "<a aria-label=\"comparator (2 items)\" class=\"tag-cloud-link tag-link-20 tag-link-position-4\" href=\"https://www.opencodez.com/tag/comparator\" style=\"font-size: 11.876923076923pt;\">comparator</a>\n",
      "<a aria-label=\"config (1 item)\" class=\"tag-cloud-link tag-link-21 tag-link-position-5\" href=\"https://www.opencodez.com/tag/config\" style=\"font-size: 8pt;\">config</a>\n",
      "<a aria-label=\"core java (1 item)\" class=\"tag-cloud-link tag-link-22 tag-link-position-6\" href=\"https://www.opencodez.com/tag/core-java\" style=\"font-size: 8pt;\">core java</a>\n",
      "<a aria-label=\"crawler (1 item)\" class=\"tag-cloud-link tag-link-23 tag-link-position-7\" href=\"https://www.opencodez.com/tag/crawler\" style=\"font-size: 8pt;\">crawler</a>\n",
      "<a aria-label=\"debugging (1 item)\" class=\"tag-cloud-link tag-link-27 tag-link-position-8\" href=\"https://www.opencodez.com/tag/debugging\" style=\"font-size: 8pt;\">debugging</a>\n",
      "<a aria-label=\"Design Patterns (1 item)\" class=\"tag-cloud-link tag-link-28 tag-link-position-9\" href=\"https://www.opencodez.com/tag/design-patterns\" style=\"font-size: 8pt;\">Design Patterns</a>\n",
      "<a aria-label=\"encapsulation (1 item)\" class=\"tag-cloud-link tag-link-29 tag-link-position-10\" href=\"https://www.opencodez.com/tag/encapsulation\" style=\"font-size: 8pt;\">encapsulation</a>\n",
      "<a aria-label=\"Free Wordpress Themes (2 items)\" class=\"tag-cloud-link tag-link-80 tag-link-position-11\" href=\"https://www.opencodez.com/tag/free-wordpress-themes-2\" style=\"font-size: 11.876923076923pt;\">Free Wordpress Themes</a>\n",
      "<a aria-label=\"google (1 item)\" class=\"tag-cloud-link tag-link-30 tag-link-position-12\" href=\"https://www.opencodez.com/tag/google\" style=\"font-size: 8pt;\">google</a>\n",
      "<a aria-label=\"htaccess (1 item)\" class=\"tag-cloud-link tag-link-31 tag-link-position-13\" href=\"https://www.opencodez.com/tag/htaccess\" style=\"font-size: 8pt;\">htaccess</a>\n",
      "<a aria-label=\"images (1 item)\" class=\"tag-cloud-link tag-link-33 tag-link-position-14\" href=\"https://www.opencodez.com/tag/images\" style=\"font-size: 8pt;\">images</a>\n",
      "<a aria-label=\"inheritance (1 item)\" class=\"tag-cloud-link tag-link-34 tag-link-position-15\" href=\"https://www.opencodez.com/tag/inheritance\" style=\"font-size: 8pt;\">inheritance</a>\n",
      "<a aria-label=\"interview (1 item)\" class=\"tag-cloud-link tag-link-35 tag-link-position-16\" href=\"https://www.opencodez.com/tag/interview\" style=\"font-size: 8pt;\">interview</a>\n",
      "<a aria-label=\"Java (8 items)\" class=\"tag-cloud-link tag-link-92 tag-link-position-17\" href=\"https://www.opencodez.com/tag/java\" style=\"font-size: 22pt;\">Java</a>\n",
      "<a aria-label=\"java generics (1 item)\" class=\"tag-cloud-link tag-link-37 tag-link-position-18\" href=\"https://www.opencodez.com/tag/java-generics\" style=\"font-size: 8pt;\">java generics</a>\n",
      "<a aria-label=\"javascript (2 items)\" class=\"tag-cloud-link tag-link-38 tag-link-position-19\" href=\"https://www.opencodez.com/tag/javascript\" style=\"font-size: 11.876923076923pt;\">javascript</a>\n",
      "<a aria-label=\"mime (1 item)\" class=\"tag-cloud-link tag-link-40 tag-link-position-20\" href=\"https://www.opencodez.com/tag/mime\" style=\"font-size: 8pt;\">mime</a>\n",
      "<a aria-label=\"mod rewrite (1 item)\" class=\"tag-cloud-link tag-link-41 tag-link-position-21\" href=\"https://www.opencodez.com/tag/mod-rewrite\" style=\"font-size: 8pt;\">mod rewrite</a>\n",
      "<a aria-label=\"MySQL (1 item)\" class=\"tag-cloud-link tag-link-93 tag-link-position-22\" href=\"https://www.opencodez.com/tag/mysql\" style=\"font-size: 8pt;\">MySQL</a>\n",
      "<a aria-label=\"oops (1 item)\" class=\"tag-cloud-link tag-link-43 tag-link-position-23\" href=\"https://www.opencodez.com/tag/oops\" style=\"font-size: 8pt;\">oops</a>\n",
      "<a aria-label=\"Open Source (1 item)\" class=\"tag-cloud-link tag-link-94 tag-link-position-24\" href=\"https://www.opencodez.com/tag/open-source\" style=\"font-size: 8pt;\">Open Source</a>\n",
      "<a aria-label=\"open ssl (1 item)\" class=\"tag-cloud-link tag-link-44 tag-link-position-25\" href=\"https://www.opencodez.com/tag/open-ssl\" style=\"font-size: 8pt;\">open ssl</a>\n",
      "<a aria-label=\"PHP (1 item)\" class=\"tag-cloud-link tag-link-95 tag-link-position-26\" href=\"https://www.opencodez.com/tag/php\" style=\"font-size: 8pt;\">PHP</a>\n",
      "<a aria-label=\"PHPUnit (1 item)\" class=\"tag-cloud-link tag-link-45 tag-link-position-27\" href=\"https://www.opencodez.com/tag/phpunit\" style=\"font-size: 8pt;\">PHPUnit</a>\n",
      "<a aria-label=\"polymorphism (1 item)\" class=\"tag-cloud-link tag-link-46 tag-link-position-28\" href=\"https://www.opencodez.com/tag/polymorphism\" style=\"font-size: 8pt;\">polymorphism</a>\n",
      "<a aria-label=\"programming language (2 items)\" class=\"tag-cloud-link tag-link-48 tag-link-position-29\" href=\"https://www.opencodez.com/tag/programming-language\" style=\"font-size: 11.876923076923pt;\">programming language</a>\n",
      "<a aria-label=\"runtime polymorphism (1 item)\" class=\"tag-cloud-link tag-link-49 tag-link-position-30\" href=\"https://www.opencodez.com/tag/runtime-polymorphism\" style=\"font-size: 8pt;\">runtime polymorphism</a>\n",
      "<a aria-label=\"security (1 item)\" class=\"tag-cloud-link tag-link-50 tag-link-position-31\" href=\"https://www.opencodez.com/tag/security\" style=\"font-size: 8pt;\">security</a>\n",
      "<a aria-label=\"skype (1 item)\" class=\"tag-cloud-link tag-link-52 tag-link-position-32\" href=\"https://www.opencodez.com/tag/skype\" style=\"font-size: 8pt;\">skype</a>\n",
      "<a aria-label=\"software development (1 item)\" class=\"tag-cloud-link tag-link-53 tag-link-position-33\" href=\"https://www.opencodez.com/tag/software-development\" style=\"font-size: 8pt;\">software development</a>\n",
      "<a aria-label=\"software testing (5 items)\" class=\"tag-cloud-link tag-link-54 tag-link-position-34\" href=\"https://www.opencodez.com/tag/software-testing\" style=\"font-size: 18.338461538462pt;\">software testing</a>\n",
      "<a aria-label=\"sorting (2 items)\" class=\"tag-cloud-link tag-link-56 tag-link-position-35\" href=\"https://www.opencodez.com/tag/sorting\" style=\"font-size: 11.876923076923pt;\">sorting</a>\n",
      "<a aria-label=\"sort tables (1 item)\" class=\"tag-cloud-link tag-link-55 tag-link-position-36\" href=\"https://www.opencodez.com/tag/sort-tables\" style=\"font-size: 8pt;\">sort tables</a>\n",
      "<a aria-label=\"Spring Boot (2 items)\" class=\"tag-cloud-link tag-link-97 tag-link-position-37\" href=\"https://www.opencodez.com/tag/spring-boot\" style=\"font-size: 11.876923076923pt;\">Spring Boot</a>\n",
      "<a aria-label=\"testing (1 item)\" class=\"tag-cloud-link tag-link-57 tag-link-position-38\" href=\"https://www.opencodez.com/tag/testing\" style=\"font-size: 8pt;\">testing</a>\n",
      "<a aria-label=\"thumbnails (1 item)\" class=\"tag-cloud-link tag-link-60 tag-link-position-39\" href=\"https://www.opencodez.com/tag/thumbnails\" style=\"font-size: 8pt;\">thumbnails</a>\n",
      "<a aria-label=\"url (1 item)\" class=\"tag-cloud-link tag-link-61 tag-link-position-40\" href=\"https://www.opencodez.com/tag/url\" style=\"font-size: 8pt;\">url</a>\n",
      "<a aria-label=\"virtaul hosts (1 item)\" class=\"tag-cloud-link tag-link-62 tag-link-position-41\" href=\"https://www.opencodez.com/tag/virtaul-hosts\" style=\"font-size: 8pt;\">virtaul hosts</a>\n",
      "<a aria-label=\"virtual hosting (1 item)\" class=\"tag-cloud-link tag-link-63 tag-link-position-42\" href=\"https://www.opencodez.com/tag/virtual-hosting\" style=\"font-size: 8pt;\">virtual hosting</a>\n",
      "<a aria-label=\"Web services (1 item)\" class=\"tag-cloud-link tag-link-71 tag-link-position-43\" href=\"https://www.opencodez.com/tag/web-services\" style=\"font-size: 8pt;\">Web services</a>\n",
      "<a aria-label=\"Wordpress theme development (2 items)\" class=\"tag-cloud-link tag-link-75 tag-link-position-44\" href=\"https://www.opencodez.com/tag/wordpress-theme-development\" style=\"font-size: 11.876923076923pt;\">Wordpress theme development</a>\n",
      "<a aria-label=\"xampp (2 items)\" class=\"tag-cloud-link tag-link-66 tag-link-position-45\" href=\"https://www.opencodez.com/tag/xampp\" style=\"font-size: 11.876923076923pt;\">xampp</a></div>\n",
      "</div></div></div>\n",
      "</div>\n",
      "</footer>\n",
      "<div class=\"copyrights\">\n",
      "<div class=\"row\" id=\"copyright-note\">\n",
      "<span>\n",
      "<a href=\"https://www.opencodez.com/\" title=\"develope | share | reuse\">opencodez</a>© 2022.\n",
      "</span>\n",
      "<div class=\"top\"></div>\n",
      "</div>\n",
      "</div>\n",
      "<script type=\"text/javascript\">\r\n",
      "\r\n",
      "  var _gaq = _gaq || [];\r\n",
      "  _gaq.push(['_setAccount', 'UA-1737365-2']);\r\n",
      "  _gaq.push(['_trackPageview']);\r\n",
      "\r\n",
      "  (function() {\r\n",
      "    var ga = document.createElement('script'); ga.type = 'text/javascript'; ga.async = true;\r\n",
      "    ga.src = ('https:' == document.location.protocol ? 'https://ssl' : 'http://www') + '.google-analytics.com/ga.js';\r\n",
      "    var s = document.getElementsByTagName('script')[0]; s.parentNode.insertBefore(ga, s);\r\n",
      "  })();\r\n",
      "\r\n",
      "</script>\n",
      "<script type=\"text/javascript\">\n",
      "/* <![CDATA[ */\n",
      "var wpcf7 = {\"apiSettings\":{\"root\":\"https:\\/\\/www.opencodez.com\\/wp-json\\/contact-form-7\\/v1\",\"namespace\":\"contact-form-7\\/v1\"},\"cached\":\"1\"};\n",
      "/* ]]> */\n",
      "</script>\n",
      "<script src=\"https://www.opencodez.com/wp-content/plugins/contact-form-7/includes/js/scripts.js?ver=5.1.9\" type=\"text/javascript\"></script>\n",
      "<script src=\"https://www.opencodez.com/wp-includes/js/jquery/jquery.form.min.js?ver=4.2.1\" type=\"text/javascript\"></script>\n",
      "<script type=\"text/javascript\">\n",
      "/* <![CDATA[ */\n",
      "var q2w3_sidebar_options = [{\"sidebar\":\"sidebar-1\",\"margin_top\":10,\"margin_bottom\":0,\"stop_id\":\"\",\"screen_max_width\":0,\"screen_max_height\":0,\"width_inherit\":false,\"refresh_interval\":1500,\"window_load_hook\":false,\"disable_mo_api\":false,\"widgets\":[\"custom_html-9\"]},{\"sidebar\":\"sidebar-2\",\"margin_top\":10,\"margin_bottom\":0,\"stop_id\":\"\",\"screen_max_width\":0,\"screen_max_height\":0,\"width_inherit\":false,\"refresh_interval\":1500,\"window_load_hook\":false,\"disable_mo_api\":false,\"widgets\":[\"custom_html-4\"]}];\n",
      "/* ]]> */\n",
      "</script>\n",
      "<script src=\"https://www.opencodez.com/wp-content/plugins/q2w3-fixed-widget/js/q2w3-fixed-widget.min.js?ver=5.1.9\" type=\"text/javascript\"></script>\n",
      "<script type=\"text/javascript\">\n",
      "function heateorSssLoadEvent(e) {var t=window.onload;if (typeof window.onload!=\"function\") {window.onload=e}else{window.onload=function() {t();e()}}};\tvar heateorSssSharingAjaxUrl = 'https://www.opencodez.com/wp-admin/admin-ajax.php', heateorSssCloseIconPath = 'https://www.opencodez.com/wp-content/plugins/sassy-social-share/public/../images/close.png', heateorSssPluginIconPath = 'https://www.opencodez.com/wp-content/plugins/sassy-social-share/public/../images/logo.png', heateorSssHorizontalSharingCountEnable = 0, heateorSssVerticalSharingCountEnable = 0, heateorSssSharingOffset = -10; var heateorSssMobileStickySharingEnabled = 1;var heateorSssCopyLinkMessage = \"Link copied.\";var heateorSssUrlCountFetched = [], heateorSssSharesText = 'Shares', heateorSssShareText = 'Share';function heateorSssPopup(e) {window.open(e,\"popUpWindow\",\"height=400,width=600,left=400,top=100,resizable,scrollbars,toolbar=0,personalbar=0,menubar=no,location=no,directories=no,status\")};var heateorSssWhatsappShareAPI = \"web\";\n",
      "</script>\n",
      "<script src=\"https://www.opencodez.com/wp-content/plugins/sassy-social-share/public/js/sassy-social-share-public.js?ver=3.3.10\" type=\"text/javascript\"></script>\n",
      "<script src=\"https://www.opencodez.com/wp-content/plugins/wp-review/public/js/js.cookie.min.js?ver=2.1.4\" type=\"text/javascript\"></script>\n",
      "<script src=\"https://www.opencodez.com/wp-includes/js/underscore.min.js?ver=1.8.3\" type=\"text/javascript\"></script>\n",
      "<script type=\"text/javascript\">\n",
      "/* <![CDATA[ */\n",
      "var _wpUtilSettings = {\"ajax\":{\"url\":\"\\/wp-admin\\/admin-ajax.php\"}};\n",
      "/* ]]> */\n",
      "</script>\n",
      "<script src=\"https://www.opencodez.com/wp-includes/js/wp-util.min.js?ver=5.4.9\" type=\"text/javascript\"></script>\n",
      "<script type=\"text/javascript\">\n",
      "/* <![CDATA[ */\n",
      "var wpreview = {\"ajaxurl\":\"https:\\/\\/www.opencodez.com\\/wp-admin\\/admin-ajax.php\"};\n",
      "/* ]]> */\n",
      "</script>\n",
      "<script src=\"https://www.opencodez.com/wp-content/plugins/wp-review/public/js/main.js?ver=5.3.3\" type=\"text/javascript\"></script>\n",
      "<script src=\"https://www.opencodez.com/wp-includes/js/wp-embed.min.js?ver=5.4.9\" type=\"text/javascript\"></script>\n",
      "</body>\n",
      "</html>\n",
      "\n"
     ]
    }
   ],
   "source": [
    "print(bs)"
   ]
  },
  {
   "cell_type": "markdown",
   "metadata": {},
   "source": [
    "# Important Functions"
   ]
  },
  {
   "cell_type": "markdown",
   "metadata": {},
   "source": [
    "### find() : returns the first element"
   ]
  },
  {
   "cell_type": "markdown",
   "metadata": {},
   "source": [
    "###### First option"
   ]
  },
  {
   "cell_type": "code",
   "execution_count": 25,
   "metadata": {},
   "outputs": [],
   "source": [
    "find_by_id = bs.find(id = 'wpdm_topdownloads-3').get_text().split('\\n\\n\\n\\n\\n')[0].strip()"
   ]
  },
  {
   "cell_type": "code",
   "execution_count": 26,
   "metadata": {},
   "outputs": [
    {
     "data": {
      "text/plain": [
       "'Free Themes Download'"
      ]
     },
     "execution_count": 26,
     "metadata": {},
     "output_type": "execute_result"
    }
   ],
   "source": [
    "find_by_id"
   ]
  },
  {
   "cell_type": "markdown",
   "metadata": {},
   "source": [
    "###### Second option"
   ]
  },
  {
   "cell_type": "code",
   "execution_count": 35,
   "metadata": {},
   "outputs": [],
   "source": [
    "find_by_id2 = bs.find('li', attrs={'id':'wpdm_topdownloads-3'}).get_text().split('\\n\\n\\n\\n\\n')[0].strip()"
   ]
  },
  {
   "cell_type": "code",
   "execution_count": 36,
   "metadata": {},
   "outputs": [
    {
     "data": {
      "text/plain": [
       "'Free Themes Download'"
      ]
     },
     "execution_count": 36,
     "metadata": {},
     "output_type": "execute_result"
    }
   ],
   "source": [
    "find_by_id2"
   ]
  },
  {
   "cell_type": "markdown",
   "metadata": {},
   "source": [
    "###### First option"
   ]
  },
  {
   "cell_type": "code",
   "execution_count": 41,
   "metadata": {},
   "outputs": [],
   "source": [
    "find_by_class = bs.find(class_ = 'title').find('a').get_text()"
   ]
  },
  {
   "cell_type": "code",
   "execution_count": 42,
   "metadata": {},
   "outputs": [
    {
     "data": {
      "text/plain": [
       "'Chain of Responsibility – Behavioral Design Pattern'"
      ]
     },
     "execution_count": 42,
     "metadata": {},
     "output_type": "execute_result"
    }
   ],
   "source": [
    "find_by_class"
   ]
  },
  {
   "cell_type": "markdown",
   "metadata": {},
   "source": [
    "###### Second option"
   ]
  },
  {
   "cell_type": "code",
   "execution_count": 47,
   "metadata": {},
   "outputs": [],
   "source": [
    "find_by_class2 = bs.find('h2', attrs = {'class':'title'}).find('a').get_text()"
   ]
  },
  {
   "cell_type": "code",
   "execution_count": 48,
   "metadata": {},
   "outputs": [
    {
     "data": {
      "text/plain": [
       "'Chain of Responsibility – Behavioral Design Pattern'"
      ]
     },
     "execution_count": 48,
     "metadata": {},
     "output_type": "execute_result"
    }
   ],
   "source": [
    "find_by_class2"
   ]
  },
  {
   "cell_type": "markdown",
   "metadata": {},
   "source": [
    "### find_all() and findAll(): return a list of elements"
   ]
  },
  {
   "cell_type": "code",
   "execution_count": 52,
   "metadata": {},
   "outputs": [],
   "source": [
    "posts_all = bs.find_all('h2', attrs = {'class':'title'})"
   ]
  },
  {
   "cell_type": "code",
   "execution_count": 53,
   "metadata": {},
   "outputs": [
    {
     "data": {
      "text/plain": [
       "[<h2 class=\"title\">\n",
       " <a href=\"https://www.opencodez.com/java/chain-of-responsibility-pattern.htm\" rel=\"bookmark\" title=\"Chain of Responsibility – Behavioral Design Pattern\">Chain of Responsibility – Behavioral Design Pattern</a>\n",
       " </h2>,\n",
       " <h2 class=\"title\">\n",
       " <a href=\"https://www.opencodez.com/java/flyweight-pattern.htm\" rel=\"bookmark\" title=\"Flyweight Pattern – Structural Design Pattern\">Flyweight Pattern – Structural Design Pattern</a>\n",
       " </h2>,\n",
       " <h2 class=\"title\">\n",
       " <a href=\"https://www.opencodez.com/software-testing/become-full-stack-qa-engineer.htm\" rel=\"bookmark\" title=\"What Is Full Stack QA or Tester? 4 Steps Guide For Beginners\">What Is Full Stack QA or Tester? 4 Steps Guide For Beginners</a>\n",
       " </h2>,\n",
       " <h2 class=\"title\">\n",
       " <a href=\"https://www.opencodez.com/it-lifestyle/7-highly-effective-ways-professionals-can-prepare-recession.htm\" rel=\"bookmark\" title=\"Recession 2020 -7 Highly Effective Ways IT Professionals Can Prepare\">Recession 2020 -7 Highly Effective Ways IT Professionals Can Prepare</a>\n",
       " </h2>,\n",
       " <h2 class=\"title\">\n",
       " <a href=\"https://www.opencodez.com/it-lifestyle/10-productivity-tips-for-working-from-home.htm\" rel=\"bookmark\" title=\"10 Productivity Tips For Working From Home (WFH) – Practical To Follow\">10 Productivity Tips For Working From Home (WFH) – Practical To Follow</a>\n",
       " </h2>,\n",
       " <h2 class=\"title\">\n",
       " <a href=\"https://www.opencodez.com/software-testing/complete-step-step-guide-gherkin-beginners.htm\" rel=\"bookmark\" title=\"Complete Step by Step Guide of Gherkin for Beginners\">Complete Step by Step Guide of Gherkin for Beginners</a>\n",
       " </h2>,\n",
       " <h2 class=\"title\">\n",
       " <a href=\"https://www.opencodez.com/how-to-guide/the-8-most-commonly-asked-hr-interview-questions.htm\" rel=\"bookmark\" title=\"Top 8 Most Commonly asked HR Interview Questions With Answers\">Top 8 Most Commonly asked HR Interview Questions With Answers</a>\n",
       " </h2>,\n",
       " <h2 class=\"title\">\n",
       " <a href=\"https://www.opencodez.com/software-testing/free-testing-artifacts-deliverables-template-to-download.htm\" rel=\"bookmark\" title=\"7 Free Testing Artifacts / Deliverables Template To Download\">7 Free Testing Artifacts / Deliverables Template To Download</a>\n",
       " </h2>,\n",
       " <h2 class=\"title\">\n",
       " <a href=\"https://www.opencodez.com/software-testing/test-cases-with-examples-free-test-case-template-to-download.htm\" rel=\"bookmark\" title=\"What is Test Case (TC), Examples with Free Template To Download\">What is Test Case (TC), Examples with Free Template To Download</a>\n",
       " </h2>,\n",
       " <h2 class=\"title\">\n",
       " <a href=\"https://www.opencodez.com/software-testing/test-data.htm\" rel=\"bookmark\" title=\"What is Test Data? Examples with Free Template to Download\">What is Test Data? Examples with Free Template to Download</a>\n",
       " </h2>,\n",
       " <h2 class=\"title\">\n",
       " <a href=\"https://www.opencodez.com/software-testing/what-is-test-scenario-template-with-examples.htm\" rel=\"bookmark\" title=\"What is Test Scenario? Template with Examples,Difference Between Test Scenario and Test Case\">What is Test Scenario? Template with Examples,Difference Between Test Scenario and Test Case</a>\n",
       " </h2>,\n",
       " <h2 class=\"title\">\n",
       " <a href=\"https://www.opencodez.com/software-testing/top-10-etl-testing-tools.htm\" rel=\"bookmark\" title=\"Top 10 ETL Testing Tools to Watch in 2020\">Top 10 ETL Testing Tools to Watch in 2020</a>\n",
       " </h2>,\n",
       " <h2 class=\"title\">\n",
       " <a href=\"https://www.opencodez.com/it-lifestyle/10-productivity-tips-for-working-from-home.htm\" rel=\"bookmark\" title=\"10 Productivity Tips For Working From Home (WFH) – Practical To Follow\">10 Productivity Tips For Working From Home (WFH) – Practical To Follow</a>\n",
       " </h2>,\n",
       " <h2 class=\"title\">\n",
       " <a href=\"https://www.opencodez.com/salesforce/introduction-force-com.htm\" rel=\"bookmark\" title=\"Salesforce Tutorial# 3: Introduction to Force.com\">Salesforce Tutorial# 3: Introduction to Force.com</a>\n",
       " </h2>,\n",
       " <h2 class=\"title\">\n",
       " <a href=\"https://www.opencodez.com/java/observer-design-pattern.htm\" rel=\"bookmark\" title=\"Java Behavioral Design Patterns – Observer Design Pattern\">Java Behavioral Design Patterns – Observer Design Pattern</a>\n",
       " </h2>,\n",
       " <h2 class=\"title\">\n",
       " <a href=\"https://www.opencodez.com/salesforce/data-management-salesforce.htm\" rel=\"bookmark\" title=\"Salesforce Tutorial# 11: Salesforce Data Management\">Salesforce Tutorial# 11: Salesforce Data Management</a>\n",
       " </h2>,\n",
       " <h2 class=\"title\">\n",
       " <a href=\"https://www.opencodez.com/react-native/react-native-props-and-state.htm\" rel=\"bookmark\" title=\"React Native:Tutorial #2 – React Native Props and State\">React Native:Tutorial #2 – React Native Props and State</a>\n",
       " </h2>,\n",
       " <h2 class=\"title\">\n",
       " <a href=\"https://www.opencodez.com/java/deeplearaning4j.htm\" rel=\"bookmark\" title=\"A Quick Easy Guide to Deep Learning with Java – Building Neural Network\">A Quick Easy Guide to Deep Learning with Java – Building Neural Network</a>\n",
       " </h2>,\n",
       " <h2 class=\"title\">\n",
       " <a href=\"https://www.opencodez.com/java/spring-boot-java-development-made-easy.htm\" rel=\"bookmark\" title=\"Spring Boot – Java Development Made Easy\">Spring Boot – Java Development Made Easy</a>\n",
       " </h2>,\n",
       " <h2 class=\"title\">\n",
       " <a href=\"https://www.opencodez.com/oracle/oracle-job-scheduler-guide-examples-part-1.htm\" rel=\"bookmark\" title=\"Oracle Job Scheduler Guide With Examples – Part 1\">Oracle Job Scheduler Guide With Examples – Part 1</a>\n",
       " </h2>,\n",
       " <h2 class=\"title\">\n",
       " <a href=\"https://www.opencodez.com/java/java-creational-design-patterns-builder-pattern.htm\" rel=\"bookmark\" title=\"Java Creational Design Patterns – Builder Pattern\">Java Creational Design Patterns – Builder Pattern</a>\n",
       " </h2>,\n",
       " <h2 class=\"title\">\n",
       " <a href=\"https://www.opencodez.com/web-development/web-scraping-using-beautiful-soup-part-1.htm\" rel=\"bookmark\" title=\"Web Scraping Using Beautiful Soup + Python – Tutorial Part 1\">Web Scraping Using Beautiful Soup + Python – Tutorial Part 1</a>\n",
       " </h2>]"
      ]
     },
     "execution_count": 53,
     "metadata": {},
     "output_type": "execute_result"
    }
   ],
   "source": [
    "posts_all"
   ]
  },
  {
   "cell_type": "code",
   "execution_count": 54,
   "metadata": {},
   "outputs": [
    {
     "data": {
      "text/plain": [
       "22"
      ]
     },
     "execution_count": 54,
     "metadata": {},
     "output_type": "execute_result"
    }
   ],
   "source": [
    "len(posts_all)"
   ]
  },
  {
   "cell_type": "code",
   "execution_count": 55,
   "metadata": {},
   "outputs": [],
   "source": [
    "postsAll = bs.findAll('h2', attrs = {'class':'title'})"
   ]
  },
  {
   "cell_type": "code",
   "execution_count": 56,
   "metadata": {},
   "outputs": [
    {
     "data": {
      "text/plain": [
       "[<h2 class=\"title\">\n",
       " <a href=\"https://www.opencodez.com/java/chain-of-responsibility-pattern.htm\" rel=\"bookmark\" title=\"Chain of Responsibility – Behavioral Design Pattern\">Chain of Responsibility – Behavioral Design Pattern</a>\n",
       " </h2>,\n",
       " <h2 class=\"title\">\n",
       " <a href=\"https://www.opencodez.com/java/flyweight-pattern.htm\" rel=\"bookmark\" title=\"Flyweight Pattern – Structural Design Pattern\">Flyweight Pattern – Structural Design Pattern</a>\n",
       " </h2>,\n",
       " <h2 class=\"title\">\n",
       " <a href=\"https://www.opencodez.com/software-testing/become-full-stack-qa-engineer.htm\" rel=\"bookmark\" title=\"What Is Full Stack QA or Tester? 4 Steps Guide For Beginners\">What Is Full Stack QA or Tester? 4 Steps Guide For Beginners</a>\n",
       " </h2>,\n",
       " <h2 class=\"title\">\n",
       " <a href=\"https://www.opencodez.com/it-lifestyle/7-highly-effective-ways-professionals-can-prepare-recession.htm\" rel=\"bookmark\" title=\"Recession 2020 -7 Highly Effective Ways IT Professionals Can Prepare\">Recession 2020 -7 Highly Effective Ways IT Professionals Can Prepare</a>\n",
       " </h2>,\n",
       " <h2 class=\"title\">\n",
       " <a href=\"https://www.opencodez.com/it-lifestyle/10-productivity-tips-for-working-from-home.htm\" rel=\"bookmark\" title=\"10 Productivity Tips For Working From Home (WFH) – Practical To Follow\">10 Productivity Tips For Working From Home (WFH) – Practical To Follow</a>\n",
       " </h2>,\n",
       " <h2 class=\"title\">\n",
       " <a href=\"https://www.opencodez.com/software-testing/complete-step-step-guide-gherkin-beginners.htm\" rel=\"bookmark\" title=\"Complete Step by Step Guide of Gherkin for Beginners\">Complete Step by Step Guide of Gherkin for Beginners</a>\n",
       " </h2>,\n",
       " <h2 class=\"title\">\n",
       " <a href=\"https://www.opencodez.com/how-to-guide/the-8-most-commonly-asked-hr-interview-questions.htm\" rel=\"bookmark\" title=\"Top 8 Most Commonly asked HR Interview Questions With Answers\">Top 8 Most Commonly asked HR Interview Questions With Answers</a>\n",
       " </h2>,\n",
       " <h2 class=\"title\">\n",
       " <a href=\"https://www.opencodez.com/software-testing/free-testing-artifacts-deliverables-template-to-download.htm\" rel=\"bookmark\" title=\"7 Free Testing Artifacts / Deliverables Template To Download\">7 Free Testing Artifacts / Deliverables Template To Download</a>\n",
       " </h2>,\n",
       " <h2 class=\"title\">\n",
       " <a href=\"https://www.opencodez.com/software-testing/test-cases-with-examples-free-test-case-template-to-download.htm\" rel=\"bookmark\" title=\"What is Test Case (TC), Examples with Free Template To Download\">What is Test Case (TC), Examples with Free Template To Download</a>\n",
       " </h2>,\n",
       " <h2 class=\"title\">\n",
       " <a href=\"https://www.opencodez.com/software-testing/test-data.htm\" rel=\"bookmark\" title=\"What is Test Data? Examples with Free Template to Download\">What is Test Data? Examples with Free Template to Download</a>\n",
       " </h2>,\n",
       " <h2 class=\"title\">\n",
       " <a href=\"https://www.opencodez.com/software-testing/what-is-test-scenario-template-with-examples.htm\" rel=\"bookmark\" title=\"What is Test Scenario? Template with Examples,Difference Between Test Scenario and Test Case\">What is Test Scenario? Template with Examples,Difference Between Test Scenario and Test Case</a>\n",
       " </h2>,\n",
       " <h2 class=\"title\">\n",
       " <a href=\"https://www.opencodez.com/software-testing/top-10-etl-testing-tools.htm\" rel=\"bookmark\" title=\"Top 10 ETL Testing Tools to Watch in 2020\">Top 10 ETL Testing Tools to Watch in 2020</a>\n",
       " </h2>,\n",
       " <h2 class=\"title\">\n",
       " <a href=\"https://www.opencodez.com/it-lifestyle/10-productivity-tips-for-working-from-home.htm\" rel=\"bookmark\" title=\"10 Productivity Tips For Working From Home (WFH) – Practical To Follow\">10 Productivity Tips For Working From Home (WFH) – Practical To Follow</a>\n",
       " </h2>,\n",
       " <h2 class=\"title\">\n",
       " <a href=\"https://www.opencodez.com/salesforce/introduction-force-com.htm\" rel=\"bookmark\" title=\"Salesforce Tutorial# 3: Introduction to Force.com\">Salesforce Tutorial# 3: Introduction to Force.com</a>\n",
       " </h2>,\n",
       " <h2 class=\"title\">\n",
       " <a href=\"https://www.opencodez.com/java/observer-design-pattern.htm\" rel=\"bookmark\" title=\"Java Behavioral Design Patterns – Observer Design Pattern\">Java Behavioral Design Patterns – Observer Design Pattern</a>\n",
       " </h2>,\n",
       " <h2 class=\"title\">\n",
       " <a href=\"https://www.opencodez.com/salesforce/data-management-salesforce.htm\" rel=\"bookmark\" title=\"Salesforce Tutorial# 11: Salesforce Data Management\">Salesforce Tutorial# 11: Salesforce Data Management</a>\n",
       " </h2>,\n",
       " <h2 class=\"title\">\n",
       " <a href=\"https://www.opencodez.com/react-native/react-native-props-and-state.htm\" rel=\"bookmark\" title=\"React Native:Tutorial #2 – React Native Props and State\">React Native:Tutorial #2 – React Native Props and State</a>\n",
       " </h2>,\n",
       " <h2 class=\"title\">\n",
       " <a href=\"https://www.opencodez.com/java/deeplearaning4j.htm\" rel=\"bookmark\" title=\"A Quick Easy Guide to Deep Learning with Java – Building Neural Network\">A Quick Easy Guide to Deep Learning with Java – Building Neural Network</a>\n",
       " </h2>,\n",
       " <h2 class=\"title\">\n",
       " <a href=\"https://www.opencodez.com/java/spring-boot-java-development-made-easy.htm\" rel=\"bookmark\" title=\"Spring Boot – Java Development Made Easy\">Spring Boot – Java Development Made Easy</a>\n",
       " </h2>,\n",
       " <h2 class=\"title\">\n",
       " <a href=\"https://www.opencodez.com/oracle/oracle-job-scheduler-guide-examples-part-1.htm\" rel=\"bookmark\" title=\"Oracle Job Scheduler Guide With Examples – Part 1\">Oracle Job Scheduler Guide With Examples – Part 1</a>\n",
       " </h2>,\n",
       " <h2 class=\"title\">\n",
       " <a href=\"https://www.opencodez.com/java/java-creational-design-patterns-builder-pattern.htm\" rel=\"bookmark\" title=\"Java Creational Design Patterns – Builder Pattern\">Java Creational Design Patterns – Builder Pattern</a>\n",
       " </h2>,\n",
       " <h2 class=\"title\">\n",
       " <a href=\"https://www.opencodez.com/web-development/web-scraping-using-beautiful-soup-part-1.htm\" rel=\"bookmark\" title=\"Web Scraping Using Beautiful Soup + Python – Tutorial Part 1\">Web Scraping Using Beautiful Soup + Python – Tutorial Part 1</a>\n",
       " </h2>]"
      ]
     },
     "execution_count": 56,
     "metadata": {},
     "output_type": "execute_result"
    }
   ],
   "source": [
    "postsAll"
   ]
  },
  {
   "cell_type": "code",
   "execution_count": 57,
   "metadata": {},
   "outputs": [
    {
     "data": {
      "text/plain": [
       "22"
      ]
     },
     "execution_count": 57,
     "metadata": {},
     "output_type": "execute_result"
    }
   ],
   "source": [
    "len(postsAll)"
   ]
  },
  {
   "cell_type": "code",
   "execution_count": 58,
   "metadata": {},
   "outputs": [
    {
     "data": {
      "text/plain": [
       "True"
      ]
     },
     "execution_count": 58,
     "metadata": {},
     "output_type": "execute_result"
    }
   ],
   "source": [
    "postsAll == posts_all"
   ]
  },
  {
   "cell_type": "markdown",
   "metadata": {},
   "source": [
    "### select_one() : equivalent to find() function / returns the first element / select by css selectors"
   ]
  },
  {
   "cell_type": "code",
   "execution_count": 67,
   "metadata": {},
   "outputs": [],
   "source": [
    "select_one_by_id = bs.select_one('#wpdm_topdownloads-3').get_text().split('\\n\\n\\n\\n\\n')[0].strip()"
   ]
  },
  {
   "cell_type": "code",
   "execution_count": 68,
   "metadata": {},
   "outputs": [
    {
     "data": {
      "text/plain": [
       "'Free Themes Download'"
      ]
     },
     "execution_count": 68,
     "metadata": {},
     "output_type": "execute_result"
    }
   ],
   "source": [
    "select_one_by_id"
   ]
  },
  {
   "cell_type": "code",
   "execution_count": 73,
   "metadata": {},
   "outputs": [],
   "source": [
    "select_one_by_class = bs.select_one('.title').find('a').get_text()"
   ]
  },
  {
   "cell_type": "code",
   "execution_count": 74,
   "metadata": {},
   "outputs": [
    {
     "data": {
      "text/plain": [
       "'Chain of Responsibility – Behavioral Design Pattern'"
      ]
     },
     "execution_count": 74,
     "metadata": {},
     "output_type": "execute_result"
    }
   ],
   "source": [
    "select_one_by_class"
   ]
  },
  {
   "cell_type": "markdown",
   "metadata": {},
   "source": [
    "### select() : equivalent to find_all() and findAll() functions / returns a list of elements / select by css selectors"
   ]
  },
  {
   "cell_type": "code",
   "execution_count": 75,
   "metadata": {},
   "outputs": [],
   "source": [
    "posts_select = bs.select('.title')"
   ]
  },
  {
   "cell_type": "code",
   "execution_count": 76,
   "metadata": {},
   "outputs": [
    {
     "data": {
      "text/plain": [
       "[<h2 class=\"title\">\n",
       " <a href=\"https://www.opencodez.com/java/chain-of-responsibility-pattern.htm\" rel=\"bookmark\" title=\"Chain of Responsibility – Behavioral Design Pattern\">Chain of Responsibility – Behavioral Design Pattern</a>\n",
       " </h2>,\n",
       " <h2 class=\"title\">\n",
       " <a href=\"https://www.opencodez.com/java/flyweight-pattern.htm\" rel=\"bookmark\" title=\"Flyweight Pattern – Structural Design Pattern\">Flyweight Pattern – Structural Design Pattern</a>\n",
       " </h2>,\n",
       " <h2 class=\"title\">\n",
       " <a href=\"https://www.opencodez.com/software-testing/become-full-stack-qa-engineer.htm\" rel=\"bookmark\" title=\"What Is Full Stack QA or Tester? 4 Steps Guide For Beginners\">What Is Full Stack QA or Tester? 4 Steps Guide For Beginners</a>\n",
       " </h2>,\n",
       " <h2 class=\"title\">\n",
       " <a href=\"https://www.opencodez.com/it-lifestyle/7-highly-effective-ways-professionals-can-prepare-recession.htm\" rel=\"bookmark\" title=\"Recession 2020 -7 Highly Effective Ways IT Professionals Can Prepare\">Recession 2020 -7 Highly Effective Ways IT Professionals Can Prepare</a>\n",
       " </h2>,\n",
       " <h2 class=\"title\">\n",
       " <a href=\"https://www.opencodez.com/it-lifestyle/10-productivity-tips-for-working-from-home.htm\" rel=\"bookmark\" title=\"10 Productivity Tips For Working From Home (WFH) – Practical To Follow\">10 Productivity Tips For Working From Home (WFH) – Practical To Follow</a>\n",
       " </h2>,\n",
       " <h2 class=\"title\">\n",
       " <a href=\"https://www.opencodez.com/software-testing/complete-step-step-guide-gherkin-beginners.htm\" rel=\"bookmark\" title=\"Complete Step by Step Guide of Gherkin for Beginners\">Complete Step by Step Guide of Gherkin for Beginners</a>\n",
       " </h2>,\n",
       " <h2 class=\"title\">\n",
       " <a href=\"https://www.opencodez.com/how-to-guide/the-8-most-commonly-asked-hr-interview-questions.htm\" rel=\"bookmark\" title=\"Top 8 Most Commonly asked HR Interview Questions With Answers\">Top 8 Most Commonly asked HR Interview Questions With Answers</a>\n",
       " </h2>,\n",
       " <h2 class=\"title\">\n",
       " <a href=\"https://www.opencodez.com/software-testing/free-testing-artifacts-deliverables-template-to-download.htm\" rel=\"bookmark\" title=\"7 Free Testing Artifacts / Deliverables Template To Download\">7 Free Testing Artifacts / Deliverables Template To Download</a>\n",
       " </h2>,\n",
       " <h2 class=\"title\">\n",
       " <a href=\"https://www.opencodez.com/software-testing/test-cases-with-examples-free-test-case-template-to-download.htm\" rel=\"bookmark\" title=\"What is Test Case (TC), Examples with Free Template To Download\">What is Test Case (TC), Examples with Free Template To Download</a>\n",
       " </h2>,\n",
       " <h2 class=\"title\">\n",
       " <a href=\"https://www.opencodez.com/software-testing/test-data.htm\" rel=\"bookmark\" title=\"What is Test Data? Examples with Free Template to Download\">What is Test Data? Examples with Free Template to Download</a>\n",
       " </h2>,\n",
       " <h2 class=\"title\">\n",
       " <a href=\"https://www.opencodez.com/software-testing/what-is-test-scenario-template-with-examples.htm\" rel=\"bookmark\" title=\"What is Test Scenario? Template with Examples,Difference Between Test Scenario and Test Case\">What is Test Scenario? Template with Examples,Difference Between Test Scenario and Test Case</a>\n",
       " </h2>,\n",
       " <h2 class=\"title\">\n",
       " <a href=\"https://www.opencodez.com/software-testing/top-10-etl-testing-tools.htm\" rel=\"bookmark\" title=\"Top 10 ETL Testing Tools to Watch in 2020\">Top 10 ETL Testing Tools to Watch in 2020</a>\n",
       " </h2>,\n",
       " <h2 class=\"title\">\n",
       " <a href=\"https://www.opencodez.com/it-lifestyle/10-productivity-tips-for-working-from-home.htm\" rel=\"bookmark\" title=\"10 Productivity Tips For Working From Home (WFH) – Practical To Follow\">10 Productivity Tips For Working From Home (WFH) – Practical To Follow</a>\n",
       " </h2>,\n",
       " <h2 class=\"title\">\n",
       " <a href=\"https://www.opencodez.com/salesforce/introduction-force-com.htm\" rel=\"bookmark\" title=\"Salesforce Tutorial# 3: Introduction to Force.com\">Salesforce Tutorial# 3: Introduction to Force.com</a>\n",
       " </h2>,\n",
       " <h2 class=\"title\">\n",
       " <a href=\"https://www.opencodez.com/java/observer-design-pattern.htm\" rel=\"bookmark\" title=\"Java Behavioral Design Patterns – Observer Design Pattern\">Java Behavioral Design Patterns – Observer Design Pattern</a>\n",
       " </h2>,\n",
       " <h2 class=\"title\">\n",
       " <a href=\"https://www.opencodez.com/salesforce/data-management-salesforce.htm\" rel=\"bookmark\" title=\"Salesforce Tutorial# 11: Salesforce Data Management\">Salesforce Tutorial# 11: Salesforce Data Management</a>\n",
       " </h2>,\n",
       " <h2 class=\"title\">\n",
       " <a href=\"https://www.opencodez.com/react-native/react-native-props-and-state.htm\" rel=\"bookmark\" title=\"React Native:Tutorial #2 – React Native Props and State\">React Native:Tutorial #2 – React Native Props and State</a>\n",
       " </h2>,\n",
       " <h2 class=\"title\">\n",
       " <a href=\"https://www.opencodez.com/java/deeplearaning4j.htm\" rel=\"bookmark\" title=\"A Quick Easy Guide to Deep Learning with Java – Building Neural Network\">A Quick Easy Guide to Deep Learning with Java – Building Neural Network</a>\n",
       " </h2>,\n",
       " <h2 class=\"title\">\n",
       " <a href=\"https://www.opencodez.com/java/spring-boot-java-development-made-easy.htm\" rel=\"bookmark\" title=\"Spring Boot – Java Development Made Easy\">Spring Boot – Java Development Made Easy</a>\n",
       " </h2>,\n",
       " <h2 class=\"title\">\n",
       " <a href=\"https://www.opencodez.com/oracle/oracle-job-scheduler-guide-examples-part-1.htm\" rel=\"bookmark\" title=\"Oracle Job Scheduler Guide With Examples – Part 1\">Oracle Job Scheduler Guide With Examples – Part 1</a>\n",
       " </h2>,\n",
       " <h2 class=\"title\">\n",
       " <a href=\"https://www.opencodez.com/java/java-creational-design-patterns-builder-pattern.htm\" rel=\"bookmark\" title=\"Java Creational Design Patterns – Builder Pattern\">Java Creational Design Patterns – Builder Pattern</a>\n",
       " </h2>,\n",
       " <h2 class=\"title\">\n",
       " <a href=\"https://www.opencodez.com/web-development/web-scraping-using-beautiful-soup-part-1.htm\" rel=\"bookmark\" title=\"Web Scraping Using Beautiful Soup + Python – Tutorial Part 1\">Web Scraping Using Beautiful Soup + Python – Tutorial Part 1</a>\n",
       " </h2>]"
      ]
     },
     "execution_count": 76,
     "metadata": {},
     "output_type": "execute_result"
    }
   ],
   "source": [
    "posts_select"
   ]
  },
  {
   "cell_type": "code",
   "execution_count": 77,
   "metadata": {},
   "outputs": [
    {
     "data": {
      "text/plain": [
       "22"
      ]
     },
     "execution_count": 77,
     "metadata": {},
     "output_type": "execute_result"
    }
   ],
   "source": [
    "len(posts_select)"
   ]
  },
  {
   "cell_type": "code",
   "execution_count": 79,
   "metadata": {},
   "outputs": [
    {
     "data": {
      "text/plain": [
       "True"
      ]
     },
     "execution_count": 79,
     "metadata": {},
     "output_type": "execute_result"
    }
   ],
   "source": [
    "posts_all == postsAll == posts_select"
   ]
  },
  {
   "cell_type": "markdown",
   "metadata": {},
   "source": [
    "### Compare get_text() function vs. get attributes values"
   ]
  },
  {
   "cell_type": "markdown",
   "metadata": {},
   "source": [
    "###### First option"
   ]
  },
  {
   "cell_type": "code",
   "execution_count": 82,
   "metadata": {},
   "outputs": [
    {
     "data": {
      "text/plain": [
       "'Chain of Responsibility – Behavioral Design Pattern'"
      ]
     },
     "execution_count": 82,
     "metadata": {},
     "output_type": "execute_result"
    }
   ],
   "source": [
    "bs.find('h2', attrs = {'class':'title'}).find('a').get_text()"
   ]
  },
  {
   "cell_type": "markdown",
   "metadata": {},
   "source": [
    "###### Second option"
   ]
  },
  {
   "cell_type": "code",
   "execution_count": 85,
   "metadata": {},
   "outputs": [
    {
     "data": {
      "text/plain": [
       "'Chain of Responsibility – Behavioral Design Pattern'"
      ]
     },
     "execution_count": 85,
     "metadata": {},
     "output_type": "execute_result"
    }
   ],
   "source": [
    "bs.find('h2', attrs = {'class':'title'}).find('a').get('title')"
   ]
  },
  {
   "cell_type": "code",
   "execution_count": 89,
   "metadata": {},
   "outputs": [
    {
     "data": {
      "text/plain": [
       "'https://www.opencodez.com/java/chain-of-responsibility-pattern.htm'"
      ]
     },
     "execution_count": 89,
     "metadata": {},
     "output_type": "execute_result"
    }
   ],
   "source": [
    "bs.find('h2', attrs = {'class':'title'}).find('a').get('href')"
   ]
  },
  {
   "cell_type": "markdown",
   "metadata": {},
   "source": [
    "###### Third option"
   ]
  },
  {
   "cell_type": "code",
   "execution_count": 87,
   "metadata": {},
   "outputs": [
    {
     "data": {
      "text/plain": [
       "'Chain of Responsibility – Behavioral Design Pattern'"
      ]
     },
     "execution_count": 87,
     "metadata": {},
     "output_type": "execute_result"
    }
   ],
   "source": [
    "bs.find('h2', attrs = {'class':'title'}).find('a')['title']"
   ]
  },
  {
   "cell_type": "code",
   "execution_count": 91,
   "metadata": {},
   "outputs": [
    {
     "data": {
      "text/plain": [
       "'https://www.opencodez.com/java/chain-of-responsibility-pattern.htm'"
      ]
     },
     "execution_count": 91,
     "metadata": {},
     "output_type": "execute_result"
    }
   ],
   "source": [
    "bs.find('h2', attrs = {'class':'title'}).find('a')['href']"
   ]
  },
  {
   "cell_type": "markdown",
   "metadata": {},
   "source": [
    "# Good Luck ^-^"
   ]
  }
 ],
 "metadata": {
  "kernelspec": {
   "display_name": "Python 3",
   "language": "python",
   "name": "python3"
  },
  "language_info": {
   "codemirror_mode": {
    "name": "ipython",
    "version": 3
   },
   "file_extension": ".py",
   "mimetype": "text/x-python",
   "name": "python",
   "nbconvert_exporter": "python",
   "pygments_lexer": "ipython3",
   "version": "3.8.3"
  }
 },
 "nbformat": 4,
 "nbformat_minor": 5
}
